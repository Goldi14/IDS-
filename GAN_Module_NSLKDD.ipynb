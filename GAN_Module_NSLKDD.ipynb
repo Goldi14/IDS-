{
 "cells": [
  {
   "cell_type": "code",
   "execution_count": 1,
   "metadata": {
    "colab": {
     "base_uri": "https://localhost:8080/",
     "height": 35
    },
    "executionInfo": {
     "elapsed": 3733,
     "status": "ok",
     "timestamp": 1675491031198,
     "user": {
      "displayName": "Arpita Srivastava",
      "userId": "00636623162827386168"
     },
     "user_tz": -330
    },
    "id": "zfsfUCX7cUAP",
    "outputId": "873bc331-eea8-470a-b50f-8c93defb285e"
   },
   "outputs": [
    {
     "data": {
      "application/vnd.google.colaboratory.intrinsic+json": {
       "type": "string"
      },
      "text/plain": [
       "'/device:GPU:0'"
      ]
     },
     "execution_count": 1,
     "metadata": {},
     "output_type": "execute_result"
    }
   ],
   "source": [
    "import tensorflow as tf\n",
    "tf.test.gpu_device_name()"
   ]
  },
  {
   "cell_type": "code",
   "execution_count": 2,
   "metadata": {
    "executionInfo": {
     "elapsed": 5,
     "status": "ok",
     "timestamp": 1675491035358,
     "user": {
      "displayName": "Arpita Srivastava",
      "userId": "00636623162827386168"
     },
     "user_tz": -330
    },
    "id": "Ye0wLTvpRV9m"
   },
   "outputs": [],
   "source": [
    "# module imports\n",
    "import numpy as np \n",
    "import pandas as pd  \n",
    "import math\n",
    "import matplotlib.pyplot as plt\n",
    "import seaborn as sns\n",
    "import itertools\n",
    "import random"
   ]
  },
  {
   "cell_type": "code",
   "execution_count": 3,
   "metadata": {
    "executionInfo": {
     "elapsed": 5,
     "status": "ok",
     "timestamp": 1675491037281,
     "user": {
      "displayName": "Arpita Srivastava",
      "userId": "00636623162827386168"
     },
     "user_tz": -330
    },
    "id": "fvwOZsPcRn7S"
   },
   "outputs": [],
   "source": [
    "# model imports\n",
    "import tensorflow as tf\n",
    "import keras\n",
    "# processing imports\n",
    "from sklearn.preprocessing import LabelEncoder\n",
    "from sklearn.model_selection import train_test_split\n",
    "from sklearn.model_selection import cross_val_score\n",
    "from sklearn.preprocessing import StandardScaler, MinMaxScaler\n",
    "from sklearn.preprocessing import LabelEncoder,OrdinalEncoder\n",
    "from sklearn.feature_selection import SelectKBest\n",
    "from sklearn.feature_selection import chi2,f_classif\n",
    "from sklearn.  feature_selection import RFECV\n",
    "from sklearn.metrics import mean_absolute_error\n",
    "from sklearn.metrics import accuracy_score\n",
    "from sklearn.metrics import confusion_matrix\n",
    "from sklearn.metrics import classification_report\n",
    "from scipy.stats import zscore"
   ]
  },
  {
   "cell_type": "code",
   "execution_count": 4,
   "metadata": {
    "colab": {
     "base_uri": "https://localhost:8080/"
    },
    "executionInfo": {
     "elapsed": 37825,
     "status": "ok",
     "timestamp": 1675491077482,
     "user": {
      "displayName": "Arpita Srivastava",
      "userId": "00636623162827386168"
     },
     "user_tz": -330
    },
    "id": "C-YZzV5lRpyz",
    "outputId": "66412e6f-c603-4672-8f58-1c9cdcdf226e"
   },
   "outputs": [
    {
     "name": "stdout",
     "output_type": "stream",
     "text": [
      "Mounted at /content/drive\n"
     ]
    }
   ],
   "source": [
    "#Mounting google drive\n",
    "from google.colab import drive\n",
    "drive.mount('/content/drive')"
   ]
  },
  {
   "cell_type": "code",
   "execution_count": 5,
   "metadata": {
    "executionInfo": {
     "elapsed": 3993,
     "status": "ok",
     "timestamp": 1675491317068,
     "user": {
      "displayName": "Arpita Srivastava",
      "userId": "00636623162827386168"
     },
     "user_tz": -330
    },
    "id": "rvlapo4_R1Z1"
   },
   "outputs": [],
   "source": [
    "# Reading datasets\n",
    "test_df = pd.read_csv('/content/drive/MyDrive/NSLKDD_Arpita/NSL_KDD-master/KDDTest+.csv',header=None)\n",
    "train_df = pd.read_csv('/content/drive/MyDrive/NSLKDD_Arpita/NSL_KDD-master/KDDTrain+.csv',header=None)\n",
    "attackdf = pd.read_excel('/content/drive/MyDrive/NSLKDD_Arpita/NSL_KDD-master/Attack Types.xlsx',header=None)"
   ]
  },
  {
   "cell_type": "code",
   "execution_count": 6,
   "metadata": {
    "executionInfo": {
     "elapsed": 4,
     "status": "ok",
     "timestamp": 1675491320087,
     "user": {
      "displayName": "Arpita Srivastava",
      "userId": "00636623162827386168"
     },
     "user_tz": -330
    },
    "id": "BR9Y_dfKvCRC"
   },
   "outputs": [],
   "source": [
    "label_dict = {}\n",
    "for row in attackdf.to_numpy():\n",
    "  label_dict[row[0]] = row[1]"
   ]
  },
  {
   "cell_type": "code",
   "execution_count": 7,
   "metadata": {
    "colab": {
     "base_uri": "https://localhost:8080/"
    },
    "executionInfo": {
     "elapsed": 14,
     "status": "ok",
     "timestamp": 1675491322920,
     "user": {
      "displayName": "Arpita Srivastava",
      "userId": "00636623162827386168"
     },
     "user_tz": -330
    },
    "id": "lS9CS8S1vtD4",
    "outputId": "5635fa24-d061-436d-cde1-e8be089892b1"
   },
   "outputs": [
    {
     "name": "stdout",
     "output_type": "stream",
     "text": [
      "{'back': 'dos', 'buffer_overflow': 'u2r', 'ftp_write': 'r2l', 'guess_passwd': 'r2l', 'imap': 'r2l', 'ipsweep': 'probe', 'land': 'dos', 'loadmodule': 'u2r', 'multihop': 'r2l', 'neptune': 'dos', 'nmap': 'probe', 'perl': 'u2r', 'phf': 'r2l', 'pod': 'dos', 'portsweep': 'probe', 'rootkit': 'u2r', 'satan': 'probe', 'smurf': 'dos', 'spy': 'r2l', 'teardrop': 'dos', 'warezclient': 'r2l', 'warezmaster': 'r2l', 'normal': 'normal', 'unknown': 'unknown', 'apache2': 'dos', 'mailbomb': 'dos', 'processtable': 'dos', 'udpstorm': 'dos', 'named': 'r2l', 'sendmail': 'r2l', 'snmpgetattack': 'r2l', 'snmpguess': 'r2l', 'worm': 'r2l', 'xsnoop': 'r2l', 'xlock': 'r2l', 'httptunnel': 'u2r', 'xterm': 'u2r', 'ps': 'u2r', 'sqlattack': 'u2r', 'saint': 'probe', 'mscan': 'probe'}\n"
     ]
    }
   ],
   "source": [
    "print(label_dict)"
   ]
  },
  {
   "cell_type": "code",
   "execution_count": 8,
   "metadata": {
    "executionInfo": {
     "elapsed": 5,
     "status": "ok",
     "timestamp": 1675491323671,
     "user": {
      "displayName": "Arpita Srivastava",
      "userId": "00636623162827386168"
     },
     "user_tz": -330
    },
    "id": "MRN-ehpUSHWf"
   },
   "outputs": [],
   "source": [
    "#column name\n",
    "columns = ['duration'\n",
    ",'protocol_type'\n",
    ",'service'\n",
    ",'flag'\n",
    ",'src_bytes'\n",
    ",'dst_bytes'\n",
    ",'land'\n",
    ",'wrong_fragment'\n",
    ",'urgent'\n",
    ",'hot'\n",
    ",'num_failed_logins'\n",
    ",'logged_in'\n",
    ",'num_compromised'\n",
    ",'root_shell'\n",
    ",'su_attempted'\n",
    ",'num_root'\n",
    ",'num_file_creations'\n",
    ",'num_shells'\n",
    ",'num_access_files'\n",
    ",'num_outbound_cmds'\n",
    ",'is_host_login'\n",
    ",'is_guest_login'\n",
    ",'count'\n",
    ",'srv_count'\n",
    ",'serror_rate'\n",
    ",'srv_serror_rate'\n",
    ",'rerror_rate'\n",
    ",'srv_rerror_rate'\n",
    ",'same_srv_rate'\n",
    ",'diff_srv_rate'\n",
    ",'srv_diff_host_rate'\n",
    ",'dst_host_count'\n",
    ",'dst_host_srv_count'\n",
    ",'dst_host_same_srv_rate'\n",
    ",'dst_host_diff_srv_rate'\n",
    ",'dst_host_same_src_port_rate'\n",
    ",'dst_host_srv_diff_host_rate'\n",
    ",'dst_host_serror_rate'\n",
    ",'dst_host_srv_serror_rate'\n",
    ",'dst_host_rerror_rate'\n",
    ",'dst_host_srv_rerror_rate'\n",
    ",'attack'\n",
    ",'level']"
   ]
  },
  {
   "cell_type": "code",
   "execution_count": 9,
   "metadata": {
    "executionInfo": {
     "elapsed": 2,
     "status": "ok",
     "timestamp": 1675491329224,
     "user": {
      "displayName": "Arpita Srivastava",
      "userId": "00636623162827386168"
     },
     "user_tz": -330
    },
    "id": "bsV7nd2IS-YZ"
   },
   "outputs": [],
   "source": [
    "train_df.columns = columns\n",
    "test_df.columns = columns"
   ]
  },
  {
   "cell_type": "code",
   "execution_count": 10,
   "metadata": {
    "colab": {
     "base_uri": "https://localhost:8080/"
    },
    "executionInfo": {
     "elapsed": 8,
     "status": "ok",
     "timestamp": 1675491330207,
     "user": {
      "displayName": "Arpita Srivastava",
      "userId": "00636623162827386168"
     },
     "user_tz": -330
    },
    "id": "MRuTEn3gTB84",
    "outputId": "a6972167-566a-4faa-a870-80930444d9ae"
   },
   "outputs": [
    {
     "name": "stdout",
     "output_type": "stream",
     "text": [
      "Training samples:  125973\n",
      "Testing samples:  22543\n"
     ]
    }
   ],
   "source": [
    "trainsamples = train_df.shape[0]\n",
    "testsamples = test_df.shape[0]\n",
    "print(\"Training samples: \",trainsamples)\n",
    "print(\"Testing samples: \",testsamples)"
   ]
  },
  {
   "cell_type": "code",
   "execution_count": 11,
   "metadata": {
    "colab": {
     "base_uri": "https://localhost:8080/"
    },
    "executionInfo": {
     "elapsed": 5,
     "status": "ok",
     "timestamp": 1675491331957,
     "user": {
      "displayName": "Arpita Srivastava",
      "userId": "00636623162827386168"
     },
     "user_tz": -330
    },
    "id": "FvdmuehTcIYD",
    "outputId": "cac59b5a-a26b-4496-b52c-d4a0d5b68ad7"
   },
   "outputs": [
    {
     "data": {
      "text/plain": [
       "(148516, 43)"
      ]
     },
     "execution_count": 11,
     "metadata": {},
     "output_type": "execute_result"
    }
   ],
   "source": [
    "train_df = pd.concat([train_df,test_df],axis = 0)\n",
    "train_df.shape"
   ]
  },
  {
   "cell_type": "code",
   "execution_count": 12,
   "metadata": {
    "colab": {
     "base_uri": "https://localhost:8080/"
    },
    "executionInfo": {
     "elapsed": 2,
     "status": "ok",
     "timestamp": 1675491332712,
     "user": {
      "displayName": "Arpita Srivastava",
      "userId": "00636623162827386168"
     },
     "user_tz": -330
    },
    "id": "5a_P4omyTPk-",
    "outputId": "f0784243-e561-49ce-e7e2-5be2175a0c1e"
   },
   "outputs": [
    {
     "data": {
      "text/plain": [
       "(148516, 43)"
      ]
     },
     "execution_count": 12,
     "metadata": {},
     "output_type": "execute_result"
    }
   ],
   "source": [
    "train_df.reset_index(drop=True,inplace=True)\n",
    "train_df.shape"
   ]
  },
  {
   "cell_type": "code",
   "execution_count": 13,
   "metadata": {
    "colab": {
     "base_uri": "https://localhost:8080/",
     "height": 317
    },
    "executionInfo": {
     "elapsed": 13,
     "status": "ok",
     "timestamp": 1675491334590,
     "user": {
      "displayName": "Arpita Srivastava",
      "userId": "00636623162827386168"
     },
     "user_tz": -330
    },
    "id": "r_-zY49S8HwH",
    "outputId": "44f0fb36-8d7f-425e-e41b-20c5cc3194be"
   },
   "outputs": [
    {
     "name": "stdout",
     "output_type": "stream",
     "text": [
      "(148516, 43)\n"
     ]
    },
    {
     "data": {
      "text/html": [
       "\n",
       "  <div id=\"df-24944fe2-34ad-4d0e-96d9-f1a6d09f2e78\">\n",
       "    <div class=\"colab-df-container\">\n",
       "      <div>\n",
       "<style scoped>\n",
       "    .dataframe tbody tr th:only-of-type {\n",
       "        vertical-align: middle;\n",
       "    }\n",
       "\n",
       "    .dataframe tbody tr th {\n",
       "        vertical-align: top;\n",
       "    }\n",
       "\n",
       "    .dataframe thead th {\n",
       "        text-align: right;\n",
       "    }\n",
       "</style>\n",
       "<table border=\"1\" class=\"dataframe\">\n",
       "  <thead>\n",
       "    <tr style=\"text-align: right;\">\n",
       "      <th></th>\n",
       "      <th>duration</th>\n",
       "      <th>protocol_type</th>\n",
       "      <th>service</th>\n",
       "      <th>flag</th>\n",
       "      <th>src_bytes</th>\n",
       "      <th>dst_bytes</th>\n",
       "      <th>land</th>\n",
       "      <th>wrong_fragment</th>\n",
       "      <th>urgent</th>\n",
       "      <th>hot</th>\n",
       "      <th>...</th>\n",
       "      <th>dst_host_same_srv_rate</th>\n",
       "      <th>dst_host_diff_srv_rate</th>\n",
       "      <th>dst_host_same_src_port_rate</th>\n",
       "      <th>dst_host_srv_diff_host_rate</th>\n",
       "      <th>dst_host_serror_rate</th>\n",
       "      <th>dst_host_srv_serror_rate</th>\n",
       "      <th>dst_host_rerror_rate</th>\n",
       "      <th>dst_host_srv_rerror_rate</th>\n",
       "      <th>attack</th>\n",
       "      <th>level</th>\n",
       "    </tr>\n",
       "  </thead>\n",
       "  <tbody>\n",
       "    <tr>\n",
       "      <th>0</th>\n",
       "      <td>0</td>\n",
       "      <td>tcp</td>\n",
       "      <td>ftp_data</td>\n",
       "      <td>SF</td>\n",
       "      <td>491</td>\n",
       "      <td>0</td>\n",
       "      <td>0</td>\n",
       "      <td>0</td>\n",
       "      <td>0</td>\n",
       "      <td>0</td>\n",
       "      <td>...</td>\n",
       "      <td>0.17</td>\n",
       "      <td>0.03</td>\n",
       "      <td>0.17</td>\n",
       "      <td>0.00</td>\n",
       "      <td>0.00</td>\n",
       "      <td>0.00</td>\n",
       "      <td>0.05</td>\n",
       "      <td>0.00</td>\n",
       "      <td>normal</td>\n",
       "      <td>20</td>\n",
       "    </tr>\n",
       "    <tr>\n",
       "      <th>1</th>\n",
       "      <td>0</td>\n",
       "      <td>udp</td>\n",
       "      <td>other</td>\n",
       "      <td>SF</td>\n",
       "      <td>146</td>\n",
       "      <td>0</td>\n",
       "      <td>0</td>\n",
       "      <td>0</td>\n",
       "      <td>0</td>\n",
       "      <td>0</td>\n",
       "      <td>...</td>\n",
       "      <td>0.00</td>\n",
       "      <td>0.60</td>\n",
       "      <td>0.88</td>\n",
       "      <td>0.00</td>\n",
       "      <td>0.00</td>\n",
       "      <td>0.00</td>\n",
       "      <td>0.00</td>\n",
       "      <td>0.00</td>\n",
       "      <td>normal</td>\n",
       "      <td>15</td>\n",
       "    </tr>\n",
       "    <tr>\n",
       "      <th>2</th>\n",
       "      <td>0</td>\n",
       "      <td>tcp</td>\n",
       "      <td>private</td>\n",
       "      <td>S0</td>\n",
       "      <td>0</td>\n",
       "      <td>0</td>\n",
       "      <td>0</td>\n",
       "      <td>0</td>\n",
       "      <td>0</td>\n",
       "      <td>0</td>\n",
       "      <td>...</td>\n",
       "      <td>0.10</td>\n",
       "      <td>0.05</td>\n",
       "      <td>0.00</td>\n",
       "      <td>0.00</td>\n",
       "      <td>1.00</td>\n",
       "      <td>1.00</td>\n",
       "      <td>0.00</td>\n",
       "      <td>0.00</td>\n",
       "      <td>neptune</td>\n",
       "      <td>19</td>\n",
       "    </tr>\n",
       "    <tr>\n",
       "      <th>3</th>\n",
       "      <td>0</td>\n",
       "      <td>tcp</td>\n",
       "      <td>http</td>\n",
       "      <td>SF</td>\n",
       "      <td>232</td>\n",
       "      <td>8153</td>\n",
       "      <td>0</td>\n",
       "      <td>0</td>\n",
       "      <td>0</td>\n",
       "      <td>0</td>\n",
       "      <td>...</td>\n",
       "      <td>1.00</td>\n",
       "      <td>0.00</td>\n",
       "      <td>0.03</td>\n",
       "      <td>0.04</td>\n",
       "      <td>0.03</td>\n",
       "      <td>0.01</td>\n",
       "      <td>0.00</td>\n",
       "      <td>0.01</td>\n",
       "      <td>normal</td>\n",
       "      <td>21</td>\n",
       "    </tr>\n",
       "    <tr>\n",
       "      <th>4</th>\n",
       "      <td>0</td>\n",
       "      <td>tcp</td>\n",
       "      <td>http</td>\n",
       "      <td>SF</td>\n",
       "      <td>199</td>\n",
       "      <td>420</td>\n",
       "      <td>0</td>\n",
       "      <td>0</td>\n",
       "      <td>0</td>\n",
       "      <td>0</td>\n",
       "      <td>...</td>\n",
       "      <td>1.00</td>\n",
       "      <td>0.00</td>\n",
       "      <td>0.00</td>\n",
       "      <td>0.00</td>\n",
       "      <td>0.00</td>\n",
       "      <td>0.00</td>\n",
       "      <td>0.00</td>\n",
       "      <td>0.00</td>\n",
       "      <td>normal</td>\n",
       "      <td>21</td>\n",
       "    </tr>\n",
       "  </tbody>\n",
       "</table>\n",
       "<p>5 rows × 43 columns</p>\n",
       "</div>\n",
       "      <button class=\"colab-df-convert\" onclick=\"convertToInteractive('df-24944fe2-34ad-4d0e-96d9-f1a6d09f2e78')\"\n",
       "              title=\"Convert this dataframe to an interactive table.\"\n",
       "              style=\"display:none;\">\n",
       "        \n",
       "  <svg xmlns=\"http://www.w3.org/2000/svg\" height=\"24px\"viewBox=\"0 0 24 24\"\n",
       "       width=\"24px\">\n",
       "    <path d=\"M0 0h24v24H0V0z\" fill=\"none\"/>\n",
       "    <path d=\"M18.56 5.44l.94 2.06.94-2.06 2.06-.94-2.06-.94-.94-2.06-.94 2.06-2.06.94zm-11 1L8.5 8.5l.94-2.06 2.06-.94-2.06-.94L8.5 2.5l-.94 2.06-2.06.94zm10 10l.94 2.06.94-2.06 2.06-.94-2.06-.94-.94-2.06-.94 2.06-2.06.94z\"/><path d=\"M17.41 7.96l-1.37-1.37c-.4-.4-.92-.59-1.43-.59-.52 0-1.04.2-1.43.59L10.3 9.45l-7.72 7.72c-.78.78-.78 2.05 0 2.83L4 21.41c.39.39.9.59 1.41.59.51 0 1.02-.2 1.41-.59l7.78-7.78 2.81-2.81c.8-.78.8-2.07 0-2.86zM5.41 20L4 18.59l7.72-7.72 1.47 1.35L5.41 20z\"/>\n",
       "  </svg>\n",
       "      </button>\n",
       "      \n",
       "  <style>\n",
       "    .colab-df-container {\n",
       "      display:flex;\n",
       "      flex-wrap:wrap;\n",
       "      gap: 12px;\n",
       "    }\n",
       "\n",
       "    .colab-df-convert {\n",
       "      background-color: #E8F0FE;\n",
       "      border: none;\n",
       "      border-radius: 50%;\n",
       "      cursor: pointer;\n",
       "      display: none;\n",
       "      fill: #1967D2;\n",
       "      height: 32px;\n",
       "      padding: 0 0 0 0;\n",
       "      width: 32px;\n",
       "    }\n",
       "\n",
       "    .colab-df-convert:hover {\n",
       "      background-color: #E2EBFA;\n",
       "      box-shadow: 0px 1px 2px rgba(60, 64, 67, 0.3), 0px 1px 3px 1px rgba(60, 64, 67, 0.15);\n",
       "      fill: #174EA6;\n",
       "    }\n",
       "\n",
       "    [theme=dark] .colab-df-convert {\n",
       "      background-color: #3B4455;\n",
       "      fill: #D2E3FC;\n",
       "    }\n",
       "\n",
       "    [theme=dark] .colab-df-convert:hover {\n",
       "      background-color: #434B5C;\n",
       "      box-shadow: 0px 1px 3px 1px rgba(0, 0, 0, 0.15);\n",
       "      filter: drop-shadow(0px 1px 2px rgba(0, 0, 0, 0.3));\n",
       "      fill: #FFFFFF;\n",
       "    }\n",
       "  </style>\n",
       "\n",
       "      <script>\n",
       "        const buttonEl =\n",
       "          document.querySelector('#df-24944fe2-34ad-4d0e-96d9-f1a6d09f2e78 button.colab-df-convert');\n",
       "        buttonEl.style.display =\n",
       "          google.colab.kernel.accessAllowed ? 'block' : 'none';\n",
       "\n",
       "        async function convertToInteractive(key) {\n",
       "          const element = document.querySelector('#df-24944fe2-34ad-4d0e-96d9-f1a6d09f2e78');\n",
       "          const dataTable =\n",
       "            await google.colab.kernel.invokeFunction('convertToInteractive',\n",
       "                                                     [key], {});\n",
       "          if (!dataTable) return;\n",
       "\n",
       "          const docLinkHtml = 'Like what you see? Visit the ' +\n",
       "            '<a target=\"_blank\" href=https://colab.research.google.com/notebooks/data_table.ipynb>data table notebook</a>'\n",
       "            + ' to learn more about interactive tables.';\n",
       "          element.innerHTML = '';\n",
       "          dataTable['output_type'] = 'display_data';\n",
       "          await google.colab.output.renderOutput(dataTable, element);\n",
       "          const docLink = document.createElement('div');\n",
       "          docLink.innerHTML = docLinkHtml;\n",
       "          element.appendChild(docLink);\n",
       "        }\n",
       "      </script>\n",
       "    </div>\n",
       "  </div>\n",
       "  "
      ],
      "text/plain": [
       "   duration protocol_type   service flag  src_bytes  dst_bytes  land  \\\n",
       "0         0           tcp  ftp_data   SF        491          0     0   \n",
       "1         0           udp     other   SF        146          0     0   \n",
       "2         0           tcp   private   S0          0          0     0   \n",
       "3         0           tcp      http   SF        232       8153     0   \n",
       "4         0           tcp      http   SF        199        420     0   \n",
       "\n",
       "   wrong_fragment  urgent  hot  ...  dst_host_same_srv_rate  \\\n",
       "0               0       0    0  ...                    0.17   \n",
       "1               0       0    0  ...                    0.00   \n",
       "2               0       0    0  ...                    0.10   \n",
       "3               0       0    0  ...                    1.00   \n",
       "4               0       0    0  ...                    1.00   \n",
       "\n",
       "   dst_host_diff_srv_rate  dst_host_same_src_port_rate  \\\n",
       "0                    0.03                         0.17   \n",
       "1                    0.60                         0.88   \n",
       "2                    0.05                         0.00   \n",
       "3                    0.00                         0.03   \n",
       "4                    0.00                         0.00   \n",
       "\n",
       "   dst_host_srv_diff_host_rate  dst_host_serror_rate  \\\n",
       "0                         0.00                  0.00   \n",
       "1                         0.00                  0.00   \n",
       "2                         0.00                  1.00   \n",
       "3                         0.04                  0.03   \n",
       "4                         0.00                  0.00   \n",
       "\n",
       "   dst_host_srv_serror_rate  dst_host_rerror_rate  dst_host_srv_rerror_rate  \\\n",
       "0                      0.00                  0.05                      0.00   \n",
       "1                      0.00                  0.00                      0.00   \n",
       "2                      1.00                  0.00                      0.00   \n",
       "3                      0.01                  0.00                      0.01   \n",
       "4                      0.00                  0.00                      0.00   \n",
       "\n",
       "    attack  level  \n",
       "0   normal     20  \n",
       "1   normal     15  \n",
       "2  neptune     19  \n",
       "3   normal     21  \n",
       "4   normal     21  \n",
       "\n",
       "[5 rows x 43 columns]"
      ]
     },
     "execution_count": 13,
     "metadata": {},
     "output_type": "execute_result"
    }
   ],
   "source": [
    "print(train_df.shape)\n",
    "train_df.head()"
   ]
  },
  {
   "cell_type": "code",
   "execution_count": 14,
   "metadata": {
    "executionInfo": {
     "elapsed": 688,
     "status": "ok",
     "timestamp": 1675491340527,
     "user": {
      "displayName": "Arpita Srivastava",
      "userId": "00636623162827386168"
     },
     "user_tz": -330
    },
    "id": "W5Hyfb0h0dDJ"
   },
   "outputs": [],
   "source": [
    "# Map attack labels\n",
    "train_df['attack'] = train_df['attack'].map(lambda x: label_dict[x])"
   ]
  },
  {
   "cell_type": "code",
   "execution_count": 15,
   "metadata": {
    "executionInfo": {
     "elapsed": 2,
     "status": "ok",
     "timestamp": 1675491341276,
     "user": {
      "displayName": "Arpita Srivastava",
      "userId": "00636623162827386168"
     },
     "user_tz": -330
    },
    "id": "Dpbo9D7VEtpy"
   },
   "outputs": [],
   "source": [
    "attack_s = train_df.iloc[:trainsamples,:]['attack']"
   ]
  },
  {
   "cell_type": "code",
   "execution_count": 16,
   "metadata": {
    "colab": {
     "base_uri": "https://localhost:8080/"
    },
    "executionInfo": {
     "elapsed": 7,
     "status": "ok",
     "timestamp": 1675491344751,
     "user": {
      "displayName": "Arpita Srivastava",
      "userId": "00636623162827386168"
     },
     "user_tz": -330
    },
    "id": "WvdSuAIZ5eu6",
    "outputId": "4c1923c5-87af-4984-e755-d04ea204cf3d"
   },
   "outputs": [
    {
     "data": {
      "text/plain": [
       "0         normal\n",
       "1         normal\n",
       "2            dos\n",
       "3         normal\n",
       "4         normal\n",
       "           ...  \n",
       "125968       dos\n",
       "125969    normal\n",
       "125970    normal\n",
       "125971       dos\n",
       "125972    normal\n",
       "Name: attack, Length: 125973, dtype: object"
      ]
     },
     "execution_count": 16,
     "metadata": {},
     "output_type": "execute_result"
    }
   ],
   "source": [
    "attack_s"
   ]
  },
  {
   "cell_type": "code",
   "execution_count": 17,
   "metadata": {
    "colab": {
     "base_uri": "https://localhost:8080/"
    },
    "executionInfo": {
     "elapsed": 9,
     "status": "ok",
     "timestamp": 1675491347783,
     "user": {
      "displayName": "Arpita Srivastava",
      "userId": "00636623162827386168"
     },
     "user_tz": -330
    },
    "id": "PYEHvx7_TUgQ",
    "outputId": "ec9210f7-4e95-48dc-8f20-3a65d1fa8c8e"
   },
   "outputs": [
    {
     "name": "stdout",
     "output_type": "stream",
     "text": [
      "<class 'pandas.core.frame.DataFrame'>\n",
      "RangeIndex: 148516 entries, 0 to 148515\n",
      "Data columns (total 43 columns):\n",
      " #   Column                       Non-Null Count   Dtype  \n",
      "---  ------                       --------------   -----  \n",
      " 0   duration                     148516 non-null  int64  \n",
      " 1   protocol_type                148516 non-null  object \n",
      " 2   service                      148516 non-null  object \n",
      " 3   flag                         148516 non-null  object \n",
      " 4   src_bytes                    148516 non-null  int64  \n",
      " 5   dst_bytes                    148516 non-null  int64  \n",
      " 6   land                         148516 non-null  int64  \n",
      " 7   wrong_fragment               148516 non-null  int64  \n",
      " 8   urgent                       148516 non-null  int64  \n",
      " 9   hot                          148516 non-null  int64  \n",
      " 10  num_failed_logins            148516 non-null  int64  \n",
      " 11  logged_in                    148516 non-null  int64  \n",
      " 12  num_compromised              148516 non-null  int64  \n",
      " 13  root_shell                   148516 non-null  int64  \n",
      " 14  su_attempted                 148516 non-null  int64  \n",
      " 15  num_root                     148516 non-null  int64  \n",
      " 16  num_file_creations           148516 non-null  int64  \n",
      " 17  num_shells                   148516 non-null  int64  \n",
      " 18  num_access_files             148516 non-null  int64  \n",
      " 19  num_outbound_cmds            148516 non-null  int64  \n",
      " 20  is_host_login                148516 non-null  int64  \n",
      " 21  is_guest_login               148516 non-null  int64  \n",
      " 22  count                        148516 non-null  int64  \n",
      " 23  srv_count                    148516 non-null  int64  \n",
      " 24  serror_rate                  148516 non-null  float64\n",
      " 25  srv_serror_rate              148516 non-null  float64\n",
      " 26  rerror_rate                  148516 non-null  float64\n",
      " 27  srv_rerror_rate              148516 non-null  float64\n",
      " 28  same_srv_rate                148516 non-null  float64\n",
      " 29  diff_srv_rate                148516 non-null  float64\n",
      " 30  srv_diff_host_rate           148516 non-null  float64\n",
      " 31  dst_host_count               148516 non-null  int64  \n",
      " 32  dst_host_srv_count           148516 non-null  int64  \n",
      " 33  dst_host_same_srv_rate       148516 non-null  float64\n",
      " 34  dst_host_diff_srv_rate       148516 non-null  float64\n",
      " 35  dst_host_same_src_port_rate  148516 non-null  float64\n",
      " 36  dst_host_srv_diff_host_rate  148516 non-null  float64\n",
      " 37  dst_host_serror_rate         148516 non-null  float64\n",
      " 38  dst_host_srv_serror_rate     148516 non-null  float64\n",
      " 39  dst_host_rerror_rate         148516 non-null  float64\n",
      " 40  dst_host_srv_rerror_rate     148516 non-null  float64\n",
      " 41  attack                       148516 non-null  object \n",
      " 42  level                        148516 non-null  int64  \n",
      "dtypes: float64(15), int64(24), object(4)\n",
      "memory usage: 48.7+ MB\n"
     ]
    }
   ],
   "source": [
    "# dataset statistics\n",
    "train_df.info()"
   ]
  },
  {
   "cell_type": "code",
   "execution_count": 18,
   "metadata": {
    "colab": {
     "base_uri": "https://localhost:8080/"
    },
    "executionInfo": {
     "elapsed": 744,
     "status": "ok",
     "timestamp": 1675491353419,
     "user": {
      "displayName": "Arpita Srivastava",
      "userId": "00636623162827386168"
     },
     "user_tz": -330
    },
    "id": "z6RXwYyOUnzO",
    "outputId": "41e4b1cc-c3a8-4470-9635-7f896bfa290e"
   },
   "outputs": [
    {
     "data": {
      "text/plain": [
       "duration                       0\n",
       "protocol_type                  0\n",
       "service                        0\n",
       "flag                           0\n",
       "src_bytes                      0\n",
       "dst_bytes                      0\n",
       "land                           0\n",
       "wrong_fragment                 0\n",
       "urgent                         0\n",
       "hot                            0\n",
       "num_failed_logins              0\n",
       "logged_in                      0\n",
       "num_compromised                0\n",
       "root_shell                     0\n",
       "su_attempted                   0\n",
       "num_root                       0\n",
       "num_file_creations             0\n",
       "num_shells                     0\n",
       "num_access_files               0\n",
       "num_outbound_cmds              0\n",
       "is_host_login                  0\n",
       "is_guest_login                 0\n",
       "count                          0\n",
       "srv_count                      0\n",
       "serror_rate                    0\n",
       "srv_serror_rate                0\n",
       "rerror_rate                    0\n",
       "srv_rerror_rate                0\n",
       "same_srv_rate                  0\n",
       "diff_srv_rate                  0\n",
       "srv_diff_host_rate             0\n",
       "dst_host_count                 0\n",
       "dst_host_srv_count             0\n",
       "dst_host_same_srv_rate         0\n",
       "dst_host_diff_srv_rate         0\n",
       "dst_host_same_src_port_rate    0\n",
       "dst_host_srv_diff_host_rate    0\n",
       "dst_host_serror_rate           0\n",
       "dst_host_srv_serror_rate       0\n",
       "dst_host_rerror_rate           0\n",
       "dst_host_srv_rerror_rate       0\n",
       "attack                         0\n",
       "level                          0\n",
       "dtype: int64"
      ]
     },
     "execution_count": 18,
     "metadata": {},
     "output_type": "execute_result"
    }
   ],
   "source": [
    "# count of Null values\n",
    "train_df.isnull().sum()"
   ]
  },
  {
   "cell_type": "code",
   "execution_count": 19,
   "metadata": {
    "colab": {
     "base_uri": "https://localhost:8080/"
    },
    "executionInfo": {
     "elapsed": 998,
     "status": "ok",
     "timestamp": 1675491358654,
     "user": {
      "displayName": "Arpita Srivastava",
      "userId": "00636623162827386168"
     },
     "user_tz": -330
    },
    "id": "Xr5R0EZbUu6Z",
    "outputId": "7938c72a-a10e-4511-d1c8-4c341cb99dd2"
   },
   "outputs": [
    {
     "data": {
      "text/plain": [
       "['normal', 'dos', 'r2l', 'probe', 'u2r']"
      ]
     },
     "execution_count": 19,
     "metadata": {},
     "output_type": "execute_result"
    }
   ],
   "source": [
    "# All attack labels\n",
    "train_df['attack'].unique().tolist()"
   ]
  },
  {
   "cell_type": "code",
   "execution_count": 20,
   "metadata": {
    "colab": {
     "base_uri": "https://localhost:8080/"
    },
    "executionInfo": {
     "elapsed": 5,
     "status": "ok",
     "timestamp": 1675491359638,
     "user": {
      "displayName": "Arpita Srivastava",
      "userId": "00636623162827386168"
     },
     "user_tz": -330
    },
    "id": "ffYl0IPzU_L8",
    "outputId": "083016e3-45ec-4d1b-9898-296011252c42"
   },
   "outputs": [
    {
     "data": {
      "text/plain": [
       "['tcp', 'udp', 'icmp']"
      ]
     },
     "execution_count": 20,
     "metadata": {},
     "output_type": "execute_result"
    }
   ],
   "source": [
    "# All protocl labels\n",
    "train_df['protocol_type'].unique().tolist()"
   ]
  },
  {
   "cell_type": "code",
   "execution_count": 21,
   "metadata": {
    "colab": {
     "base_uri": "https://localhost:8080/"
    },
    "executionInfo": {
     "elapsed": 22,
     "status": "ok",
     "timestamp": 1675491363505,
     "user": {
      "displayName": "Arpita Srivastava",
      "userId": "00636623162827386168"
     },
     "user_tz": -330
    },
    "id": "OVbVU-WAWDf1",
    "outputId": "1e3533c7-738a-4322-84b0-0e08c6a48044"
   },
   "outputs": [
    {
     "data": {
      "text/plain": [
       "['SF', 'S0', 'REJ', 'RSTR', 'SH', 'RSTO', 'S1', 'RSTOS0', 'S3', 'S2', 'OTH']"
      ]
     },
     "execution_count": 21,
     "metadata": {},
     "output_type": "execute_result"
    }
   ],
   "source": [
    "# All flag labels\n",
    "train_df['flag'].unique().tolist()"
   ]
  },
  {
   "cell_type": "code",
   "execution_count": 22,
   "metadata": {
    "colab": {
     "base_uri": "https://localhost:8080/"
    },
    "executionInfo": {
     "elapsed": 19,
     "status": "ok",
     "timestamp": 1675491363508,
     "user": {
      "displayName": "Arpita Srivastava",
      "userId": "00636623162827386168"
     },
     "user_tz": -330
    },
    "id": "VHAjJFGXWPqd",
    "outputId": "b1b74d52-345a-4628-fa6c-1c49c2980a64"
   },
   "outputs": [
    {
     "data": {
      "text/plain": [
       "['ftp_data',\n",
       " 'other',\n",
       " 'private',\n",
       " 'http',\n",
       " 'remote_job',\n",
       " 'name',\n",
       " 'netbios_ns',\n",
       " 'eco_i',\n",
       " 'mtp',\n",
       " 'telnet',\n",
       " 'finger',\n",
       " 'domain_u',\n",
       " 'supdup',\n",
       " 'uucp_path',\n",
       " 'Z39_50',\n",
       " 'smtp',\n",
       " 'csnet_ns',\n",
       " 'uucp',\n",
       " 'netbios_dgm',\n",
       " 'urp_i',\n",
       " 'auth',\n",
       " 'domain',\n",
       " 'ftp',\n",
       " 'bgp',\n",
       " 'ldap',\n",
       " 'ecr_i',\n",
       " 'gopher',\n",
       " 'vmnet',\n",
       " 'systat',\n",
       " 'http_443',\n",
       " 'efs',\n",
       " 'whois',\n",
       " 'imap4',\n",
       " 'iso_tsap',\n",
       " 'echo',\n",
       " 'klogin',\n",
       " 'link',\n",
       " 'sunrpc',\n",
       " 'login',\n",
       " 'kshell',\n",
       " 'sql_net',\n",
       " 'time',\n",
       " 'hostnames',\n",
       " 'exec',\n",
       " 'ntp_u',\n",
       " 'discard',\n",
       " 'nntp',\n",
       " 'courier',\n",
       " 'ctf',\n",
       " 'ssh',\n",
       " 'daytime',\n",
       " 'shell',\n",
       " 'netstat',\n",
       " 'pop_3',\n",
       " 'nnsp',\n",
       " 'IRC',\n",
       " 'pop_2',\n",
       " 'printer',\n",
       " 'tim_i',\n",
       " 'pm_dump',\n",
       " 'red_i',\n",
       " 'netbios_ssn',\n",
       " 'rje',\n",
       " 'X11',\n",
       " 'urh_i',\n",
       " 'http_8001',\n",
       " 'aol',\n",
       " 'http_2784',\n",
       " 'tftp_u',\n",
       " 'harvest']"
      ]
     },
     "execution_count": 22,
     "metadata": {},
     "output_type": "execute_result"
    }
   ],
   "source": [
    "# All service labels\n",
    "train_df['service'].unique().tolist()"
   ]
  },
  {
   "cell_type": "code",
   "execution_count": 23,
   "metadata": {
    "colab": {
     "base_uri": "https://localhost:8080/"
    },
    "executionInfo": {
     "elapsed": 725,
     "status": "ok",
     "timestamp": 1675491384796,
     "user": {
      "displayName": "Arpita Srivastava",
      "userId": "00636623162827386168"
     },
     "user_tz": -330
    },
    "id": "xc4InWQC48fV",
    "outputId": "90c49d3a-3f53-4556-d8fc-d6f74222330c"
   },
   "outputs": [
    {
     "data": {
      "text/plain": [
       "normal    77053\n",
       "dos       53385\n",
       "probe     14077\n",
       "r2l        3749\n",
       "u2r         252\n",
       "Name: attack, dtype: int64"
      ]
     },
     "execution_count": 23,
     "metadata": {},
     "output_type": "execute_result"
    }
   ],
   "source": [
    "# count of attack labels\n",
    "train_df[\"attack\"].value_counts()"
   ]
  },
  {
   "cell_type": "code",
   "execution_count": 24,
   "metadata": {
    "colab": {
     "base_uri": "https://localhost:8080/",
     "height": 317
    },
    "executionInfo": {
     "elapsed": 11,
     "status": "ok",
     "timestamp": 1675491388295,
     "user": {
      "displayName": "Arpita Srivastava",
      "userId": "00636623162827386168"
     },
     "user_tz": -330
    },
    "id": "EGLB9dwE-4mB",
    "outputId": "c07fc4fb-94a5-4736-8a2f-f9927c6394a2"
   },
   "outputs": [
    {
     "name": "stdout",
     "output_type": "stream",
     "text": [
      "(148516, 47)\n"
     ]
    },
    {
     "data": {
      "text/html": [
       "\n",
       "  <div id=\"df-1dadb0c4-24b3-4338-b5f7-6cd6b9c89205\">\n",
       "    <div class=\"colab-df-container\">\n",
       "      <div>\n",
       "<style scoped>\n",
       "    .dataframe tbody tr th:only-of-type {\n",
       "        vertical-align: middle;\n",
       "    }\n",
       "\n",
       "    .dataframe tbody tr th {\n",
       "        vertical-align: top;\n",
       "    }\n",
       "\n",
       "    .dataframe thead th {\n",
       "        text-align: right;\n",
       "    }\n",
       "</style>\n",
       "<table border=\"1\" class=\"dataframe\">\n",
       "  <thead>\n",
       "    <tr style=\"text-align: right;\">\n",
       "      <th></th>\n",
       "      <th>duration</th>\n",
       "      <th>protocol_type</th>\n",
       "      <th>service</th>\n",
       "      <th>flag</th>\n",
       "      <th>src_bytes</th>\n",
       "      <th>dst_bytes</th>\n",
       "      <th>land</th>\n",
       "      <th>wrong_fragment</th>\n",
       "      <th>urgent</th>\n",
       "      <th>hot</th>\n",
       "      <th>...</th>\n",
       "      <th>dst_host_serror_rate</th>\n",
       "      <th>dst_host_srv_serror_rate</th>\n",
       "      <th>dst_host_rerror_rate</th>\n",
       "      <th>dst_host_srv_rerror_rate</th>\n",
       "      <th>level</th>\n",
       "      <th>attack_dos</th>\n",
       "      <th>attack_normal</th>\n",
       "      <th>attack_probe</th>\n",
       "      <th>attack_r2l</th>\n",
       "      <th>attack_u2r</th>\n",
       "    </tr>\n",
       "  </thead>\n",
       "  <tbody>\n",
       "    <tr>\n",
       "      <th>0</th>\n",
       "      <td>0</td>\n",
       "      <td>1</td>\n",
       "      <td>20</td>\n",
       "      <td>9</td>\n",
       "      <td>491</td>\n",
       "      <td>0</td>\n",
       "      <td>0</td>\n",
       "      <td>0</td>\n",
       "      <td>0</td>\n",
       "      <td>0</td>\n",
       "      <td>...</td>\n",
       "      <td>0.00</td>\n",
       "      <td>0.00</td>\n",
       "      <td>0.05</td>\n",
       "      <td>0.00</td>\n",
       "      <td>20</td>\n",
       "      <td>0</td>\n",
       "      <td>1</td>\n",
       "      <td>0</td>\n",
       "      <td>0</td>\n",
       "      <td>0</td>\n",
       "    </tr>\n",
       "    <tr>\n",
       "      <th>1</th>\n",
       "      <td>0</td>\n",
       "      <td>2</td>\n",
       "      <td>44</td>\n",
       "      <td>9</td>\n",
       "      <td>146</td>\n",
       "      <td>0</td>\n",
       "      <td>0</td>\n",
       "      <td>0</td>\n",
       "      <td>0</td>\n",
       "      <td>0</td>\n",
       "      <td>...</td>\n",
       "      <td>0.00</td>\n",
       "      <td>0.00</td>\n",
       "      <td>0.00</td>\n",
       "      <td>0.00</td>\n",
       "      <td>15</td>\n",
       "      <td>0</td>\n",
       "      <td>1</td>\n",
       "      <td>0</td>\n",
       "      <td>0</td>\n",
       "      <td>0</td>\n",
       "    </tr>\n",
       "    <tr>\n",
       "      <th>2</th>\n",
       "      <td>0</td>\n",
       "      <td>1</td>\n",
       "      <td>49</td>\n",
       "      <td>5</td>\n",
       "      <td>0</td>\n",
       "      <td>0</td>\n",
       "      <td>0</td>\n",
       "      <td>0</td>\n",
       "      <td>0</td>\n",
       "      <td>0</td>\n",
       "      <td>...</td>\n",
       "      <td>1.00</td>\n",
       "      <td>1.00</td>\n",
       "      <td>0.00</td>\n",
       "      <td>0.00</td>\n",
       "      <td>19</td>\n",
       "      <td>1</td>\n",
       "      <td>0</td>\n",
       "      <td>0</td>\n",
       "      <td>0</td>\n",
       "      <td>0</td>\n",
       "    </tr>\n",
       "    <tr>\n",
       "      <th>3</th>\n",
       "      <td>0</td>\n",
       "      <td>1</td>\n",
       "      <td>24</td>\n",
       "      <td>9</td>\n",
       "      <td>232</td>\n",
       "      <td>8153</td>\n",
       "      <td>0</td>\n",
       "      <td>0</td>\n",
       "      <td>0</td>\n",
       "      <td>0</td>\n",
       "      <td>...</td>\n",
       "      <td>0.03</td>\n",
       "      <td>0.01</td>\n",
       "      <td>0.00</td>\n",
       "      <td>0.01</td>\n",
       "      <td>21</td>\n",
       "      <td>0</td>\n",
       "      <td>1</td>\n",
       "      <td>0</td>\n",
       "      <td>0</td>\n",
       "      <td>0</td>\n",
       "    </tr>\n",
       "    <tr>\n",
       "      <th>4</th>\n",
       "      <td>0</td>\n",
       "      <td>1</td>\n",
       "      <td>24</td>\n",
       "      <td>9</td>\n",
       "      <td>199</td>\n",
       "      <td>420</td>\n",
       "      <td>0</td>\n",
       "      <td>0</td>\n",
       "      <td>0</td>\n",
       "      <td>0</td>\n",
       "      <td>...</td>\n",
       "      <td>0.00</td>\n",
       "      <td>0.00</td>\n",
       "      <td>0.00</td>\n",
       "      <td>0.00</td>\n",
       "      <td>21</td>\n",
       "      <td>0</td>\n",
       "      <td>1</td>\n",
       "      <td>0</td>\n",
       "      <td>0</td>\n",
       "      <td>0</td>\n",
       "    </tr>\n",
       "  </tbody>\n",
       "</table>\n",
       "<p>5 rows × 47 columns</p>\n",
       "</div>\n",
       "      <button class=\"colab-df-convert\" onclick=\"convertToInteractive('df-1dadb0c4-24b3-4338-b5f7-6cd6b9c89205')\"\n",
       "              title=\"Convert this dataframe to an interactive table.\"\n",
       "              style=\"display:none;\">\n",
       "        \n",
       "  <svg xmlns=\"http://www.w3.org/2000/svg\" height=\"24px\"viewBox=\"0 0 24 24\"\n",
       "       width=\"24px\">\n",
       "    <path d=\"M0 0h24v24H0V0z\" fill=\"none\"/>\n",
       "    <path d=\"M18.56 5.44l.94 2.06.94-2.06 2.06-.94-2.06-.94-.94-2.06-.94 2.06-2.06.94zm-11 1L8.5 8.5l.94-2.06 2.06-.94-2.06-.94L8.5 2.5l-.94 2.06-2.06.94zm10 10l.94 2.06.94-2.06 2.06-.94-2.06-.94-.94-2.06-.94 2.06-2.06.94z\"/><path d=\"M17.41 7.96l-1.37-1.37c-.4-.4-.92-.59-1.43-.59-.52 0-1.04.2-1.43.59L10.3 9.45l-7.72 7.72c-.78.78-.78 2.05 0 2.83L4 21.41c.39.39.9.59 1.41.59.51 0 1.02-.2 1.41-.59l7.78-7.78 2.81-2.81c.8-.78.8-2.07 0-2.86zM5.41 20L4 18.59l7.72-7.72 1.47 1.35L5.41 20z\"/>\n",
       "  </svg>\n",
       "      </button>\n",
       "      \n",
       "  <style>\n",
       "    .colab-df-container {\n",
       "      display:flex;\n",
       "      flex-wrap:wrap;\n",
       "      gap: 12px;\n",
       "    }\n",
       "\n",
       "    .colab-df-convert {\n",
       "      background-color: #E8F0FE;\n",
       "      border: none;\n",
       "      border-radius: 50%;\n",
       "      cursor: pointer;\n",
       "      display: none;\n",
       "      fill: #1967D2;\n",
       "      height: 32px;\n",
       "      padding: 0 0 0 0;\n",
       "      width: 32px;\n",
       "    }\n",
       "\n",
       "    .colab-df-convert:hover {\n",
       "      background-color: #E2EBFA;\n",
       "      box-shadow: 0px 1px 2px rgba(60, 64, 67, 0.3), 0px 1px 3px 1px rgba(60, 64, 67, 0.15);\n",
       "      fill: #174EA6;\n",
       "    }\n",
       "\n",
       "    [theme=dark] .colab-df-convert {\n",
       "      background-color: #3B4455;\n",
       "      fill: #D2E3FC;\n",
       "    }\n",
       "\n",
       "    [theme=dark] .colab-df-convert:hover {\n",
       "      background-color: #434B5C;\n",
       "      box-shadow: 0px 1px 3px 1px rgba(0, 0, 0, 0.15);\n",
       "      filter: drop-shadow(0px 1px 2px rgba(0, 0, 0, 0.3));\n",
       "      fill: #FFFFFF;\n",
       "    }\n",
       "  </style>\n",
       "\n",
       "      <script>\n",
       "        const buttonEl =\n",
       "          document.querySelector('#df-1dadb0c4-24b3-4338-b5f7-6cd6b9c89205 button.colab-df-convert');\n",
       "        buttonEl.style.display =\n",
       "          google.colab.kernel.accessAllowed ? 'block' : 'none';\n",
       "\n",
       "        async function convertToInteractive(key) {\n",
       "          const element = document.querySelector('#df-1dadb0c4-24b3-4338-b5f7-6cd6b9c89205');\n",
       "          const dataTable =\n",
       "            await google.colab.kernel.invokeFunction('convertToInteractive',\n",
       "                                                     [key], {});\n",
       "          if (!dataTable) return;\n",
       "\n",
       "          const docLinkHtml = 'Like what you see? Visit the ' +\n",
       "            '<a target=\"_blank\" href=https://colab.research.google.com/notebooks/data_table.ipynb>data table notebook</a>'\n",
       "            + ' to learn more about interactive tables.';\n",
       "          element.innerHTML = '';\n",
       "          dataTable['output_type'] = 'display_data';\n",
       "          await google.colab.output.renderOutput(dataTable, element);\n",
       "          const docLink = document.createElement('div');\n",
       "          docLink.innerHTML = docLinkHtml;\n",
       "          element.appendChild(docLink);\n",
       "        }\n",
       "      </script>\n",
       "    </div>\n",
       "  </div>\n",
       "  "
      ],
      "text/plain": [
       "   duration  protocol_type  service  flag  src_bytes  dst_bytes  land  \\\n",
       "0         0              1       20     9        491          0     0   \n",
       "1         0              2       44     9        146          0     0   \n",
       "2         0              1       49     5          0          0     0   \n",
       "3         0              1       24     9        232       8153     0   \n",
       "4         0              1       24     9        199        420     0   \n",
       "\n",
       "   wrong_fragment  urgent  hot  ...  dst_host_serror_rate  \\\n",
       "0               0       0    0  ...                  0.00   \n",
       "1               0       0    0  ...                  0.00   \n",
       "2               0       0    0  ...                  1.00   \n",
       "3               0       0    0  ...                  0.03   \n",
       "4               0       0    0  ...                  0.00   \n",
       "\n",
       "   dst_host_srv_serror_rate  dst_host_rerror_rate  dst_host_srv_rerror_rate  \\\n",
       "0                      0.00                  0.05                      0.00   \n",
       "1                      0.00                  0.00                      0.00   \n",
       "2                      1.00                  0.00                      0.00   \n",
       "3                      0.01                  0.00                      0.01   \n",
       "4                      0.00                  0.00                      0.00   \n",
       "\n",
       "   level  attack_dos  attack_normal  attack_probe  attack_r2l  attack_u2r  \n",
       "0     20           0              1             0           0           0  \n",
       "1     15           0              1             0           0           0  \n",
       "2     19           1              0             0           0           0  \n",
       "3     21           0              1             0           0           0  \n",
       "4     21           0              1             0           0           0  \n",
       "\n",
       "[5 rows x 47 columns]"
      ]
     },
     "execution_count": 24,
     "metadata": {},
     "output_type": "execute_result"
    }
   ],
   "source": [
    "#Label encoded Dataset\n",
    "\n",
    "df = train_df.copy()\n",
    "tolabelencode = ['protocol_type','service', 'flag']\n",
    "lc = LabelEncoder()\n",
    "for col in tolabelencode:\n",
    "  df[col] = lc.fit_transform(df[col])\n",
    "\n",
    "#one hot encode labels\n",
    "df = pd.get_dummies(df)\n",
    "print(df.shape)\n",
    "df.head()"
   ]
  },
  {
   "cell_type": "code",
   "execution_count": 25,
   "metadata": {
    "colab": {
     "base_uri": "https://localhost:8080/"
    },
    "executionInfo": {
     "elapsed": 712,
     "status": "ok",
     "timestamp": 1675491399658,
     "user": {
      "displayName": "Arpita Srivastava",
      "userId": "00636623162827386168"
     },
     "user_tz": -330
    },
    "id": "hVxcVoHlwVHo",
    "outputId": "ad632023-bbdc-4739-a8db-e2f6af3e0a05"
   },
   "outputs": [
    {
     "name": "stdout",
     "output_type": "stream",
     "text": [
      "5\n"
     ]
    }
   ],
   "source": [
    "labels = attack_s.unique()\n",
    "NUM_LABELS = len(labels)\n",
    "print(NUM_LABELS)"
   ]
  },
  {
   "cell_type": "code",
   "execution_count": 26,
   "metadata": {
    "executionInfo": {
     "elapsed": 5,
     "status": "ok",
     "timestamp": 1675491401895,
     "user": {
      "displayName": "Arpita Srivastava",
      "userId": "00636623162827386168"
     },
     "user_tz": -330
    },
    "id": "-AoQXvZpv94-"
   },
   "outputs": [],
   "source": [
    "# Scaling data / Min-Max Scaling\n",
    "\n",
    "X = df.iloc[:,:df.shape[1]-NUM_LABELS]\n",
    "Y = df.iloc[:,-NUM_LABELS:].to_numpy().astype(np.float32)\n",
    "\n",
    "sc = MinMaxScaler()\n",
    "X = sc.fit_transform(X)\n",
    "X = np.float32(X)"
   ]
  },
  {
   "cell_type": "code",
   "execution_count": 27,
   "metadata": {
    "colab": {
     "base_uri": "https://localhost:8080/"
    },
    "executionInfo": {
     "elapsed": 5,
     "status": "ok",
     "timestamp": 1675491405267,
     "user": {
      "displayName": "Arpita Srivastava",
      "userId": "00636623162827386168"
     },
     "user_tz": -330
    },
    "id": "j7SrBPyYwdL5",
    "outputId": "0e9dadc0-abb8-4531-a7da-25b3932980f9"
   },
   "outputs": [
    {
     "name": "stdout",
     "output_type": "stream",
     "text": [
      "(148516, 42)\n",
      "(148516, 5)\n"
     ]
    }
   ],
   "source": [
    "print(X.shape)\n",
    "print(Y.shape)"
   ]
  },
  {
   "cell_type": "code",
   "execution_count": 28,
   "metadata": {
    "executionInfo": {
     "elapsed": 3,
     "status": "ok",
     "timestamp": 1675491407024,
     "user": {
      "displayName": "Arpita Srivastava",
      "userId": "00636623162827386168"
     },
     "user_tz": -330
    },
    "id": "iTZrJSrawgvp"
   },
   "outputs": [],
   "source": [
    "data = np.concatenate([X,Y],axis=1)\n",
    "df = pd.DataFrame(data=data,columns = df.columns)"
   ]
  },
  {
   "cell_type": "code",
   "execution_count": 29,
   "metadata": {
    "colab": {
     "base_uri": "https://localhost:8080/",
     "height": 317
    },
    "executionInfo": {
     "elapsed": 14,
     "status": "ok",
     "timestamp": 1675491411105,
     "user": {
      "displayName": "Arpita Srivastava",
      "userId": "00636623162827386168"
     },
     "user_tz": -330
    },
    "id": "P29OPLW-w2nG",
    "outputId": "8729a08c-bf8c-4593-8e05-cb04fdc8fb75"
   },
   "outputs": [
    {
     "name": "stdout",
     "output_type": "stream",
     "text": [
      "(148516, 47)\n"
     ]
    },
    {
     "data": {
      "text/html": [
       "\n",
       "  <div id=\"df-0c920a8e-f07f-4c11-9870-b414a5d03f18\">\n",
       "    <div class=\"colab-df-container\">\n",
       "      <div>\n",
       "<style scoped>\n",
       "    .dataframe tbody tr th:only-of-type {\n",
       "        vertical-align: middle;\n",
       "    }\n",
       "\n",
       "    .dataframe tbody tr th {\n",
       "        vertical-align: top;\n",
       "    }\n",
       "\n",
       "    .dataframe thead th {\n",
       "        text-align: right;\n",
       "    }\n",
       "</style>\n",
       "<table border=\"1\" class=\"dataframe\">\n",
       "  <thead>\n",
       "    <tr style=\"text-align: right;\">\n",
       "      <th></th>\n",
       "      <th>duration</th>\n",
       "      <th>protocol_type</th>\n",
       "      <th>service</th>\n",
       "      <th>flag</th>\n",
       "      <th>src_bytes</th>\n",
       "      <th>dst_bytes</th>\n",
       "      <th>land</th>\n",
       "      <th>wrong_fragment</th>\n",
       "      <th>urgent</th>\n",
       "      <th>hot</th>\n",
       "      <th>...</th>\n",
       "      <th>dst_host_serror_rate</th>\n",
       "      <th>dst_host_srv_serror_rate</th>\n",
       "      <th>dst_host_rerror_rate</th>\n",
       "      <th>dst_host_srv_rerror_rate</th>\n",
       "      <th>level</th>\n",
       "      <th>attack_dos</th>\n",
       "      <th>attack_normal</th>\n",
       "      <th>attack_probe</th>\n",
       "      <th>attack_r2l</th>\n",
       "      <th>attack_u2r</th>\n",
       "    </tr>\n",
       "  </thead>\n",
       "  <tbody>\n",
       "    <tr>\n",
       "      <th>0</th>\n",
       "      <td>0.0</td>\n",
       "      <td>0.5</td>\n",
       "      <td>0.289855</td>\n",
       "      <td>0.9</td>\n",
       "      <td>3.558064e-07</td>\n",
       "      <td>0.000000e+00</td>\n",
       "      <td>0.0</td>\n",
       "      <td>0.0</td>\n",
       "      <td>0.0</td>\n",
       "      <td>0.0</td>\n",
       "      <td>...</td>\n",
       "      <td>0.00</td>\n",
       "      <td>0.00</td>\n",
       "      <td>0.05</td>\n",
       "      <td>0.00</td>\n",
       "      <td>0.952381</td>\n",
       "      <td>0.0</td>\n",
       "      <td>1.0</td>\n",
       "      <td>0.0</td>\n",
       "      <td>0.0</td>\n",
       "      <td>0.0</td>\n",
       "    </tr>\n",
       "    <tr>\n",
       "      <th>1</th>\n",
       "      <td>0.0</td>\n",
       "      <td>1.0</td>\n",
       "      <td>0.637681</td>\n",
       "      <td>0.9</td>\n",
       "      <td>1.057999e-07</td>\n",
       "      <td>0.000000e+00</td>\n",
       "      <td>0.0</td>\n",
       "      <td>0.0</td>\n",
       "      <td>0.0</td>\n",
       "      <td>0.0</td>\n",
       "      <td>...</td>\n",
       "      <td>0.00</td>\n",
       "      <td>0.00</td>\n",
       "      <td>0.00</td>\n",
       "      <td>0.00</td>\n",
       "      <td>0.714286</td>\n",
       "      <td>0.0</td>\n",
       "      <td>1.0</td>\n",
       "      <td>0.0</td>\n",
       "      <td>0.0</td>\n",
       "      <td>0.0</td>\n",
       "    </tr>\n",
       "    <tr>\n",
       "      <th>2</th>\n",
       "      <td>0.0</td>\n",
       "      <td>0.5</td>\n",
       "      <td>0.710145</td>\n",
       "      <td>0.5</td>\n",
       "      <td>0.000000e+00</td>\n",
       "      <td>0.000000e+00</td>\n",
       "      <td>0.0</td>\n",
       "      <td>0.0</td>\n",
       "      <td>0.0</td>\n",
       "      <td>0.0</td>\n",
       "      <td>...</td>\n",
       "      <td>1.00</td>\n",
       "      <td>1.00</td>\n",
       "      <td>0.00</td>\n",
       "      <td>0.00</td>\n",
       "      <td>0.904762</td>\n",
       "      <td>1.0</td>\n",
       "      <td>0.0</td>\n",
       "      <td>0.0</td>\n",
       "      <td>0.0</td>\n",
       "      <td>0.0</td>\n",
       "    </tr>\n",
       "    <tr>\n",
       "      <th>3</th>\n",
       "      <td>0.0</td>\n",
       "      <td>0.5</td>\n",
       "      <td>0.347826</td>\n",
       "      <td>0.9</td>\n",
       "      <td>1.681203e-07</td>\n",
       "      <td>6.223961e-06</td>\n",
       "      <td>0.0</td>\n",
       "      <td>0.0</td>\n",
       "      <td>0.0</td>\n",
       "      <td>0.0</td>\n",
       "      <td>...</td>\n",
       "      <td>0.03</td>\n",
       "      <td>0.01</td>\n",
       "      <td>0.00</td>\n",
       "      <td>0.01</td>\n",
       "      <td>1.000000</td>\n",
       "      <td>0.0</td>\n",
       "      <td>1.0</td>\n",
       "      <td>0.0</td>\n",
       "      <td>0.0</td>\n",
       "      <td>0.0</td>\n",
       "    </tr>\n",
       "    <tr>\n",
       "      <th>4</th>\n",
       "      <td>0.0</td>\n",
       "      <td>0.5</td>\n",
       "      <td>0.347826</td>\n",
       "      <td>0.9</td>\n",
       "      <td>1.442067e-07</td>\n",
       "      <td>3.206260e-07</td>\n",
       "      <td>0.0</td>\n",
       "      <td>0.0</td>\n",
       "      <td>0.0</td>\n",
       "      <td>0.0</td>\n",
       "      <td>...</td>\n",
       "      <td>0.00</td>\n",
       "      <td>0.00</td>\n",
       "      <td>0.00</td>\n",
       "      <td>0.00</td>\n",
       "      <td>1.000000</td>\n",
       "      <td>0.0</td>\n",
       "      <td>1.0</td>\n",
       "      <td>0.0</td>\n",
       "      <td>0.0</td>\n",
       "      <td>0.0</td>\n",
       "    </tr>\n",
       "  </tbody>\n",
       "</table>\n",
       "<p>5 rows × 47 columns</p>\n",
       "</div>\n",
       "      <button class=\"colab-df-convert\" onclick=\"convertToInteractive('df-0c920a8e-f07f-4c11-9870-b414a5d03f18')\"\n",
       "              title=\"Convert this dataframe to an interactive table.\"\n",
       "              style=\"display:none;\">\n",
       "        \n",
       "  <svg xmlns=\"http://www.w3.org/2000/svg\" height=\"24px\"viewBox=\"0 0 24 24\"\n",
       "       width=\"24px\">\n",
       "    <path d=\"M0 0h24v24H0V0z\" fill=\"none\"/>\n",
       "    <path d=\"M18.56 5.44l.94 2.06.94-2.06 2.06-.94-2.06-.94-.94-2.06-.94 2.06-2.06.94zm-11 1L8.5 8.5l.94-2.06 2.06-.94-2.06-.94L8.5 2.5l-.94 2.06-2.06.94zm10 10l.94 2.06.94-2.06 2.06-.94-2.06-.94-.94-2.06-.94 2.06-2.06.94z\"/><path d=\"M17.41 7.96l-1.37-1.37c-.4-.4-.92-.59-1.43-.59-.52 0-1.04.2-1.43.59L10.3 9.45l-7.72 7.72c-.78.78-.78 2.05 0 2.83L4 21.41c.39.39.9.59 1.41.59.51 0 1.02-.2 1.41-.59l7.78-7.78 2.81-2.81c.8-.78.8-2.07 0-2.86zM5.41 20L4 18.59l7.72-7.72 1.47 1.35L5.41 20z\"/>\n",
       "  </svg>\n",
       "      </button>\n",
       "      \n",
       "  <style>\n",
       "    .colab-df-container {\n",
       "      display:flex;\n",
       "      flex-wrap:wrap;\n",
       "      gap: 12px;\n",
       "    }\n",
       "\n",
       "    .colab-df-convert {\n",
       "      background-color: #E8F0FE;\n",
       "      border: none;\n",
       "      border-radius: 50%;\n",
       "      cursor: pointer;\n",
       "      display: none;\n",
       "      fill: #1967D2;\n",
       "      height: 32px;\n",
       "      padding: 0 0 0 0;\n",
       "      width: 32px;\n",
       "    }\n",
       "\n",
       "    .colab-df-convert:hover {\n",
       "      background-color: #E2EBFA;\n",
       "      box-shadow: 0px 1px 2px rgba(60, 64, 67, 0.3), 0px 1px 3px 1px rgba(60, 64, 67, 0.15);\n",
       "      fill: #174EA6;\n",
       "    }\n",
       "\n",
       "    [theme=dark] .colab-df-convert {\n",
       "      background-color: #3B4455;\n",
       "      fill: #D2E3FC;\n",
       "    }\n",
       "\n",
       "    [theme=dark] .colab-df-convert:hover {\n",
       "      background-color: #434B5C;\n",
       "      box-shadow: 0px 1px 3px 1px rgba(0, 0, 0, 0.15);\n",
       "      filter: drop-shadow(0px 1px 2px rgba(0, 0, 0, 0.3));\n",
       "      fill: #FFFFFF;\n",
       "    }\n",
       "  </style>\n",
       "\n",
       "      <script>\n",
       "        const buttonEl =\n",
       "          document.querySelector('#df-0c920a8e-f07f-4c11-9870-b414a5d03f18 button.colab-df-convert');\n",
       "        buttonEl.style.display =\n",
       "          google.colab.kernel.accessAllowed ? 'block' : 'none';\n",
       "\n",
       "        async function convertToInteractive(key) {\n",
       "          const element = document.querySelector('#df-0c920a8e-f07f-4c11-9870-b414a5d03f18');\n",
       "          const dataTable =\n",
       "            await google.colab.kernel.invokeFunction('convertToInteractive',\n",
       "                                                     [key], {});\n",
       "          if (!dataTable) return;\n",
       "\n",
       "          const docLinkHtml = 'Like what you see? Visit the ' +\n",
       "            '<a target=\"_blank\" href=https://colab.research.google.com/notebooks/data_table.ipynb>data table notebook</a>'\n",
       "            + ' to learn more about interactive tables.';\n",
       "          element.innerHTML = '';\n",
       "          dataTable['output_type'] = 'display_data';\n",
       "          await google.colab.output.renderOutput(dataTable, element);\n",
       "          const docLink = document.createElement('div');\n",
       "          docLink.innerHTML = docLinkHtml;\n",
       "          element.appendChild(docLink);\n",
       "        }\n",
       "      </script>\n",
       "    </div>\n",
       "  </div>\n",
       "  "
      ],
      "text/plain": [
       "   duration  protocol_type   service  flag     src_bytes     dst_bytes  land  \\\n",
       "0       0.0            0.5  0.289855   0.9  3.558064e-07  0.000000e+00   0.0   \n",
       "1       0.0            1.0  0.637681   0.9  1.057999e-07  0.000000e+00   0.0   \n",
       "2       0.0            0.5  0.710145   0.5  0.000000e+00  0.000000e+00   0.0   \n",
       "3       0.0            0.5  0.347826   0.9  1.681203e-07  6.223961e-06   0.0   \n",
       "4       0.0            0.5  0.347826   0.9  1.442067e-07  3.206260e-07   0.0   \n",
       "\n",
       "   wrong_fragment  urgent  hot  ...  dst_host_serror_rate  \\\n",
       "0             0.0     0.0  0.0  ...                  0.00   \n",
       "1             0.0     0.0  0.0  ...                  0.00   \n",
       "2             0.0     0.0  0.0  ...                  1.00   \n",
       "3             0.0     0.0  0.0  ...                  0.03   \n",
       "4             0.0     0.0  0.0  ...                  0.00   \n",
       "\n",
       "   dst_host_srv_serror_rate  dst_host_rerror_rate  dst_host_srv_rerror_rate  \\\n",
       "0                      0.00                  0.05                      0.00   \n",
       "1                      0.00                  0.00                      0.00   \n",
       "2                      1.00                  0.00                      0.00   \n",
       "3                      0.01                  0.00                      0.01   \n",
       "4                      0.00                  0.00                      0.00   \n",
       "\n",
       "      level  attack_dos  attack_normal  attack_probe  attack_r2l  attack_u2r  \n",
       "0  0.952381         0.0            1.0           0.0         0.0         0.0  \n",
       "1  0.714286         0.0            1.0           0.0         0.0         0.0  \n",
       "2  0.904762         1.0            0.0           0.0         0.0         0.0  \n",
       "3  1.000000         0.0            1.0           0.0         0.0         0.0  \n",
       "4  1.000000         0.0            1.0           0.0         0.0         0.0  \n",
       "\n",
       "[5 rows x 47 columns]"
      ]
     },
     "execution_count": 29,
     "metadata": {},
     "output_type": "execute_result"
    }
   ],
   "source": [
    "print(df.shape)\n",
    "df.head()"
   ]
  },
  {
   "cell_type": "code",
   "execution_count": 30,
   "metadata": {
    "colab": {
     "base_uri": "https://localhost:8080/"
    },
    "executionInfo": {
     "elapsed": 11,
     "status": "ok",
     "timestamp": 1675491411842,
     "user": {
      "displayName": "Arpita Srivastava",
      "userId": "00636623162827386168"
     },
     "user_tz": -330
    },
    "id": "2x7RtVneA5Ag",
    "outputId": "2adb6946-58dd-4999-cf46-20dfc7e450b5"
   },
   "outputs": [
    {
     "name": "stdout",
     "output_type": "stream",
     "text": [
      "Number of testing samples:  22543\n"
     ]
    }
   ],
   "source": [
    "#Split train and test dataset\n",
    "print(\"Number of testing samples: \",test_df.shape[0])\n",
    "test_df = df.iloc[-test_df.shape[0]:,:]\n",
    "train_df = df.drop(index = df.iloc[-test_df.shape[0]:,:].index,axis = 0)"
   ]
  },
  {
   "cell_type": "code",
   "execution_count": 31,
   "metadata": {
    "colab": {
     "base_uri": "https://localhost:8080/",
     "height": 299
    },
    "executionInfo": {
     "elapsed": 6,
     "status": "ok",
     "timestamp": 1675491413893,
     "user": {
      "displayName": "Arpita Srivastava",
      "userId": "00636623162827386168"
     },
     "user_tz": -330
    },
    "id": "NlGTLRSMyF84",
    "outputId": "8be657ba-7e4c-4d37-b0b8-d9cb632101e4"
   },
   "outputs": [
    {
     "data": {
      "text/html": [
       "\n",
       "  <div id=\"df-483b01b2-8a66-4dee-85f2-86f5ef1d7fbb\">\n",
       "    <div class=\"colab-df-container\">\n",
       "      <div>\n",
       "<style scoped>\n",
       "    .dataframe tbody tr th:only-of-type {\n",
       "        vertical-align: middle;\n",
       "    }\n",
       "\n",
       "    .dataframe tbody tr th {\n",
       "        vertical-align: top;\n",
       "    }\n",
       "\n",
       "    .dataframe thead th {\n",
       "        text-align: right;\n",
       "    }\n",
       "</style>\n",
       "<table border=\"1\" class=\"dataframe\">\n",
       "  <thead>\n",
       "    <tr style=\"text-align: right;\">\n",
       "      <th></th>\n",
       "      <th>duration</th>\n",
       "      <th>protocol_type</th>\n",
       "      <th>service</th>\n",
       "      <th>flag</th>\n",
       "      <th>src_bytes</th>\n",
       "      <th>dst_bytes</th>\n",
       "      <th>land</th>\n",
       "      <th>wrong_fragment</th>\n",
       "      <th>urgent</th>\n",
       "      <th>hot</th>\n",
       "      <th>...</th>\n",
       "      <th>dst_host_serror_rate</th>\n",
       "      <th>dst_host_srv_serror_rate</th>\n",
       "      <th>dst_host_rerror_rate</th>\n",
       "      <th>dst_host_srv_rerror_rate</th>\n",
       "      <th>level</th>\n",
       "      <th>attack_dos</th>\n",
       "      <th>attack_normal</th>\n",
       "      <th>attack_probe</th>\n",
       "      <th>attack_r2l</th>\n",
       "      <th>attack_u2r</th>\n",
       "    </tr>\n",
       "  </thead>\n",
       "  <tbody>\n",
       "    <tr>\n",
       "      <th>125973</th>\n",
       "      <td>0.000000</td>\n",
       "      <td>0.5</td>\n",
       "      <td>0.710145</td>\n",
       "      <td>0.1</td>\n",
       "      <td>0.000000e+00</td>\n",
       "      <td>0.000000e+00</td>\n",
       "      <td>0.0</td>\n",
       "      <td>0.0</td>\n",
       "      <td>0.0</td>\n",
       "      <td>0.0</td>\n",
       "      <td>...</td>\n",
       "      <td>0.0</td>\n",
       "      <td>0.0</td>\n",
       "      <td>1.00</td>\n",
       "      <td>1.00</td>\n",
       "      <td>1.000000</td>\n",
       "      <td>1.0</td>\n",
       "      <td>0.0</td>\n",
       "      <td>0.0</td>\n",
       "      <td>0.0</td>\n",
       "      <td>0.0</td>\n",
       "    </tr>\n",
       "    <tr>\n",
       "      <th>125974</th>\n",
       "      <td>0.000000</td>\n",
       "      <td>0.5</td>\n",
       "      <td>0.710145</td>\n",
       "      <td>0.1</td>\n",
       "      <td>0.000000e+00</td>\n",
       "      <td>0.000000e+00</td>\n",
       "      <td>0.0</td>\n",
       "      <td>0.0</td>\n",
       "      <td>0.0</td>\n",
       "      <td>0.0</td>\n",
       "      <td>...</td>\n",
       "      <td>0.0</td>\n",
       "      <td>0.0</td>\n",
       "      <td>1.00</td>\n",
       "      <td>1.00</td>\n",
       "      <td>1.000000</td>\n",
       "      <td>1.0</td>\n",
       "      <td>0.0</td>\n",
       "      <td>0.0</td>\n",
       "      <td>0.0</td>\n",
       "      <td>0.0</td>\n",
       "    </tr>\n",
       "    <tr>\n",
       "      <th>125975</th>\n",
       "      <td>0.000035</td>\n",
       "      <td>0.5</td>\n",
       "      <td>0.289855</td>\n",
       "      <td>0.9</td>\n",
       "      <td>9.408217e-06</td>\n",
       "      <td>0.000000e+00</td>\n",
       "      <td>0.0</td>\n",
       "      <td>0.0</td>\n",
       "      <td>0.0</td>\n",
       "      <td>0.0</td>\n",
       "      <td>...</td>\n",
       "      <td>0.0</td>\n",
       "      <td>0.0</td>\n",
       "      <td>0.00</td>\n",
       "      <td>0.00</td>\n",
       "      <td>1.000000</td>\n",
       "      <td>0.0</td>\n",
       "      <td>1.0</td>\n",
       "      <td>0.0</td>\n",
       "      <td>0.0</td>\n",
       "      <td>0.0</td>\n",
       "    </tr>\n",
       "    <tr>\n",
       "      <th>125976</th>\n",
       "      <td>0.000000</td>\n",
       "      <td>0.0</td>\n",
       "      <td>0.202899</td>\n",
       "      <td>0.9</td>\n",
       "      <td>1.449313e-08</td>\n",
       "      <td>0.000000e+00</td>\n",
       "      <td>0.0</td>\n",
       "      <td>0.0</td>\n",
       "      <td>0.0</td>\n",
       "      <td>0.0</td>\n",
       "      <td>...</td>\n",
       "      <td>0.0</td>\n",
       "      <td>0.0</td>\n",
       "      <td>0.00</td>\n",
       "      <td>0.00</td>\n",
       "      <td>0.714286</td>\n",
       "      <td>0.0</td>\n",
       "      <td>0.0</td>\n",
       "      <td>1.0</td>\n",
       "      <td>0.0</td>\n",
       "      <td>0.0</td>\n",
       "    </tr>\n",
       "    <tr>\n",
       "      <th>125977</th>\n",
       "      <td>0.000017</td>\n",
       "      <td>0.5</td>\n",
       "      <td>0.869565</td>\n",
       "      <td>0.2</td>\n",
       "      <td>0.000000e+00</td>\n",
       "      <td>1.145093e-08</td>\n",
       "      <td>0.0</td>\n",
       "      <td>0.0</td>\n",
       "      <td>0.0</td>\n",
       "      <td>0.0</td>\n",
       "      <td>...</td>\n",
       "      <td>0.0</td>\n",
       "      <td>0.0</td>\n",
       "      <td>0.83</td>\n",
       "      <td>0.71</td>\n",
       "      <td>0.523810</td>\n",
       "      <td>0.0</td>\n",
       "      <td>0.0</td>\n",
       "      <td>1.0</td>\n",
       "      <td>0.0</td>\n",
       "      <td>0.0</td>\n",
       "    </tr>\n",
       "  </tbody>\n",
       "</table>\n",
       "<p>5 rows × 47 columns</p>\n",
       "</div>\n",
       "      <button class=\"colab-df-convert\" onclick=\"convertToInteractive('df-483b01b2-8a66-4dee-85f2-86f5ef1d7fbb')\"\n",
       "              title=\"Convert this dataframe to an interactive table.\"\n",
       "              style=\"display:none;\">\n",
       "        \n",
       "  <svg xmlns=\"http://www.w3.org/2000/svg\" height=\"24px\"viewBox=\"0 0 24 24\"\n",
       "       width=\"24px\">\n",
       "    <path d=\"M0 0h24v24H0V0z\" fill=\"none\"/>\n",
       "    <path d=\"M18.56 5.44l.94 2.06.94-2.06 2.06-.94-2.06-.94-.94-2.06-.94 2.06-2.06.94zm-11 1L8.5 8.5l.94-2.06 2.06-.94-2.06-.94L8.5 2.5l-.94 2.06-2.06.94zm10 10l.94 2.06.94-2.06 2.06-.94-2.06-.94-.94-2.06-.94 2.06-2.06.94z\"/><path d=\"M17.41 7.96l-1.37-1.37c-.4-.4-.92-.59-1.43-.59-.52 0-1.04.2-1.43.59L10.3 9.45l-7.72 7.72c-.78.78-.78 2.05 0 2.83L4 21.41c.39.39.9.59 1.41.59.51 0 1.02-.2 1.41-.59l7.78-7.78 2.81-2.81c.8-.78.8-2.07 0-2.86zM5.41 20L4 18.59l7.72-7.72 1.47 1.35L5.41 20z\"/>\n",
       "  </svg>\n",
       "      </button>\n",
       "      \n",
       "  <style>\n",
       "    .colab-df-container {\n",
       "      display:flex;\n",
       "      flex-wrap:wrap;\n",
       "      gap: 12px;\n",
       "    }\n",
       "\n",
       "    .colab-df-convert {\n",
       "      background-color: #E8F0FE;\n",
       "      border: none;\n",
       "      border-radius: 50%;\n",
       "      cursor: pointer;\n",
       "      display: none;\n",
       "      fill: #1967D2;\n",
       "      height: 32px;\n",
       "      padding: 0 0 0 0;\n",
       "      width: 32px;\n",
       "    }\n",
       "\n",
       "    .colab-df-convert:hover {\n",
       "      background-color: #E2EBFA;\n",
       "      box-shadow: 0px 1px 2px rgba(60, 64, 67, 0.3), 0px 1px 3px 1px rgba(60, 64, 67, 0.15);\n",
       "      fill: #174EA6;\n",
       "    }\n",
       "\n",
       "    [theme=dark] .colab-df-convert {\n",
       "      background-color: #3B4455;\n",
       "      fill: #D2E3FC;\n",
       "    }\n",
       "\n",
       "    [theme=dark] .colab-df-convert:hover {\n",
       "      background-color: #434B5C;\n",
       "      box-shadow: 0px 1px 3px 1px rgba(0, 0, 0, 0.15);\n",
       "      filter: drop-shadow(0px 1px 2px rgba(0, 0, 0, 0.3));\n",
       "      fill: #FFFFFF;\n",
       "    }\n",
       "  </style>\n",
       "\n",
       "      <script>\n",
       "        const buttonEl =\n",
       "          document.querySelector('#df-483b01b2-8a66-4dee-85f2-86f5ef1d7fbb button.colab-df-convert');\n",
       "        buttonEl.style.display =\n",
       "          google.colab.kernel.accessAllowed ? 'block' : 'none';\n",
       "\n",
       "        async function convertToInteractive(key) {\n",
       "          const element = document.querySelector('#df-483b01b2-8a66-4dee-85f2-86f5ef1d7fbb');\n",
       "          const dataTable =\n",
       "            await google.colab.kernel.invokeFunction('convertToInteractive',\n",
       "                                                     [key], {});\n",
       "          if (!dataTable) return;\n",
       "\n",
       "          const docLinkHtml = 'Like what you see? Visit the ' +\n",
       "            '<a target=\"_blank\" href=https://colab.research.google.com/notebooks/data_table.ipynb>data table notebook</a>'\n",
       "            + ' to learn more about interactive tables.';\n",
       "          element.innerHTML = '';\n",
       "          dataTable['output_type'] = 'display_data';\n",
       "          await google.colab.output.renderOutput(dataTable, element);\n",
       "          const docLink = document.createElement('div');\n",
       "          docLink.innerHTML = docLinkHtml;\n",
       "          element.appendChild(docLink);\n",
       "        }\n",
       "      </script>\n",
       "    </div>\n",
       "  </div>\n",
       "  "
      ],
      "text/plain": [
       "        duration  protocol_type   service  flag     src_bytes     dst_bytes  \\\n",
       "125973  0.000000            0.5  0.710145   0.1  0.000000e+00  0.000000e+00   \n",
       "125974  0.000000            0.5  0.710145   0.1  0.000000e+00  0.000000e+00   \n",
       "125975  0.000035            0.5  0.289855   0.9  9.408217e-06  0.000000e+00   \n",
       "125976  0.000000            0.0  0.202899   0.9  1.449313e-08  0.000000e+00   \n",
       "125977  0.000017            0.5  0.869565   0.2  0.000000e+00  1.145093e-08   \n",
       "\n",
       "        land  wrong_fragment  urgent  hot  ...  dst_host_serror_rate  \\\n",
       "125973   0.0             0.0     0.0  0.0  ...                   0.0   \n",
       "125974   0.0             0.0     0.0  0.0  ...                   0.0   \n",
       "125975   0.0             0.0     0.0  0.0  ...                   0.0   \n",
       "125976   0.0             0.0     0.0  0.0  ...                   0.0   \n",
       "125977   0.0             0.0     0.0  0.0  ...                   0.0   \n",
       "\n",
       "        dst_host_srv_serror_rate  dst_host_rerror_rate  \\\n",
       "125973                       0.0                  1.00   \n",
       "125974                       0.0                  1.00   \n",
       "125975                       0.0                  0.00   \n",
       "125976                       0.0                  0.00   \n",
       "125977                       0.0                  0.83   \n",
       "\n",
       "        dst_host_srv_rerror_rate     level  attack_dos  attack_normal  \\\n",
       "125973                      1.00  1.000000         1.0            0.0   \n",
       "125974                      1.00  1.000000         1.0            0.0   \n",
       "125975                      0.00  1.000000         0.0            1.0   \n",
       "125976                      0.00  0.714286         0.0            0.0   \n",
       "125977                      0.71  0.523810         0.0            0.0   \n",
       "\n",
       "        attack_probe  attack_r2l  attack_u2r  \n",
       "125973           0.0         0.0         0.0  \n",
       "125974           0.0         0.0         0.0  \n",
       "125975           0.0         0.0         0.0  \n",
       "125976           1.0         0.0         0.0  \n",
       "125977           1.0         0.0         0.0  \n",
       "\n",
       "[5 rows x 47 columns]"
      ]
     },
     "execution_count": 31,
     "metadata": {},
     "output_type": "execute_result"
    }
   ],
   "source": [
    "test_df.head()"
   ]
  },
  {
   "cell_type": "code",
   "execution_count": 32,
   "metadata": {
    "colab": {
     "base_uri": "https://localhost:8080/",
     "height": 299
    },
    "executionInfo": {
     "elapsed": 10,
     "status": "ok",
     "timestamp": 1675491418581,
     "user": {
      "displayName": "Arpita Srivastava",
      "userId": "00636623162827386168"
     },
     "user_tz": -330
    },
    "id": "geRjGzUrB5wi",
    "outputId": "f12f3f0b-0502-4607-e7d5-431a27422060"
   },
   "outputs": [
    {
     "data": {
      "text/html": [
       "\n",
       "  <div id=\"df-2b3a171f-feaa-481a-8733-f1ba6faa09e5\">\n",
       "    <div class=\"colab-df-container\">\n",
       "      <div>\n",
       "<style scoped>\n",
       "    .dataframe tbody tr th:only-of-type {\n",
       "        vertical-align: middle;\n",
       "    }\n",
       "\n",
       "    .dataframe tbody tr th {\n",
       "        vertical-align: top;\n",
       "    }\n",
       "\n",
       "    .dataframe thead th {\n",
       "        text-align: right;\n",
       "    }\n",
       "</style>\n",
       "<table border=\"1\" class=\"dataframe\">\n",
       "  <thead>\n",
       "    <tr style=\"text-align: right;\">\n",
       "      <th></th>\n",
       "      <th>duration</th>\n",
       "      <th>protocol_type</th>\n",
       "      <th>service</th>\n",
       "      <th>flag</th>\n",
       "      <th>src_bytes</th>\n",
       "      <th>dst_bytes</th>\n",
       "      <th>land</th>\n",
       "      <th>wrong_fragment</th>\n",
       "      <th>urgent</th>\n",
       "      <th>hot</th>\n",
       "      <th>...</th>\n",
       "      <th>dst_host_serror_rate</th>\n",
       "      <th>dst_host_srv_serror_rate</th>\n",
       "      <th>dst_host_rerror_rate</th>\n",
       "      <th>dst_host_srv_rerror_rate</th>\n",
       "      <th>level</th>\n",
       "      <th>attack_dos</th>\n",
       "      <th>attack_normal</th>\n",
       "      <th>attack_probe</th>\n",
       "      <th>attack_r2l</th>\n",
       "      <th>attack_u2r</th>\n",
       "    </tr>\n",
       "  </thead>\n",
       "  <tbody>\n",
       "    <tr>\n",
       "      <th>0</th>\n",
       "      <td>0.000000</td>\n",
       "      <td>0.5</td>\n",
       "      <td>0.710145</td>\n",
       "      <td>0.1</td>\n",
       "      <td>0.000000e+00</td>\n",
       "      <td>0.000000e+00</td>\n",
       "      <td>0.0</td>\n",
       "      <td>0.0</td>\n",
       "      <td>0.0</td>\n",
       "      <td>0.0</td>\n",
       "      <td>...</td>\n",
       "      <td>0.0</td>\n",
       "      <td>0.0</td>\n",
       "      <td>1.00</td>\n",
       "      <td>1.00</td>\n",
       "      <td>1.000000</td>\n",
       "      <td>1.0</td>\n",
       "      <td>0.0</td>\n",
       "      <td>0.0</td>\n",
       "      <td>0.0</td>\n",
       "      <td>0.0</td>\n",
       "    </tr>\n",
       "    <tr>\n",
       "      <th>1</th>\n",
       "      <td>0.000000</td>\n",
       "      <td>0.5</td>\n",
       "      <td>0.710145</td>\n",
       "      <td>0.1</td>\n",
       "      <td>0.000000e+00</td>\n",
       "      <td>0.000000e+00</td>\n",
       "      <td>0.0</td>\n",
       "      <td>0.0</td>\n",
       "      <td>0.0</td>\n",
       "      <td>0.0</td>\n",
       "      <td>...</td>\n",
       "      <td>0.0</td>\n",
       "      <td>0.0</td>\n",
       "      <td>1.00</td>\n",
       "      <td>1.00</td>\n",
       "      <td>1.000000</td>\n",
       "      <td>1.0</td>\n",
       "      <td>0.0</td>\n",
       "      <td>0.0</td>\n",
       "      <td>0.0</td>\n",
       "      <td>0.0</td>\n",
       "    </tr>\n",
       "    <tr>\n",
       "      <th>2</th>\n",
       "      <td>0.000035</td>\n",
       "      <td>0.5</td>\n",
       "      <td>0.289855</td>\n",
       "      <td>0.9</td>\n",
       "      <td>9.408217e-06</td>\n",
       "      <td>0.000000e+00</td>\n",
       "      <td>0.0</td>\n",
       "      <td>0.0</td>\n",
       "      <td>0.0</td>\n",
       "      <td>0.0</td>\n",
       "      <td>...</td>\n",
       "      <td>0.0</td>\n",
       "      <td>0.0</td>\n",
       "      <td>0.00</td>\n",
       "      <td>0.00</td>\n",
       "      <td>1.000000</td>\n",
       "      <td>0.0</td>\n",
       "      <td>1.0</td>\n",
       "      <td>0.0</td>\n",
       "      <td>0.0</td>\n",
       "      <td>0.0</td>\n",
       "    </tr>\n",
       "    <tr>\n",
       "      <th>3</th>\n",
       "      <td>0.000000</td>\n",
       "      <td>0.0</td>\n",
       "      <td>0.202899</td>\n",
       "      <td>0.9</td>\n",
       "      <td>1.449313e-08</td>\n",
       "      <td>0.000000e+00</td>\n",
       "      <td>0.0</td>\n",
       "      <td>0.0</td>\n",
       "      <td>0.0</td>\n",
       "      <td>0.0</td>\n",
       "      <td>...</td>\n",
       "      <td>0.0</td>\n",
       "      <td>0.0</td>\n",
       "      <td>0.00</td>\n",
       "      <td>0.00</td>\n",
       "      <td>0.714286</td>\n",
       "      <td>0.0</td>\n",
       "      <td>0.0</td>\n",
       "      <td>1.0</td>\n",
       "      <td>0.0</td>\n",
       "      <td>0.0</td>\n",
       "    </tr>\n",
       "    <tr>\n",
       "      <th>4</th>\n",
       "      <td>0.000017</td>\n",
       "      <td>0.5</td>\n",
       "      <td>0.869565</td>\n",
       "      <td>0.2</td>\n",
       "      <td>0.000000e+00</td>\n",
       "      <td>1.145093e-08</td>\n",
       "      <td>0.0</td>\n",
       "      <td>0.0</td>\n",
       "      <td>0.0</td>\n",
       "      <td>0.0</td>\n",
       "      <td>...</td>\n",
       "      <td>0.0</td>\n",
       "      <td>0.0</td>\n",
       "      <td>0.83</td>\n",
       "      <td>0.71</td>\n",
       "      <td>0.523810</td>\n",
       "      <td>0.0</td>\n",
       "      <td>0.0</td>\n",
       "      <td>1.0</td>\n",
       "      <td>0.0</td>\n",
       "      <td>0.0</td>\n",
       "    </tr>\n",
       "  </tbody>\n",
       "</table>\n",
       "<p>5 rows × 47 columns</p>\n",
       "</div>\n",
       "      <button class=\"colab-df-convert\" onclick=\"convertToInteractive('df-2b3a171f-feaa-481a-8733-f1ba6faa09e5')\"\n",
       "              title=\"Convert this dataframe to an interactive table.\"\n",
       "              style=\"display:none;\">\n",
       "        \n",
       "  <svg xmlns=\"http://www.w3.org/2000/svg\" height=\"24px\"viewBox=\"0 0 24 24\"\n",
       "       width=\"24px\">\n",
       "    <path d=\"M0 0h24v24H0V0z\" fill=\"none\"/>\n",
       "    <path d=\"M18.56 5.44l.94 2.06.94-2.06 2.06-.94-2.06-.94-.94-2.06-.94 2.06-2.06.94zm-11 1L8.5 8.5l.94-2.06 2.06-.94-2.06-.94L8.5 2.5l-.94 2.06-2.06.94zm10 10l.94 2.06.94-2.06 2.06-.94-2.06-.94-.94-2.06-.94 2.06-2.06.94z\"/><path d=\"M17.41 7.96l-1.37-1.37c-.4-.4-.92-.59-1.43-.59-.52 0-1.04.2-1.43.59L10.3 9.45l-7.72 7.72c-.78.78-.78 2.05 0 2.83L4 21.41c.39.39.9.59 1.41.59.51 0 1.02-.2 1.41-.59l7.78-7.78 2.81-2.81c.8-.78.8-2.07 0-2.86zM5.41 20L4 18.59l7.72-7.72 1.47 1.35L5.41 20z\"/>\n",
       "  </svg>\n",
       "      </button>\n",
       "      \n",
       "  <style>\n",
       "    .colab-df-container {\n",
       "      display:flex;\n",
       "      flex-wrap:wrap;\n",
       "      gap: 12px;\n",
       "    }\n",
       "\n",
       "    .colab-df-convert {\n",
       "      background-color: #E8F0FE;\n",
       "      border: none;\n",
       "      border-radius: 50%;\n",
       "      cursor: pointer;\n",
       "      display: none;\n",
       "      fill: #1967D2;\n",
       "      height: 32px;\n",
       "      padding: 0 0 0 0;\n",
       "      width: 32px;\n",
       "    }\n",
       "\n",
       "    .colab-df-convert:hover {\n",
       "      background-color: #E2EBFA;\n",
       "      box-shadow: 0px 1px 2px rgba(60, 64, 67, 0.3), 0px 1px 3px 1px rgba(60, 64, 67, 0.15);\n",
       "      fill: #174EA6;\n",
       "    }\n",
       "\n",
       "    [theme=dark] .colab-df-convert {\n",
       "      background-color: #3B4455;\n",
       "      fill: #D2E3FC;\n",
       "    }\n",
       "\n",
       "    [theme=dark] .colab-df-convert:hover {\n",
       "      background-color: #434B5C;\n",
       "      box-shadow: 0px 1px 3px 1px rgba(0, 0, 0, 0.15);\n",
       "      filter: drop-shadow(0px 1px 2px rgba(0, 0, 0, 0.3));\n",
       "      fill: #FFFFFF;\n",
       "    }\n",
       "  </style>\n",
       "\n",
       "      <script>\n",
       "        const buttonEl =\n",
       "          document.querySelector('#df-2b3a171f-feaa-481a-8733-f1ba6faa09e5 button.colab-df-convert');\n",
       "        buttonEl.style.display =\n",
       "          google.colab.kernel.accessAllowed ? 'block' : 'none';\n",
       "\n",
       "        async function convertToInteractive(key) {\n",
       "          const element = document.querySelector('#df-2b3a171f-feaa-481a-8733-f1ba6faa09e5');\n",
       "          const dataTable =\n",
       "            await google.colab.kernel.invokeFunction('convertToInteractive',\n",
       "                                                     [key], {});\n",
       "          if (!dataTable) return;\n",
       "\n",
       "          const docLinkHtml = 'Like what you see? Visit the ' +\n",
       "            '<a target=\"_blank\" href=https://colab.research.google.com/notebooks/data_table.ipynb>data table notebook</a>'\n",
       "            + ' to learn more about interactive tables.';\n",
       "          element.innerHTML = '';\n",
       "          dataTable['output_type'] = 'display_data';\n",
       "          await google.colab.output.renderOutput(dataTable, element);\n",
       "          const docLink = document.createElement('div');\n",
       "          docLink.innerHTML = docLinkHtml;\n",
       "          element.appendChild(docLink);\n",
       "        }\n",
       "      </script>\n",
       "    </div>\n",
       "  </div>\n",
       "  "
      ],
      "text/plain": [
       "   duration  protocol_type   service  flag     src_bytes     dst_bytes  land  \\\n",
       "0  0.000000            0.5  0.710145   0.1  0.000000e+00  0.000000e+00   0.0   \n",
       "1  0.000000            0.5  0.710145   0.1  0.000000e+00  0.000000e+00   0.0   \n",
       "2  0.000035            0.5  0.289855   0.9  9.408217e-06  0.000000e+00   0.0   \n",
       "3  0.000000            0.0  0.202899   0.9  1.449313e-08  0.000000e+00   0.0   \n",
       "4  0.000017            0.5  0.869565   0.2  0.000000e+00  1.145093e-08   0.0   \n",
       "\n",
       "   wrong_fragment  urgent  hot  ...  dst_host_serror_rate  \\\n",
       "0             0.0     0.0  0.0  ...                   0.0   \n",
       "1             0.0     0.0  0.0  ...                   0.0   \n",
       "2             0.0     0.0  0.0  ...                   0.0   \n",
       "3             0.0     0.0  0.0  ...                   0.0   \n",
       "4             0.0     0.0  0.0  ...                   0.0   \n",
       "\n",
       "   dst_host_srv_serror_rate  dst_host_rerror_rate  dst_host_srv_rerror_rate  \\\n",
       "0                       0.0                  1.00                      1.00   \n",
       "1                       0.0                  1.00                      1.00   \n",
       "2                       0.0                  0.00                      0.00   \n",
       "3                       0.0                  0.00                      0.00   \n",
       "4                       0.0                  0.83                      0.71   \n",
       "\n",
       "      level  attack_dos  attack_normal  attack_probe  attack_r2l  attack_u2r  \n",
       "0  1.000000         1.0            0.0           0.0         0.0         0.0  \n",
       "1  1.000000         1.0            0.0           0.0         0.0         0.0  \n",
       "2  1.000000         0.0            1.0           0.0         0.0         0.0  \n",
       "3  0.714286         0.0            0.0           1.0         0.0         0.0  \n",
       "4  0.523810         0.0            0.0           1.0         0.0         0.0  \n",
       "\n",
       "[5 rows x 47 columns]"
      ]
     },
     "execution_count": 32,
     "metadata": {},
     "output_type": "execute_result"
    }
   ],
   "source": [
    "test_df.reset_index(inplace = True,drop=True)\n",
    "test_df.head()"
   ]
  },
  {
   "cell_type": "code",
   "execution_count": 33,
   "metadata": {
    "colab": {
     "base_uri": "https://localhost:8080/",
     "height": 299
    },
    "executionInfo": {
     "elapsed": 22,
     "status": "ok",
     "timestamp": 1675491422385,
     "user": {
      "displayName": "Arpita Srivastava",
      "userId": "00636623162827386168"
     },
     "user_tz": -330
    },
    "id": "vq2nCVtGCKYk",
    "outputId": "47b6e70a-ddd3-41c2-fa0c-4b49137ee3aa"
   },
   "outputs": [
    {
     "data": {
      "text/html": [
       "\n",
       "  <div id=\"df-bf9a3e89-7b93-4e07-b5d4-dd61bb9d0af9\">\n",
       "    <div class=\"colab-df-container\">\n",
       "      <div>\n",
       "<style scoped>\n",
       "    .dataframe tbody tr th:only-of-type {\n",
       "        vertical-align: middle;\n",
       "    }\n",
       "\n",
       "    .dataframe tbody tr th {\n",
       "        vertical-align: top;\n",
       "    }\n",
       "\n",
       "    .dataframe thead th {\n",
       "        text-align: right;\n",
       "    }\n",
       "</style>\n",
       "<table border=\"1\" class=\"dataframe\">\n",
       "  <thead>\n",
       "    <tr style=\"text-align: right;\">\n",
       "      <th></th>\n",
       "      <th>duration</th>\n",
       "      <th>protocol_type</th>\n",
       "      <th>service</th>\n",
       "      <th>flag</th>\n",
       "      <th>src_bytes</th>\n",
       "      <th>dst_bytes</th>\n",
       "      <th>land</th>\n",
       "      <th>wrong_fragment</th>\n",
       "      <th>urgent</th>\n",
       "      <th>hot</th>\n",
       "      <th>...</th>\n",
       "      <th>dst_host_serror_rate</th>\n",
       "      <th>dst_host_srv_serror_rate</th>\n",
       "      <th>dst_host_rerror_rate</th>\n",
       "      <th>dst_host_srv_rerror_rate</th>\n",
       "      <th>level</th>\n",
       "      <th>attack_dos</th>\n",
       "      <th>attack_normal</th>\n",
       "      <th>attack_probe</th>\n",
       "      <th>attack_r2l</th>\n",
       "      <th>attack_u2r</th>\n",
       "    </tr>\n",
       "  </thead>\n",
       "  <tbody>\n",
       "    <tr>\n",
       "      <th>0</th>\n",
       "      <td>0.0</td>\n",
       "      <td>0.5</td>\n",
       "      <td>0.289855</td>\n",
       "      <td>0.9</td>\n",
       "      <td>3.558064e-07</td>\n",
       "      <td>0.000000e+00</td>\n",
       "      <td>0.0</td>\n",
       "      <td>0.0</td>\n",
       "      <td>0.0</td>\n",
       "      <td>0.0</td>\n",
       "      <td>...</td>\n",
       "      <td>0.00</td>\n",
       "      <td>0.00</td>\n",
       "      <td>0.05</td>\n",
       "      <td>0.00</td>\n",
       "      <td>0.952381</td>\n",
       "      <td>0.0</td>\n",
       "      <td>1.0</td>\n",
       "      <td>0.0</td>\n",
       "      <td>0.0</td>\n",
       "      <td>0.0</td>\n",
       "    </tr>\n",
       "    <tr>\n",
       "      <th>1</th>\n",
       "      <td>0.0</td>\n",
       "      <td>1.0</td>\n",
       "      <td>0.637681</td>\n",
       "      <td>0.9</td>\n",
       "      <td>1.057999e-07</td>\n",
       "      <td>0.000000e+00</td>\n",
       "      <td>0.0</td>\n",
       "      <td>0.0</td>\n",
       "      <td>0.0</td>\n",
       "      <td>0.0</td>\n",
       "      <td>...</td>\n",
       "      <td>0.00</td>\n",
       "      <td>0.00</td>\n",
       "      <td>0.00</td>\n",
       "      <td>0.00</td>\n",
       "      <td>0.714286</td>\n",
       "      <td>0.0</td>\n",
       "      <td>1.0</td>\n",
       "      <td>0.0</td>\n",
       "      <td>0.0</td>\n",
       "      <td>0.0</td>\n",
       "    </tr>\n",
       "    <tr>\n",
       "      <th>2</th>\n",
       "      <td>0.0</td>\n",
       "      <td>0.5</td>\n",
       "      <td>0.710145</td>\n",
       "      <td>0.5</td>\n",
       "      <td>0.000000e+00</td>\n",
       "      <td>0.000000e+00</td>\n",
       "      <td>0.0</td>\n",
       "      <td>0.0</td>\n",
       "      <td>0.0</td>\n",
       "      <td>0.0</td>\n",
       "      <td>...</td>\n",
       "      <td>1.00</td>\n",
       "      <td>1.00</td>\n",
       "      <td>0.00</td>\n",
       "      <td>0.00</td>\n",
       "      <td>0.904762</td>\n",
       "      <td>1.0</td>\n",
       "      <td>0.0</td>\n",
       "      <td>0.0</td>\n",
       "      <td>0.0</td>\n",
       "      <td>0.0</td>\n",
       "    </tr>\n",
       "    <tr>\n",
       "      <th>3</th>\n",
       "      <td>0.0</td>\n",
       "      <td>0.5</td>\n",
       "      <td>0.347826</td>\n",
       "      <td>0.9</td>\n",
       "      <td>1.681203e-07</td>\n",
       "      <td>6.223961e-06</td>\n",
       "      <td>0.0</td>\n",
       "      <td>0.0</td>\n",
       "      <td>0.0</td>\n",
       "      <td>0.0</td>\n",
       "      <td>...</td>\n",
       "      <td>0.03</td>\n",
       "      <td>0.01</td>\n",
       "      <td>0.00</td>\n",
       "      <td>0.01</td>\n",
       "      <td>1.000000</td>\n",
       "      <td>0.0</td>\n",
       "      <td>1.0</td>\n",
       "      <td>0.0</td>\n",
       "      <td>0.0</td>\n",
       "      <td>0.0</td>\n",
       "    </tr>\n",
       "    <tr>\n",
       "      <th>4</th>\n",
       "      <td>0.0</td>\n",
       "      <td>0.5</td>\n",
       "      <td>0.347826</td>\n",
       "      <td>0.9</td>\n",
       "      <td>1.442067e-07</td>\n",
       "      <td>3.206260e-07</td>\n",
       "      <td>0.0</td>\n",
       "      <td>0.0</td>\n",
       "      <td>0.0</td>\n",
       "      <td>0.0</td>\n",
       "      <td>...</td>\n",
       "      <td>0.00</td>\n",
       "      <td>0.00</td>\n",
       "      <td>0.00</td>\n",
       "      <td>0.00</td>\n",
       "      <td>1.000000</td>\n",
       "      <td>0.0</td>\n",
       "      <td>1.0</td>\n",
       "      <td>0.0</td>\n",
       "      <td>0.0</td>\n",
       "      <td>0.0</td>\n",
       "    </tr>\n",
       "  </tbody>\n",
       "</table>\n",
       "<p>5 rows × 47 columns</p>\n",
       "</div>\n",
       "      <button class=\"colab-df-convert\" onclick=\"convertToInteractive('df-bf9a3e89-7b93-4e07-b5d4-dd61bb9d0af9')\"\n",
       "              title=\"Convert this dataframe to an interactive table.\"\n",
       "              style=\"display:none;\">\n",
       "        \n",
       "  <svg xmlns=\"http://www.w3.org/2000/svg\" height=\"24px\"viewBox=\"0 0 24 24\"\n",
       "       width=\"24px\">\n",
       "    <path d=\"M0 0h24v24H0V0z\" fill=\"none\"/>\n",
       "    <path d=\"M18.56 5.44l.94 2.06.94-2.06 2.06-.94-2.06-.94-.94-2.06-.94 2.06-2.06.94zm-11 1L8.5 8.5l.94-2.06 2.06-.94-2.06-.94L8.5 2.5l-.94 2.06-2.06.94zm10 10l.94 2.06.94-2.06 2.06-.94-2.06-.94-.94-2.06-.94 2.06-2.06.94z\"/><path d=\"M17.41 7.96l-1.37-1.37c-.4-.4-.92-.59-1.43-.59-.52 0-1.04.2-1.43.59L10.3 9.45l-7.72 7.72c-.78.78-.78 2.05 0 2.83L4 21.41c.39.39.9.59 1.41.59.51 0 1.02-.2 1.41-.59l7.78-7.78 2.81-2.81c.8-.78.8-2.07 0-2.86zM5.41 20L4 18.59l7.72-7.72 1.47 1.35L5.41 20z\"/>\n",
       "  </svg>\n",
       "      </button>\n",
       "      \n",
       "  <style>\n",
       "    .colab-df-container {\n",
       "      display:flex;\n",
       "      flex-wrap:wrap;\n",
       "      gap: 12px;\n",
       "    }\n",
       "\n",
       "    .colab-df-convert {\n",
       "      background-color: #E8F0FE;\n",
       "      border: none;\n",
       "      border-radius: 50%;\n",
       "      cursor: pointer;\n",
       "      display: none;\n",
       "      fill: #1967D2;\n",
       "      height: 32px;\n",
       "      padding: 0 0 0 0;\n",
       "      width: 32px;\n",
       "    }\n",
       "\n",
       "    .colab-df-convert:hover {\n",
       "      background-color: #E2EBFA;\n",
       "      box-shadow: 0px 1px 2px rgba(60, 64, 67, 0.3), 0px 1px 3px 1px rgba(60, 64, 67, 0.15);\n",
       "      fill: #174EA6;\n",
       "    }\n",
       "\n",
       "    [theme=dark] .colab-df-convert {\n",
       "      background-color: #3B4455;\n",
       "      fill: #D2E3FC;\n",
       "    }\n",
       "\n",
       "    [theme=dark] .colab-df-convert:hover {\n",
       "      background-color: #434B5C;\n",
       "      box-shadow: 0px 1px 3px 1px rgba(0, 0, 0, 0.15);\n",
       "      filter: drop-shadow(0px 1px 2px rgba(0, 0, 0, 0.3));\n",
       "      fill: #FFFFFF;\n",
       "    }\n",
       "  </style>\n",
       "\n",
       "      <script>\n",
       "        const buttonEl =\n",
       "          document.querySelector('#df-bf9a3e89-7b93-4e07-b5d4-dd61bb9d0af9 button.colab-df-convert');\n",
       "        buttonEl.style.display =\n",
       "          google.colab.kernel.accessAllowed ? 'block' : 'none';\n",
       "\n",
       "        async function convertToInteractive(key) {\n",
       "          const element = document.querySelector('#df-bf9a3e89-7b93-4e07-b5d4-dd61bb9d0af9');\n",
       "          const dataTable =\n",
       "            await google.colab.kernel.invokeFunction('convertToInteractive',\n",
       "                                                     [key], {});\n",
       "          if (!dataTable) return;\n",
       "\n",
       "          const docLinkHtml = 'Like what you see? Visit the ' +\n",
       "            '<a target=\"_blank\" href=https://colab.research.google.com/notebooks/data_table.ipynb>data table notebook</a>'\n",
       "            + ' to learn more about interactive tables.';\n",
       "          element.innerHTML = '';\n",
       "          dataTable['output_type'] = 'display_data';\n",
       "          await google.colab.output.renderOutput(dataTable, element);\n",
       "          const docLink = document.createElement('div');\n",
       "          docLink.innerHTML = docLinkHtml;\n",
       "          element.appendChild(docLink);\n",
       "        }\n",
       "      </script>\n",
       "    </div>\n",
       "  </div>\n",
       "  "
      ],
      "text/plain": [
       "   duration  protocol_type   service  flag     src_bytes     dst_bytes  land  \\\n",
       "0       0.0            0.5  0.289855   0.9  3.558064e-07  0.000000e+00   0.0   \n",
       "1       0.0            1.0  0.637681   0.9  1.057999e-07  0.000000e+00   0.0   \n",
       "2       0.0            0.5  0.710145   0.5  0.000000e+00  0.000000e+00   0.0   \n",
       "3       0.0            0.5  0.347826   0.9  1.681203e-07  6.223961e-06   0.0   \n",
       "4       0.0            0.5  0.347826   0.9  1.442067e-07  3.206260e-07   0.0   \n",
       "\n",
       "   wrong_fragment  urgent  hot  ...  dst_host_serror_rate  \\\n",
       "0             0.0     0.0  0.0  ...                  0.00   \n",
       "1             0.0     0.0  0.0  ...                  0.00   \n",
       "2             0.0     0.0  0.0  ...                  1.00   \n",
       "3             0.0     0.0  0.0  ...                  0.03   \n",
       "4             0.0     0.0  0.0  ...                  0.00   \n",
       "\n",
       "   dst_host_srv_serror_rate  dst_host_rerror_rate  dst_host_srv_rerror_rate  \\\n",
       "0                      0.00                  0.05                      0.00   \n",
       "1                      0.00                  0.00                      0.00   \n",
       "2                      1.00                  0.00                      0.00   \n",
       "3                      0.01                  0.00                      0.01   \n",
       "4                      0.00                  0.00                      0.00   \n",
       "\n",
       "      level  attack_dos  attack_normal  attack_probe  attack_r2l  attack_u2r  \n",
       "0  0.952381         0.0            1.0           0.0         0.0         0.0  \n",
       "1  0.714286         0.0            1.0           0.0         0.0         0.0  \n",
       "2  0.904762         1.0            0.0           0.0         0.0         0.0  \n",
       "3  1.000000         0.0            1.0           0.0         0.0         0.0  \n",
       "4  1.000000         0.0            1.0           0.0         0.0         0.0  \n",
       "\n",
       "[5 rows x 47 columns]"
      ]
     },
     "execution_count": 33,
     "metadata": {},
     "output_type": "execute_result"
    }
   ],
   "source": [
    "train_df.head()"
   ]
  },
  {
   "cell_type": "code",
   "execution_count": 34,
   "metadata": {
    "executionInfo": {
     "elapsed": 2793,
     "status": "ok",
     "timestamp": 1675491463171,
     "user": {
      "displayName": "Arpita Srivastava",
      "userId": "00636623162827386168"
     },
     "user_tz": -330
    },
    "id": "dxZ_56a1ZMgI"
   },
   "outputs": [],
   "source": [
    "#train_df.to_csv('/content/drive/MyDrive/NSLKDD_Arpita/Downloaded_Files/preprocessed_train_dataset.csv',index = False)"
   ]
  },
  {
   "attachments": {},
   "cell_type": "markdown",
   "metadata": {
    "id": "ejywwX9hCtov"
   },
   "source": [
    "################################################################################\n"
   ]
  },
  {
   "cell_type": "code",
   "execution_count": 35,
   "metadata": {
    "colab": {
     "base_uri": "https://localhost:8080/"
    },
    "executionInfo": {
     "elapsed": 1066,
     "status": "ok",
     "timestamp": 1675491500767,
     "user": {
      "displayName": "Arpita Srivastava",
      "userId": "00636623162827386168"
     },
     "user_tz": -330
    },
    "id": "tWU07PqbCNo3",
    "outputId": "1ec8907e-16ed-4c94-d016-3416fec721e4"
   },
   "outputs": [
    {
     "name": "stdout",
     "output_type": "stream",
     "text": [
      "Training samples:  125973\n",
      "Testing samples:  22543\n"
     ]
    }
   ],
   "source": [
    "print(\"Training samples: \",train_df.shape[0])\n",
    "print(\"Testing samples: \",test_df.shape[0])"
   ]
  },
  {
   "cell_type": "code",
   "execution_count": 36,
   "metadata": {
    "colab": {
     "base_uri": "https://localhost:8080/"
    },
    "executionInfo": {
     "elapsed": 12,
     "status": "ok",
     "timestamp": 1675491503219,
     "user": {
      "displayName": "Arpita Srivastava",
      "userId": "00636623162827386168"
     },
     "user_tz": -330
    },
    "id": "DXIcCFNwy0Lc",
    "outputId": "a414c8f4-4faa-473d-f27b-0860ab98515c"
   },
   "outputs": [
    {
     "name": "stdout",
     "output_type": "stream",
     "text": [
      "(125973, 47) (22543, 47)\n"
     ]
    }
   ],
   "source": [
    "print(train_df.shape, test_df.shape)"
   ]
  },
  {
   "cell_type": "code",
   "execution_count": 37,
   "metadata": {
    "executionInfo": {
     "elapsed": 998,
     "status": "ok",
     "timestamp": 1675491508665,
     "user": {
      "displayName": "Arpita Srivastava",
      "userId": "00636623162827386168"
     },
     "user_tz": -330
    },
    "id": "82r4eYBVDTHO"
   },
   "outputs": [],
   "source": [
    "def datasetbalancingUtility():\n",
    "  attacks = attack_s.value_counts()\n",
    "  max_count = attacks[0]\n",
    "  major_class = []\n",
    "  minor_class = []\n",
    "  for name,count in zip(attacks.index,attacks):\n",
    "    if(max_count - count >= max_count/2):\n",
    "      minor_class.append([name,count])\n",
    "    else:\n",
    "      major_class.append([name,count])\n",
    "  return major_class,minor_class"
   ]
  },
  {
   "cell_type": "code",
   "execution_count": 38,
   "metadata": {
    "colab": {
     "base_uri": "https://localhost:8080/"
    },
    "executionInfo": {
     "elapsed": 3,
     "status": "ok",
     "timestamp": 1675491511988,
     "user": {
      "displayName": "Arpita Srivastava",
      "userId": "00636623162827386168"
     },
     "user_tz": -330
    },
    "id": "e_qZV5jWDYWP",
    "outputId": "df21b27a-4d87-4c80-f2ee-e0709ff6ed5a"
   },
   "outputs": [
    {
     "name": "stdout",
     "output_type": "stream",
     "text": [
      "[['normal', 67343], ['dos', 45927]]\n"
     ]
    }
   ],
   "source": [
    "major_class,minor_class = datasetbalancingUtility()\n",
    "print(major_class)"
   ]
  },
  {
   "cell_type": "code",
   "execution_count": 39,
   "metadata": {
    "executionInfo": {
     "elapsed": 6,
     "status": "ok",
     "timestamp": 1675491514110,
     "user": {
      "displayName": "Arpita Srivastava",
      "userId": "00636623162827386168"
     },
     "user_tz": -330
    },
    "id": "fAGSt1Y7xshW"
   },
   "outputs": [],
   "source": [
    "def generateTrainingDataset():\n",
    "  res = []\n",
    "  majclass = [x[0] for x in major_class]\n",
    "  for label in majclass:\n",
    "    index = attack_s[attack_s == label].index.to_list()\n",
    "    res.extend(index)\n",
    "  res.sort()\n",
    "  return res"
   ]
  },
  {
   "cell_type": "code",
   "execution_count": 40,
   "metadata": {
    "executionInfo": {
     "elapsed": 1018,
     "status": "ok",
     "timestamp": 1675491518348,
     "user": {
      "displayName": "Arpita Srivastava",
      "userId": "00636623162827386168"
     },
     "user_tz": -330
    },
    "id": "X-nmgGAmyOsY"
   },
   "outputs": [],
   "source": [
    "indices = generateTrainingDataset()"
   ]
  },
  {
   "cell_type": "code",
   "execution_count": 41,
   "metadata": {
    "executionInfo": {
     "elapsed": 4,
     "status": "ok",
     "timestamp": 1675491521701,
     "user": {
      "displayName": "Arpita Srivastava",
      "userId": "00636623162827386168"
     },
     "user_tz": -330
    },
    "id": "vD19ZHBa8anz"
   },
   "outputs": [],
   "source": [
    "mdf = train_df.drop(index = indices)\n",
    "mdf.reset_index(inplace = True,drop = True)"
   ]
  },
  {
   "cell_type": "code",
   "execution_count": 42,
   "metadata": {
    "colab": {
     "base_uri": "https://localhost:8080/",
     "height": 317
    },
    "executionInfo": {
     "elapsed": 21,
     "status": "ok",
     "timestamp": 1675491524667,
     "user": {
      "displayName": "Arpita Srivastava",
      "userId": "00636623162827386168"
     },
     "user_tz": -330
    },
    "id": "pgc8196f8sUW",
    "outputId": "3cce14b2-285c-4d3f-edc8-32b5d15707f6"
   },
   "outputs": [
    {
     "name": "stdout",
     "output_type": "stream",
     "text": [
      "(12703, 47)\n"
     ]
    },
    {
     "data": {
      "text/html": [
       "\n",
       "  <div id=\"df-5dc68d6c-b641-4a5c-a658-8d926e3241ee\">\n",
       "    <div class=\"colab-df-container\">\n",
       "      <div>\n",
       "<style scoped>\n",
       "    .dataframe tbody tr th:only-of-type {\n",
       "        vertical-align: middle;\n",
       "    }\n",
       "\n",
       "    .dataframe tbody tr th {\n",
       "        vertical-align: top;\n",
       "    }\n",
       "\n",
       "    .dataframe thead th {\n",
       "        text-align: right;\n",
       "    }\n",
       "</style>\n",
       "<table border=\"1\" class=\"dataframe\">\n",
       "  <thead>\n",
       "    <tr style=\"text-align: right;\">\n",
       "      <th></th>\n",
       "      <th>duration</th>\n",
       "      <th>protocol_type</th>\n",
       "      <th>service</th>\n",
       "      <th>flag</th>\n",
       "      <th>src_bytes</th>\n",
       "      <th>dst_bytes</th>\n",
       "      <th>land</th>\n",
       "      <th>wrong_fragment</th>\n",
       "      <th>urgent</th>\n",
       "      <th>hot</th>\n",
       "      <th>...</th>\n",
       "      <th>dst_host_serror_rate</th>\n",
       "      <th>dst_host_srv_serror_rate</th>\n",
       "      <th>dst_host_rerror_rate</th>\n",
       "      <th>dst_host_srv_rerror_rate</th>\n",
       "      <th>level</th>\n",
       "      <th>attack_dos</th>\n",
       "      <th>attack_normal</th>\n",
       "      <th>attack_probe</th>\n",
       "      <th>attack_r2l</th>\n",
       "      <th>attack_u2r</th>\n",
       "    </tr>\n",
       "  </thead>\n",
       "  <tbody>\n",
       "    <tr>\n",
       "      <th>0</th>\n",
       "      <td>0.0</td>\n",
       "      <td>0.5</td>\n",
       "      <td>0.289855</td>\n",
       "      <td>0.9</td>\n",
       "      <td>2.420353e-07</td>\n",
       "      <td>0.0</td>\n",
       "      <td>0.0</td>\n",
       "      <td>0.0</td>\n",
       "      <td>0.0</td>\n",
       "      <td>0.0</td>\n",
       "      <td>...</td>\n",
       "      <td>0.0</td>\n",
       "      <td>0.0</td>\n",
       "      <td>0.00</td>\n",
       "      <td>0.0</td>\n",
       "      <td>0.714286</td>\n",
       "      <td>0.0</td>\n",
       "      <td>0.0</td>\n",
       "      <td>0.0</td>\n",
       "      <td>1.0</td>\n",
       "      <td>0.0</td>\n",
       "    </tr>\n",
       "    <tr>\n",
       "      <th>1</th>\n",
       "      <td>0.0</td>\n",
       "      <td>0.0</td>\n",
       "      <td>0.202899</td>\n",
       "      <td>0.9</td>\n",
       "      <td>1.304382e-08</td>\n",
       "      <td>0.0</td>\n",
       "      <td>0.0</td>\n",
       "      <td>0.0</td>\n",
       "      <td>0.0</td>\n",
       "      <td>0.0</td>\n",
       "      <td>...</td>\n",
       "      <td>0.0</td>\n",
       "      <td>0.0</td>\n",
       "      <td>0.00</td>\n",
       "      <td>0.0</td>\n",
       "      <td>0.857143</td>\n",
       "      <td>0.0</td>\n",
       "      <td>0.0</td>\n",
       "      <td>1.0</td>\n",
       "      <td>0.0</td>\n",
       "      <td>0.0</td>\n",
       "    </tr>\n",
       "    <tr>\n",
       "      <th>2</th>\n",
       "      <td>0.0</td>\n",
       "      <td>0.0</td>\n",
       "      <td>0.202899</td>\n",
       "      <td>0.9</td>\n",
       "      <td>5.797253e-09</td>\n",
       "      <td>0.0</td>\n",
       "      <td>0.0</td>\n",
       "      <td>0.0</td>\n",
       "      <td>0.0</td>\n",
       "      <td>0.0</td>\n",
       "      <td>...</td>\n",
       "      <td>0.0</td>\n",
       "      <td>0.0</td>\n",
       "      <td>0.00</td>\n",
       "      <td>0.0</td>\n",
       "      <td>0.809524</td>\n",
       "      <td>0.0</td>\n",
       "      <td>0.0</td>\n",
       "      <td>1.0</td>\n",
       "      <td>0.0</td>\n",
       "      <td>0.0</td>\n",
       "    </tr>\n",
       "    <tr>\n",
       "      <th>3</th>\n",
       "      <td>0.0</td>\n",
       "      <td>0.5</td>\n",
       "      <td>0.710145</td>\n",
       "      <td>0.1</td>\n",
       "      <td>0.000000e+00</td>\n",
       "      <td>0.0</td>\n",
       "      <td>0.0</td>\n",
       "      <td>0.0</td>\n",
       "      <td>0.0</td>\n",
       "      <td>0.0</td>\n",
       "      <td>...</td>\n",
       "      <td>0.0</td>\n",
       "      <td>0.0</td>\n",
       "      <td>0.29</td>\n",
       "      <td>1.0</td>\n",
       "      <td>0.952381</td>\n",
       "      <td>0.0</td>\n",
       "      <td>0.0</td>\n",
       "      <td>1.0</td>\n",
       "      <td>0.0</td>\n",
       "      <td>0.0</td>\n",
       "    </tr>\n",
       "    <tr>\n",
       "      <th>4</th>\n",
       "      <td>0.0</td>\n",
       "      <td>0.5</td>\n",
       "      <td>0.289855</td>\n",
       "      <td>0.9</td>\n",
       "      <td>2.420353e-07</td>\n",
       "      <td>0.0</td>\n",
       "      <td>0.0</td>\n",
       "      <td>0.0</td>\n",
       "      <td>0.0</td>\n",
       "      <td>0.0</td>\n",
       "      <td>...</td>\n",
       "      <td>0.0</td>\n",
       "      <td>0.0</td>\n",
       "      <td>0.00</td>\n",
       "      <td>0.0</td>\n",
       "      <td>0.571429</td>\n",
       "      <td>0.0</td>\n",
       "      <td>0.0</td>\n",
       "      <td>0.0</td>\n",
       "      <td>1.0</td>\n",
       "      <td>0.0</td>\n",
       "    </tr>\n",
       "  </tbody>\n",
       "</table>\n",
       "<p>5 rows × 47 columns</p>\n",
       "</div>\n",
       "      <button class=\"colab-df-convert\" onclick=\"convertToInteractive('df-5dc68d6c-b641-4a5c-a658-8d926e3241ee')\"\n",
       "              title=\"Convert this dataframe to an interactive table.\"\n",
       "              style=\"display:none;\">\n",
       "        \n",
       "  <svg xmlns=\"http://www.w3.org/2000/svg\" height=\"24px\"viewBox=\"0 0 24 24\"\n",
       "       width=\"24px\">\n",
       "    <path d=\"M0 0h24v24H0V0z\" fill=\"none\"/>\n",
       "    <path d=\"M18.56 5.44l.94 2.06.94-2.06 2.06-.94-2.06-.94-.94-2.06-.94 2.06-2.06.94zm-11 1L8.5 8.5l.94-2.06 2.06-.94-2.06-.94L8.5 2.5l-.94 2.06-2.06.94zm10 10l.94 2.06.94-2.06 2.06-.94-2.06-.94-.94-2.06-.94 2.06-2.06.94z\"/><path d=\"M17.41 7.96l-1.37-1.37c-.4-.4-.92-.59-1.43-.59-.52 0-1.04.2-1.43.59L10.3 9.45l-7.72 7.72c-.78.78-.78 2.05 0 2.83L4 21.41c.39.39.9.59 1.41.59.51 0 1.02-.2 1.41-.59l7.78-7.78 2.81-2.81c.8-.78.8-2.07 0-2.86zM5.41 20L4 18.59l7.72-7.72 1.47 1.35L5.41 20z\"/>\n",
       "  </svg>\n",
       "      </button>\n",
       "      \n",
       "  <style>\n",
       "    .colab-df-container {\n",
       "      display:flex;\n",
       "      flex-wrap:wrap;\n",
       "      gap: 12px;\n",
       "    }\n",
       "\n",
       "    .colab-df-convert {\n",
       "      background-color: #E8F0FE;\n",
       "      border: none;\n",
       "      border-radius: 50%;\n",
       "      cursor: pointer;\n",
       "      display: none;\n",
       "      fill: #1967D2;\n",
       "      height: 32px;\n",
       "      padding: 0 0 0 0;\n",
       "      width: 32px;\n",
       "    }\n",
       "\n",
       "    .colab-df-convert:hover {\n",
       "      background-color: #E2EBFA;\n",
       "      box-shadow: 0px 1px 2px rgba(60, 64, 67, 0.3), 0px 1px 3px 1px rgba(60, 64, 67, 0.15);\n",
       "      fill: #174EA6;\n",
       "    }\n",
       "\n",
       "    [theme=dark] .colab-df-convert {\n",
       "      background-color: #3B4455;\n",
       "      fill: #D2E3FC;\n",
       "    }\n",
       "\n",
       "    [theme=dark] .colab-df-convert:hover {\n",
       "      background-color: #434B5C;\n",
       "      box-shadow: 0px 1px 3px 1px rgba(0, 0, 0, 0.15);\n",
       "      filter: drop-shadow(0px 1px 2px rgba(0, 0, 0, 0.3));\n",
       "      fill: #FFFFFF;\n",
       "    }\n",
       "  </style>\n",
       "\n",
       "      <script>\n",
       "        const buttonEl =\n",
       "          document.querySelector('#df-5dc68d6c-b641-4a5c-a658-8d926e3241ee button.colab-df-convert');\n",
       "        buttonEl.style.display =\n",
       "          google.colab.kernel.accessAllowed ? 'block' : 'none';\n",
       "\n",
       "        async function convertToInteractive(key) {\n",
       "          const element = document.querySelector('#df-5dc68d6c-b641-4a5c-a658-8d926e3241ee');\n",
       "          const dataTable =\n",
       "            await google.colab.kernel.invokeFunction('convertToInteractive',\n",
       "                                                     [key], {});\n",
       "          if (!dataTable) return;\n",
       "\n",
       "          const docLinkHtml = 'Like what you see? Visit the ' +\n",
       "            '<a target=\"_blank\" href=https://colab.research.google.com/notebooks/data_table.ipynb>data table notebook</a>'\n",
       "            + ' to learn more about interactive tables.';\n",
       "          element.innerHTML = '';\n",
       "          dataTable['output_type'] = 'display_data';\n",
       "          await google.colab.output.renderOutput(dataTable, element);\n",
       "          const docLink = document.createElement('div');\n",
       "          docLink.innerHTML = docLinkHtml;\n",
       "          element.appendChild(docLink);\n",
       "        }\n",
       "      </script>\n",
       "    </div>\n",
       "  </div>\n",
       "  "
      ],
      "text/plain": [
       "   duration  protocol_type   service  flag     src_bytes  dst_bytes  land  \\\n",
       "0       0.0            0.5  0.289855   0.9  2.420353e-07        0.0   0.0   \n",
       "1       0.0            0.0  0.202899   0.9  1.304382e-08        0.0   0.0   \n",
       "2       0.0            0.0  0.202899   0.9  5.797253e-09        0.0   0.0   \n",
       "3       0.0            0.5  0.710145   0.1  0.000000e+00        0.0   0.0   \n",
       "4       0.0            0.5  0.289855   0.9  2.420353e-07        0.0   0.0   \n",
       "\n",
       "   wrong_fragment  urgent  hot  ...  dst_host_serror_rate  \\\n",
       "0             0.0     0.0  0.0  ...                   0.0   \n",
       "1             0.0     0.0  0.0  ...                   0.0   \n",
       "2             0.0     0.0  0.0  ...                   0.0   \n",
       "3             0.0     0.0  0.0  ...                   0.0   \n",
       "4             0.0     0.0  0.0  ...                   0.0   \n",
       "\n",
       "   dst_host_srv_serror_rate  dst_host_rerror_rate  dst_host_srv_rerror_rate  \\\n",
       "0                       0.0                  0.00                       0.0   \n",
       "1                       0.0                  0.00                       0.0   \n",
       "2                       0.0                  0.00                       0.0   \n",
       "3                       0.0                  0.29                       1.0   \n",
       "4                       0.0                  0.00                       0.0   \n",
       "\n",
       "      level  attack_dos  attack_normal  attack_probe  attack_r2l  attack_u2r  \n",
       "0  0.714286         0.0            0.0           0.0         1.0         0.0  \n",
       "1  0.857143         0.0            0.0           1.0         0.0         0.0  \n",
       "2  0.809524         0.0            0.0           1.0         0.0         0.0  \n",
       "3  0.952381         0.0            0.0           1.0         0.0         0.0  \n",
       "4  0.571429         0.0            0.0           0.0         1.0         0.0  \n",
       "\n",
       "[5 rows x 47 columns]"
      ]
     },
     "execution_count": 42,
     "metadata": {},
     "output_type": "execute_result"
    }
   ],
   "source": [
    "print(mdf.shape)\n",
    "mdf.head()"
   ]
  },
  {
   "cell_type": "code",
   "execution_count": 43,
   "metadata": {
    "executionInfo": {
     "elapsed": 742,
     "status": "ok",
     "timestamp": 1675491529351,
     "user": {
      "displayName": "Arpita Srivastava",
      "userId": "00636623162827386168"
     },
     "user_tz": -330
    },
    "id": "aoUn847s_blh"
   },
   "outputs": [],
   "source": [
    "X = mdf.iloc[:,:mdf.shape[1]-NUM_LABELS]\n",
    "Y = mdf.iloc[:,-NUM_LABELS:].to_numpy().astype(np.float32)"
   ]
  },
  {
   "cell_type": "code",
   "execution_count": 44,
   "metadata": {
    "colab": {
     "base_uri": "https://localhost:8080/"
    },
    "executionInfo": {
     "elapsed": 10,
     "status": "ok",
     "timestamp": 1675491531773,
     "user": {
      "displayName": "Arpita Srivastava",
      "userId": "00636623162827386168"
     },
     "user_tz": -330
    },
    "id": "SAM20TNZ14Q3",
    "outputId": "a966df57-e7c1-485a-f6ac-9aef98126afe"
   },
   "outputs": [
    {
     "name": "stdout",
     "output_type": "stream",
     "text": [
      "(12703, 42)\n",
      "(12703, 5)\n"
     ]
    }
   ],
   "source": [
    "print(X.shape)\n",
    "print(Y.shape)"
   ]
  },
  {
   "cell_type": "code",
   "execution_count": 45,
   "metadata": {
    "executionInfo": {
     "elapsed": 3,
     "status": "ok",
     "timestamp": 1675491534264,
     "user": {
      "displayName": "Arpita Srivastava",
      "userId": "00636623162827386168"
     },
     "user_tz": -330
    },
    "id": "JTnYM5Ruc1Vo"
   },
   "outputs": [],
   "source": [
    "BATCH_SIZE = 128\n",
    "dataset = tf.data.Dataset.from_tensor_slices((X, Y))\n",
    "dataset = dataset.shuffle(buffer_size=512).batch(BATCH_SIZE)"
   ]
  },
  {
   "attachments": {},
   "cell_type": "markdown",
   "metadata": {
    "id": "htm4LEVKlejx"
   },
   "source": [
    "# Conditional WGAN-GP"
   ]
  },
  {
   "cell_type": "code",
   "execution_count": 46,
   "metadata": {
    "executionInfo": {
     "elapsed": 1007,
     "status": "ok",
     "timestamp": 1675491539628,
     "user": {
      "displayName": "Arpita Srivastava",
      "userId": "00636623162827386168"
     },
     "user_tz": -330
    },
    "id": "JtIz2BmXoWLg"
   },
   "outputs": [],
   "source": [
    "# Importing Libraries\n",
    "\n",
    "import tensorflow as tf\n",
    "\n",
    "from tensorflow import keras\n",
    "from tensorflow.keras.models import Sequential\n",
    "from tensorflow.keras import layers\n",
    "from tensorflow.keras.models import Model\n",
    "from tensorflow.keras.optimizers import Adam\n",
    "\n",
    "from matplotlib import pyplot as plt\n",
    "import numpy as np\n",
    "\n",
    "import os"
   ]
  },
  {
   "cell_type": "code",
   "execution_count": 47,
   "metadata": {
    "executionInfo": {
     "elapsed": 6,
     "status": "ok",
     "timestamp": 1675491543642,
     "user": {
      "displayName": "Arpita Srivastava",
      "userId": "00636623162827386168"
     },
     "user_tz": -330
    },
    "id": "6EQqxkGtPbBW"
   },
   "outputs": [],
   "source": [
    "# parameters\n",
    "LAYERS_DIM = 128\n",
    "OUTPUT_DIM = X.shape[1]\n",
    "Z_NOISE_DIM = 32"
   ]
  },
  {
   "cell_type": "code",
   "execution_count": 48,
   "metadata": {
    "executionInfo": {
     "elapsed": 721,
     "status": "ok",
     "timestamp": 1675491548035,
     "user": {
      "displayName": "Arpita Srivastava",
      "userId": "00636623162827386168"
     },
     "user_tz": -330
    },
    "id": "9fRU5-sFFNKW"
   },
   "outputs": [],
   "source": [
    "def Generator():\n",
    "    model = Sequential(name=\"generator\")\n",
    "    model.add(layers.Input(shape=(Z_NOISE_DIM + NUM_LABELS,)))\n",
    "    model.add(layers.Dense(128,activation='relu'))\n",
    "    model.add(layers.Dense(64,activation='relu'))\n",
    "    model.add(layers.Dense(OUTPUT_DIM,activation='sigmoid'))\n",
    "    return model\n",
    "\n",
    "def Discriminator():\n",
    "    model = Sequential(name=\"critic\")\n",
    "    model.add(layers.Input(shape=(OUTPUT_DIM + NUM_LABELS,)))\n",
    "    model.add(layers.Dense(128,activation='relu'))\n",
    "    model.add(layers.Dense(64,activation='relu'))\n",
    "    model.add(layers.Dense(1,activation='linear'))\n",
    "    return model"
   ]
  },
  {
   "cell_type": "code",
   "execution_count": 49,
   "metadata": {
    "colab": {
     "base_uri": "https://localhost:8080/"
    },
    "executionInfo": {
     "elapsed": 24,
     "status": "ok",
     "timestamp": 1675491553554,
     "user": {
      "displayName": "Arpita Srivastava",
      "userId": "00636623162827386168"
     },
     "user_tz": -330
    },
    "id": "71DepywXy0Ns",
    "outputId": "64399f4e-8b3e-4a6d-bde5-9f3d53b15721"
   },
   "outputs": [
    {
     "name": "stdout",
     "output_type": "stream",
     "text": [
      "Model: \"generator\"\n",
      "_________________________________________________________________\n",
      " Layer (type)                Output Shape              Param #   \n",
      "=================================================================\n",
      " dense (Dense)               (None, 128)               4864      \n",
      "                                                                 \n",
      " dense_1 (Dense)             (None, 64)                8256      \n",
      "                                                                 \n",
      " dense_2 (Dense)             (None, 42)                2730      \n",
      "                                                                 \n",
      "=================================================================\n",
      "Total params: 15,850\n",
      "Trainable params: 15,850\n",
      "Non-trainable params: 0\n",
      "_________________________________________________________________\n"
     ]
    }
   ],
   "source": [
    "generator = Generator()\n",
    "generator.summary()"
   ]
  },
  {
   "cell_type": "code",
   "execution_count": 50,
   "metadata": {
    "colab": {
     "base_uri": "https://localhost:8080/"
    },
    "executionInfo": {
     "elapsed": 965,
     "status": "ok",
     "timestamp": 1675491561419,
     "user": {
      "displayName": "Arpita Srivastava",
      "userId": "00636623162827386168"
     },
     "user_tz": -330
    },
    "id": "cO76v1OWQp4a",
    "outputId": "d0ed31b9-a2d1-48e0-a441-a83b17ba1459"
   },
   "outputs": [
    {
     "name": "stdout",
     "output_type": "stream",
     "text": [
      "Model: \"critic\"\n",
      "_________________________________________________________________\n",
      " Layer (type)                Output Shape              Param #   \n",
      "=================================================================\n",
      " dense_3 (Dense)             (None, 128)               6144      \n",
      "                                                                 \n",
      " dense_4 (Dense)             (None, 64)                8256      \n",
      "                                                                 \n",
      " dense_5 (Dense)             (None, 1)                 65        \n",
      "                                                                 \n",
      "=================================================================\n",
      "Total params: 14,465\n",
      "Trainable params: 14,465\n",
      "Non-trainable params: 0\n",
      "_________________________________________________________________\n"
     ]
    }
   ],
   "source": [
    "critic = Discriminator()\n",
    "critic.summary()"
   ]
  },
  {
   "cell_type": "code",
   "execution_count": 51,
   "metadata": {
    "executionInfo": {
     "elapsed": 1009,
     "status": "ok",
     "timestamp": 1675491577881,
     "user": {
      "displayName": "Arpita Srivastava",
      "userId": "00636623162827386168"
     },
     "user_tz": -330
    },
    "id": "-RZkBgcyRQej"
   },
   "outputs": [],
   "source": [
    "class WGAN_GP(keras.Model):\n",
    "    def __init__(self, \n",
    "                 critic, \n",
    "                 generator, \n",
    "                 latent_dim, \n",
    "                 critic_extra_steps, \n",
    "                 gp_weight=10.0): # UPDATE for WGAN-GP: gradient penalty weight\n",
    "        super().__init__()\n",
    "        self.critic = critic\n",
    "        self.generator = generator\n",
    "        self.latent_dim = latent_dim\n",
    "        self.c_extra_steps = critic_extra_steps\n",
    "        self.gp_weight = gp_weight # WGAN-GP\n",
    "        self.d_loss_metric = keras.metrics.Mean(name=\"d_loss\")\n",
    "        self.g_loss_metric = keras.metrics.Mean(name=\"g_loss\")\n",
    "        self.d_lossArray = []\n",
    "        self.g_lossArray = []\n",
    "\n",
    "\n",
    "    def compile(self, d_optimizer, g_optimizer, d_loss_fn, g_loss_fn):\n",
    "        super(WGAN_GP, self).compile()\n",
    "        self.d_optimizer = d_optimizer\n",
    "        self.g_optimizer = g_optimizer\n",
    "        self.d_loss_fn = d_loss_fn\n",
    "        self.g_loss_fn = g_loss_fn\n",
    "\n",
    "    @property\n",
    "    def metrics(self):\n",
    "        return [self.d_loss_metric, self.g_loss_metric]\n",
    "\n",
    "    # UPDATE for WGAN-GP: use gradient penalty instead of weight clipping\n",
    "    def gradient_penalty(self, batch_size, real_images, fake_images):\n",
    "        \"\"\" Calculates the gradient penalty.\n",
    "\n",
    "        Gradient penalty is calculated on an interpolated image\n",
    "        and added to the discriminator loss.\n",
    "        \"\"\"\n",
    "        alpha = tf.random.normal([batch_size, 1], 0.0, 1.0)\n",
    "        diff = fake_images - real_images\n",
    "        # 1. Create the interpolated image\n",
    "        interpolated = real_images + alpha * diff\n",
    "\n",
    "        with tf.GradientTape() as gp_tape:\n",
    "            gp_tape.watch(interpolated)\n",
    "            # 2. Get the Critic's output for the interpolated image\n",
    "            pred = self.critic(interpolated, training=True)\n",
    "\n",
    "        # 3. Calculate the gradients w.r.t to the interpolated image\n",
    "        grads = gp_tape.gradient(pred, [interpolated])[0]\n",
    "        # 4. Calculate the norm of the gradients.\n",
    "        norm = tf.sqrt(tf.reduce_sum(tf.square(grads), axis=[1]))\n",
    "        # 5. Calculate gradient penalty\n",
    "        gradient_penalty = tf.reduce_mean((norm - 1.0) ** 2)\n",
    "        return gradient_penalty\n",
    "\n",
    "    def train_step(self, data):\n",
    "\n",
    "        real_packet, one_hot_labels = data\n",
    "\n",
    "        batch_size = tf.shape(real_packet)[0]\n",
    "        noise = tf.random.normal(shape=(batch_size, self.latent_dim))\n",
    "\n",
    "        real_packet = tf.concat([real_packet,one_hot_labels],axis=1)\n",
    "        noise_sample = tf.concat([noise,one_hot_labels],axis=1)\n",
    "\n",
    "        # Train the critic more often than the generator by 5 times (self.c_extra_steps) \n",
    "        for i in range(self.c_extra_steps):\n",
    "            # Step 1. Train the critic with both real images and fake images\n",
    "            with tf.GradientTape() as tape:\n",
    "                pred_real = self.critic(real_packet, training=True)\n",
    "                fake_packet = self.generator(noise_sample, training=True)\n",
    "                fake_packet = tf.concat([fake_packet,one_hot_labels],axis=1)\n",
    "                pred_fake = self.critic(fake_packet, training=True)\n",
    "                # UPDATE for WGAN-GP: Calculate the gradient penalty\n",
    "                gp = self.gradient_penalty(batch_size, real_packet, fake_packet)\n",
    "                # UPDATE for WGAN-GP: Add gradient penalty to the original critic loss \n",
    "                d_loss = self.d_loss_fn(pred_real, pred_fake) + gp * self.gp_weight \n",
    "            # Compute critic gradients\n",
    "            grads = tape.gradient(d_loss, self.critic.trainable_variables)\n",
    "            # Update critic weights\n",
    "            self.d_optimizer.apply_gradients(zip(grads, self.critic.trainable_variables))\n",
    "\n",
    "        # Step 2. Train the generator (do not update weights of the critic)\n",
    "        misleading_labels = tf.ones((batch_size, 1)) # G wants D to think the fake images are real (label as 1)\n",
    "\n",
    "        with tf.GradientTape() as tape:\n",
    "            fake_packet = self.generator(noise_sample, training=True)\n",
    "            fake_packet = tf.concat([fake_packet,one_hot_labels],axis=1)\n",
    "            pred_fake = self.critic(fake_packet, training=True)\n",
    "            g_loss = self.g_loss_fn(pred_fake)\n",
    "        # Compute generator gradients\n",
    "        grads = tape.gradient(g_loss, self.generator.trainable_variables)\n",
    "        # Update generator wieghts\n",
    "        self.g_optimizer.apply_gradients(zip(grads, self.generator.trainable_variables))\n",
    "\n",
    "        self.d_loss_metric.update_state(d_loss)\n",
    "        self.g_loss_metric.update_state(g_loss)\n",
    " \n",
    "        return {\"d_loss\": self.d_loss_metric.result(), \"g_loss\": self.g_loss_metric.result()}"
   ]
  },
  {
   "cell_type": "code",
   "execution_count": 52,
   "metadata": {
    "executionInfo": {
     "elapsed": 987,
     "status": "ok",
     "timestamp": 1675491608963,
     "user": {
      "displayName": "Arpita Srivastava",
      "userId": "00636623162827386168"
     },
     "user_tz": -330
    },
    "id": "z79JSxLGdclV"
   },
   "outputs": [],
   "source": [
    "class GANMonitor(keras.callbacks.Callback):\n",
    "    def on_train_end(self, logs=None):\n",
    "        self.model.generator.save('/content/drive/MyDrive/NSLKDD_Arpita/Downloaded_Files/final_model_generator.h5')\n",
    "\n",
    "    def on_epoch_end(self, epoch, logs=None):\n",
    "        self.model.d_lossArray.append(self.model.d_loss_metric.result().numpy())\n",
    "        self.model.g_lossArray.append(self.model.g_loss_metric.result().numpy())\n",
    "        if epoch % 8 == 0:\n",
    "          self.model.generator.save(f'/content/drive/MyDrive/NSLKDD_Arpita/Downloaded_Files/generator_{epoch}.h5')"
   ]
  },
  {
   "cell_type": "code",
   "execution_count": 53,
   "metadata": {
    "executionInfo": {
     "elapsed": 746,
     "status": "ok",
     "timestamp": 1675491617655,
     "user": {
      "displayName": "Arpita Srivastava",
      "userId": "00636623162827386168"
     },
     "user_tz": -330
    },
    "id": "9CMzYFW_dpOE"
   },
   "outputs": [],
   "source": [
    "wgan_gp = WGAN_GP(critic=critic, \n",
    "              generator=generator, \n",
    "              latent_dim=Z_NOISE_DIM,\n",
    "              critic_extra_steps=5) "
   ]
  },
  {
   "cell_type": "code",
   "execution_count": 54,
   "metadata": {
    "executionInfo": {
     "elapsed": 1005,
     "status": "ok",
     "timestamp": 1675491622903,
     "user": {
      "displayName": "Arpita Srivastava",
      "userId": "00636623162827386168"
     },
     "user_tz": -330
    },
    "id": "nzvxnu5zdrsE"
   },
   "outputs": [],
   "source": [
    "# Wasserstein loss for the critic\n",
    "def d_wasserstein_loss(pred_real, pred_fake):\n",
    "    real_loss = tf.reduce_mean(pred_real)\n",
    "    fake_loss = tf.reduce_mean(pred_fake)\n",
    "    return fake_loss - real_loss\n",
    "\n",
    "# Wasserstein loss for the generator\n",
    "def g_wasserstein_loss(pred_fake):\n",
    "    return -tf.reduce_mean(pred_fake)"
   ]
  },
  {
   "cell_type": "code",
   "execution_count": 55,
   "metadata": {
    "executionInfo": {
     "elapsed": 666,
     "status": "ok",
     "timestamp": 1675491637665,
     "user": {
      "displayName": "Arpita Srivastava",
      "userId": "00636623162827386168"
     },
     "user_tz": -330
    },
    "id": "3CTGNjLcd0wf"
   },
   "outputs": [],
   "source": [
    "LR = 0.0002 # WGAN-GP paper recommends lr of 0.0002\n",
    "d_optimizer = keras.optimizers.Adam(learning_rate=LR, beta_1=0.5, beta_2=0.9) # UPDATE for WGAN-GP: use Adam instead of RMSProp\n",
    "g_optimizer = keras.optimizers.Adam(learning_rate=LR, beta_1=0.5, beta_2=0.9) # UPDATE for WGAN-GP: use Adam instead of RMSProp"
   ]
  },
  {
   "cell_type": "code",
   "execution_count": 56,
   "metadata": {
    "executionInfo": {
     "elapsed": 6,
     "status": "ok",
     "timestamp": 1675491640931,
     "user": {
      "displayName": "Arpita Srivastava",
      "userId": "00636623162827386168"
     },
     "user_tz": -330
    },
    "id": "E8OAkZ_Td2m6"
   },
   "outputs": [],
   "source": [
    "wgan_gp.compile(\n",
    "    d_optimizer=d_optimizer,\n",
    "    g_optimizer=g_optimizer,  \n",
    "    d_loss_fn = d_wasserstein_loss,\n",
    "    g_loss_fn = g_wasserstein_loss\n",
    ")"
   ]
  },
  {
   "cell_type": "code",
   "execution_count": 57,
   "metadata": {
    "colab": {
     "base_uri": "https://localhost:8080/"
    },
    "executionInfo": {
     "elapsed": 320446,
     "status": "ok",
     "timestamp": 1675491969953,
     "user": {
      "displayName": "Arpita Srivastava",
      "userId": "00636623162827386168"
     },
     "user_tz": -330
    },
    "id": "twulj-P7d4Fk",
    "outputId": "9ccf1a05-7826-4a8d-febb-9b31c495f276"
   },
   "outputs": [
    {
     "name": "stdout",
     "output_type": "stream",
     "text": [
      "Epoch 1/256\n",
      " 98/100 [============================>.] - ETA: 0s - d_loss: -2.5112 - g_loss: 2.0071"
     ]
    },
    {
     "name": "stderr",
     "output_type": "stream",
     "text": [
      "WARNING:tensorflow:Compiled the loaded model, but the compiled metrics have yet to be built. `model.compile_metrics` will be empty until you train or evaluate the model.\n"
     ]
    },
    {
     "name": "stdout",
     "output_type": "stream",
     "text": [
      "\b\b\b\b\b\b\b\b\b\b\b\b\b\b\b\b\b\b\b\b\b\b\b\b\b\b\b\b\b\b\b\b\b\b\b\b\b\b\b\b\b\b\b\b\b\b\b\b\b\b\b\b\b\b\b\b\b\b\b\b\b\b\b\b\b\b\b\b\b\b\b\b\b\b\b\b\b\b\b\b\b\b\b\b\b\r\n",
      "100/100 [==============================] - 7s 10ms/step - d_loss: -2.5095 - g_loss: 1.9986\n",
      "Epoch 2/256\n",
      "100/100 [==============================] - 1s 10ms/step - d_loss: -1.8800 - g_loss: 0.6987\n",
      "Epoch 3/256\n",
      "100/100 [==============================] - 1s 10ms/step - d_loss: -1.3088 - g_loss: -0.0496\n",
      "Epoch 4/256\n",
      "100/100 [==============================] - 1s 10ms/step - d_loss: -0.9707 - g_loss: -0.3094\n",
      "Epoch 5/256\n",
      "100/100 [==============================] - 1s 10ms/step - d_loss: -0.7326 - g_loss: -0.3144\n",
      "Epoch 6/256\n",
      "100/100 [==============================] - 1s 10ms/step - d_loss: -0.6266 - g_loss: -0.1979\n",
      "Epoch 7/256\n",
      "100/100 [==============================] - 1s 12ms/step - d_loss: -0.5874 - g_loss: -0.1471\n",
      "Epoch 8/256\n",
      "100/100 [==============================] - 2s 16ms/step - d_loss: -0.5566 - g_loss: -0.1408\n",
      "Epoch 9/256\n",
      " 99/100 [============================>.] - ETA: 0s - d_loss: -0.5310 - g_loss: -0.1656"
     ]
    },
    {
     "name": "stderr",
     "output_type": "stream",
     "text": [
      "WARNING:tensorflow:Compiled the loaded model, but the compiled metrics have yet to be built. `model.compile_metrics` will be empty until you train or evaluate the model.\n"
     ]
    },
    {
     "name": "stdout",
     "output_type": "stream",
     "text": [
      "\b\b\b\b\b\b\b\b\b\b\b\b\b\b\b\b\b\b\b\b\b\b\b\b\b\b\b\b\b\b\b\b\b\b\b\b\b\b\b\b\b\b\b\b\b\b\b\b\b\b\b\b\b\b\b\b\b\b\b\b\b\b\b\b\b\b\b\b\b\b\b\b\b\b\b\b\b\b\b\b\b\b\b\b\b\b\r\n",
      "100/100 [==============================] - 2s 17ms/step - d_loss: -0.5330 - g_loss: -0.1640\n",
      "Epoch 10/256\n",
      "100/100 [==============================] - 1s 10ms/step - d_loss: -0.5165 - g_loss: -0.1414\n",
      "Epoch 11/256\n",
      "100/100 [==============================] - 1s 10ms/step - d_loss: -0.4954 - g_loss: -0.0957\n",
      "Epoch 12/256\n",
      "100/100 [==============================] - 1s 10ms/step - d_loss: -0.4850 - g_loss: -0.0962\n",
      "Epoch 13/256\n",
      "100/100 [==============================] - 1s 10ms/step - d_loss: -0.4732 - g_loss: -0.0419\n",
      "Epoch 14/256\n",
      "100/100 [==============================] - 1s 10ms/step - d_loss: -0.4564 - g_loss: -0.0622\n",
      "Epoch 15/256\n",
      "100/100 [==============================] - 1s 10ms/step - d_loss: -0.4480 - g_loss: -0.0513\n",
      "Epoch 16/256\n",
      "100/100 [==============================] - 1s 10ms/step - d_loss: -0.4369 - g_loss: -0.0249\n",
      "Epoch 17/256\n",
      " 98/100 [============================>.] - ETA: 0s - d_loss: -0.4222 - g_loss: -0.0068"
     ]
    },
    {
     "name": "stderr",
     "output_type": "stream",
     "text": [
      "WARNING:tensorflow:Compiled the loaded model, but the compiled metrics have yet to be built. `model.compile_metrics` will be empty until you train or evaluate the model.\n"
     ]
    },
    {
     "name": "stdout",
     "output_type": "stream",
     "text": [
      "\b\b\b\b\b\b\b\b\b\b\b\b\b\b\b\b\b\b\b\b\b\b\b\b\b\b\b\b\b\b\b\b\b\b\b\b\b\b\b\b\b\b\b\b\b\b\b\b\b\b\b\b\b\b\b\b\b\b\b\b\b\b\b\b\b\b\b\b\b\b\b\b\b\b\b\b\b\b\b\b\b\b\b\b\b\b\r\n",
      "100/100 [==============================] - 1s 10ms/step - d_loss: -0.4236 - g_loss: -0.0076\n",
      "Epoch 18/256\n",
      "100/100 [==============================] - 1s 10ms/step - d_loss: -0.4138 - g_loss: 0.0398\n",
      "Epoch 19/256\n",
      "100/100 [==============================] - 1s 10ms/step - d_loss: -0.4005 - g_loss: 0.0580\n",
      "Epoch 20/256\n",
      "100/100 [==============================] - 1s 10ms/step - d_loss: -0.3945 - g_loss: 0.0723\n",
      "Epoch 21/256\n",
      "100/100 [==============================] - 1s 10ms/step - d_loss: -0.3768 - g_loss: 0.0920\n",
      "Epoch 22/256\n",
      "100/100 [==============================] - 1s 10ms/step - d_loss: -0.3653 - g_loss: 0.1138\n",
      "Epoch 23/256\n",
      "100/100 [==============================] - 1s 10ms/step - d_loss: -0.3552 - g_loss: 0.0878\n",
      "Epoch 24/256\n",
      "100/100 [==============================] - 1s 14ms/step - d_loss: -0.3454 - g_loss: 0.0639\n",
      "Epoch 25/256\n",
      " 99/100 [============================>.] - ETA: 0s - d_loss: -0.3400 - g_loss: 0.0901"
     ]
    },
    {
     "name": "stderr",
     "output_type": "stream",
     "text": [
      "WARNING:tensorflow:Compiled the loaded model, but the compiled metrics have yet to be built. `model.compile_metrics` will be empty until you train or evaluate the model.\n"
     ]
    },
    {
     "name": "stdout",
     "output_type": "stream",
     "text": [
      "\b\b\b\b\b\b\b\b\b\b\b\b\b\b\b\b\b\b\b\b\b\b\b\b\b\b\b\b\b\b\b\b\b\b\b\b\b\b\b\b\b\b\b\b\b\b\b\b\b\b\b\b\b\b\b\b\b\b\b\b\b\b\b\b\b\b\b\b\b\b\b\b\b\b\b\b\b\b\b\b\b\b\b\b\b\r\n",
      "100/100 [==============================] - 2s 21ms/step - d_loss: -0.3409 - g_loss: 0.0899\n",
      "Epoch 26/256\n",
      "100/100 [==============================] - 2s 18ms/step - d_loss: -0.3330 - g_loss: 0.0772\n",
      "Epoch 27/256\n",
      "100/100 [==============================] - 2s 17ms/step - d_loss: -0.3247 - g_loss: 0.0130\n",
      "Epoch 28/256\n",
      "100/100 [==============================] - 1s 13ms/step - d_loss: -0.3126 - g_loss: -0.0240\n",
      "Epoch 29/256\n",
      "100/100 [==============================] - 2s 18ms/step - d_loss: -0.3098 - g_loss: -0.0118\n",
      "Epoch 30/256\n",
      "100/100 [==============================] - 1s 14ms/step - d_loss: -0.2993 - g_loss: -0.0278\n",
      "Epoch 31/256\n",
      "100/100 [==============================] - 1s 10ms/step - d_loss: -0.2925 - g_loss: -0.0401\n",
      "Epoch 32/256\n",
      "100/100 [==============================] - 1s 10ms/step - d_loss: -0.2910 - g_loss: -0.0736\n",
      "Epoch 33/256\n",
      " 95/100 [===========================>..] - ETA: 0s - d_loss: -0.2851 - g_loss: -0.0586"
     ]
    },
    {
     "name": "stderr",
     "output_type": "stream",
     "text": [
      "WARNING:tensorflow:Compiled the loaded model, but the compiled metrics have yet to be built. `model.compile_metrics` will be empty until you train or evaluate the model.\n"
     ]
    },
    {
     "name": "stdout",
     "output_type": "stream",
     "text": [
      "\b\b\b\b\b\b\b\b\b\b\b\b\b\b\b\b\b\b\b\b\b\b\b\b\b\b\b\b\b\b\b\b\b\b\b\b\b\b\b\b\b\b\b\b\b\b\b\b\b\b\b\b\b\b\b\b\b\b\b\b\b\b\b\b\b\b\b\b\b\b\b\b\b\b\b\b\b\b\b\b\b\b\b\b\b\b\r\n",
      "100/100 [==============================] - 1s 10ms/step - d_loss: -0.2866 - g_loss: -0.0550\n",
      "Epoch 34/256\n",
      "100/100 [==============================] - 1s 10ms/step - d_loss: -0.2820 - g_loss: -0.0935\n",
      "Epoch 35/256\n",
      "100/100 [==============================] - 1s 10ms/step - d_loss: -0.2762 - g_loss: -0.0999\n",
      "Epoch 36/256\n",
      "100/100 [==============================] - 1s 10ms/step - d_loss: -0.2763 - g_loss: -0.0896\n",
      "Epoch 37/256\n",
      "100/100 [==============================] - 1s 10ms/step - d_loss: -0.2752 - g_loss: -0.0734\n",
      "Epoch 38/256\n",
      "100/100 [==============================] - 1s 10ms/step - d_loss: -0.2712 - g_loss: -0.0938\n",
      "Epoch 39/256\n",
      "100/100 [==============================] - 1s 10ms/step - d_loss: -0.2659 - g_loss: -0.0619\n",
      "Epoch 40/256\n",
      "100/100 [==============================] - 1s 10ms/step - d_loss: -0.2639 - g_loss: -0.0579\n",
      "Epoch 41/256\n",
      " 98/100 [============================>.] - ETA: 0s - d_loss: -0.2586 - g_loss: -0.1023"
     ]
    },
    {
     "name": "stderr",
     "output_type": "stream",
     "text": [
      "WARNING:tensorflow:Compiled the loaded model, but the compiled metrics have yet to be built. `model.compile_metrics` will be empty until you train or evaluate the model.\n"
     ]
    },
    {
     "name": "stdout",
     "output_type": "stream",
     "text": [
      "\b\b\b\b\b\b\b\b\b\b\b\b\b\b\b\b\b\b\b\b\b\b\b\b\b\b\b\b\b\b\b\b\b\b\b\b\b\b\b\b\b\b\b\b\b\b\b\b\b\b\b\b\b\b\b\b\b\b\b\b\b\b\b\b\b\b\b\b\b\b\b\b\b\b\b\b\b\b\b\b\b\b\b\b\b\b\r\n",
      "100/100 [==============================] - 1s 10ms/step - d_loss: -0.2590 - g_loss: -0.1008\n",
      "Epoch 42/256\n",
      "100/100 [==============================] - 1s 10ms/step - d_loss: -0.2600 - g_loss: -0.0574\n",
      "Epoch 43/256\n",
      "100/100 [==============================] - 1s 10ms/step - d_loss: -0.2580 - g_loss: -0.0948\n",
      "Epoch 44/256\n",
      "100/100 [==============================] - 1s 10ms/step - d_loss: -0.2466 - g_loss: -0.0941\n",
      "Epoch 45/256\n",
      "100/100 [==============================] - 1s 10ms/step - d_loss: -0.2503 - g_loss: -0.0830\n",
      "Epoch 46/256\n",
      "100/100 [==============================] - 1s 10ms/step - d_loss: -0.2448 - g_loss: -0.0869\n",
      "Epoch 47/256\n",
      "100/100 [==============================] - 1s 10ms/step - d_loss: -0.2455 - g_loss: -0.0845\n",
      "Epoch 48/256\n",
      "100/100 [==============================] - 1s 10ms/step - d_loss: -0.2443 - g_loss: -0.0848\n",
      "Epoch 49/256\n",
      "100/100 [==============================] - ETA: 0s - d_loss: -0.2447 - g_loss: -0.0809"
     ]
    },
    {
     "name": "stderr",
     "output_type": "stream",
     "text": [
      "WARNING:tensorflow:Compiled the loaded model, but the compiled metrics have yet to be built. `model.compile_metrics` will be empty until you train or evaluate the model.\n"
     ]
    },
    {
     "name": "stdout",
     "output_type": "stream",
     "text": [
      "\b\b\b\b\b\b\b\b\b\b\b\b\b\b\b\b\b\b\b\b\b\b\b\b\b\b\b\b\b\b\b\b\b\b\b\b\b\b\b\b\b\b\b\b\b\b\b\b\b\b\b\b\b\b\b\b\b\b\b\b\b\b\b\b\b\b\b\b\b\b\b\b\b\b\b\b\b\b\b\b\b\b\b\b\b\b\r\n",
      "100/100 [==============================] - 1s 10ms/step - d_loss: -0.2447 - g_loss: -0.0809\n",
      "Epoch 50/256\n",
      "100/100 [==============================] - 1s 10ms/step - d_loss: -0.2397 - g_loss: -0.0747\n",
      "Epoch 51/256\n",
      "100/100 [==============================] - 2s 17ms/step - d_loss: -0.2415 - g_loss: -0.0385\n",
      "Epoch 52/256\n",
      "100/100 [==============================] - 1s 14ms/step - d_loss: -0.2345 - g_loss: -0.0897\n",
      "Epoch 53/256\n",
      "100/100 [==============================] - 1s 11ms/step - d_loss: -0.2355 - g_loss: -0.0453\n",
      "Epoch 54/256\n",
      "100/100 [==============================] - 1s 10ms/step - d_loss: -0.2332 - g_loss: -0.0710\n",
      "Epoch 55/256\n",
      "100/100 [==============================] - 1s 10ms/step - d_loss: -0.2309 - g_loss: -0.0284\n",
      "Epoch 56/256\n",
      "100/100 [==============================] - 1s 10ms/step - d_loss: -0.2288 - g_loss: -0.0792\n",
      "Epoch 57/256\n",
      " 98/100 [============================>.] - ETA: 0s - d_loss: -0.2268 - g_loss: -0.0717"
     ]
    },
    {
     "name": "stderr",
     "output_type": "stream",
     "text": [
      "WARNING:tensorflow:Compiled the loaded model, but the compiled metrics have yet to be built. `model.compile_metrics` will be empty until you train or evaluate the model.\n"
     ]
    },
    {
     "name": "stdout",
     "output_type": "stream",
     "text": [
      "\b\b\b\b\b\b\b\b\b\b\b\b\b\b\b\b\b\b\b\b\b\b\b\b\b\b\b\b\b\b\b\b\b\b\b\b\b\b\b\b\b\b\b\b\b\b\b\b\b\b\b\b\b\b\b\b\b\b\b\b\b\b\b\b\b\b\b\b\b\b\b\b\b\b\b\b\b\b\b\b\b\b\b\b\b\b\r\n",
      "100/100 [==============================] - 1s 10ms/step - d_loss: -0.2280 - g_loss: -0.0718\n",
      "Epoch 58/256\n",
      "100/100 [==============================] - 1s 11ms/step - d_loss: -0.2213 - g_loss: -0.0889\n",
      "Epoch 59/256\n",
      "100/100 [==============================] - 1s 11ms/step - d_loss: -0.2215 - g_loss: -0.0946\n",
      "Epoch 60/256\n",
      "100/100 [==============================] - 2s 18ms/step - d_loss: -0.2207 - g_loss: -0.0740\n",
      "Epoch 61/256\n",
      "100/100 [==============================] - 2s 18ms/step - d_loss: -0.2177 - g_loss: -0.0611\n",
      "Epoch 62/256\n",
      "100/100 [==============================] - 1s 10ms/step - d_loss: -0.2178 - g_loss: -0.0800\n",
      "Epoch 63/256\n",
      "100/100 [==============================] - 1s 10ms/step - d_loss: -0.2122 - g_loss: -0.1107\n",
      "Epoch 64/256\n",
      "100/100 [==============================] - 1s 10ms/step - d_loss: -0.2147 - g_loss: -0.0629\n",
      "Epoch 65/256\n",
      " 99/100 [============================>.] - ETA: 0s - d_loss: -0.2109 - g_loss: -0.0715"
     ]
    },
    {
     "name": "stderr",
     "output_type": "stream",
     "text": [
      "WARNING:tensorflow:Compiled the loaded model, but the compiled metrics have yet to be built. `model.compile_metrics` will be empty until you train or evaluate the model.\n"
     ]
    },
    {
     "name": "stdout",
     "output_type": "stream",
     "text": [
      "\b\b\b\b\b\b\b\b\b\b\b\b\b\b\b\b\b\b\b\b\b\b\b\b\b\b\b\b\b\b\b\b\b\b\b\b\b\b\b\b\b\b\b\b\b\b\b\b\b\b\b\b\b\b\b\b\b\b\b\b\b\b\b\b\b\b\b\b\b\b\b\b\b\b\b\b\b\b\b\b\b\b\b\b\b\b\r\n",
      "100/100 [==============================] - 1s 10ms/step - d_loss: -0.2131 - g_loss: -0.0695\n",
      "Epoch 66/256\n",
      "100/100 [==============================] - 2s 16ms/step - d_loss: -0.2114 - g_loss: -0.0805\n",
      "Epoch 67/256\n",
      "100/100 [==============================] - 1s 11ms/step - d_loss: -0.2121 - g_loss: -0.0869\n",
      "Epoch 68/256\n",
      "100/100 [==============================] - 1s 10ms/step - d_loss: -0.2088 - g_loss: -0.0528\n",
      "Epoch 69/256\n",
      "100/100 [==============================] - 1s 10ms/step - d_loss: -0.2128 - g_loss: -0.0604\n",
      "Epoch 70/256\n",
      "100/100 [==============================] - 1s 10ms/step - d_loss: -0.2085 - g_loss: -0.1112\n",
      "Epoch 71/256\n",
      "100/100 [==============================] - 1s 10ms/step - d_loss: -0.2099 - g_loss: -0.0848\n",
      "Epoch 72/256\n",
      "100/100 [==============================] - 1s 10ms/step - d_loss: -0.2055 - g_loss: -0.0931\n",
      "Epoch 73/256\n",
      "100/100 [==============================] - ETA: 0s - d_loss: -0.2061 - g_loss: -0.1063"
     ]
    },
    {
     "name": "stderr",
     "output_type": "stream",
     "text": [
      "WARNING:tensorflow:Compiled the loaded model, but the compiled metrics have yet to be built. `model.compile_metrics` will be empty until you train or evaluate the model.\n"
     ]
    },
    {
     "name": "stdout",
     "output_type": "stream",
     "text": [
      "\b\b\b\b\b\b\b\b\b\b\b\b\b\b\b\b\b\b\b\b\b\b\b\b\b\b\b\b\b\b\b\b\b\b\b\b\b\b\b\b\b\b\b\b\b\b\b\b\b\b\b\b\b\b\b\b\b\b\b\b\b\b\b\b\b\b\b\b\b\b\b\b\b\b\b\b\b\b\b\b\b\b\b\b\b\b\r\n",
      "100/100 [==============================] - 1s 10ms/step - d_loss: -0.2061 - g_loss: -0.1063\n",
      "Epoch 74/256\n",
      "100/100 [==============================] - 1s 10ms/step - d_loss: -0.2056 - g_loss: -0.0823\n",
      "Epoch 75/256\n",
      "100/100 [==============================] - 1s 10ms/step - d_loss: -0.2085 - g_loss: -0.0749\n",
      "Epoch 76/256\n",
      "100/100 [==============================] - 1s 10ms/step - d_loss: -0.2031 - g_loss: -0.1058\n",
      "Epoch 77/256\n",
      "100/100 [==============================] - 1s 10ms/step - d_loss: -0.2028 - g_loss: -0.1346\n",
      "Epoch 78/256\n",
      "100/100 [==============================] - 1s 10ms/step - d_loss: -0.2034 - g_loss: -0.1329\n",
      "Epoch 79/256\n",
      "100/100 [==============================] - 1s 10ms/step - d_loss: -0.2010 - g_loss: -0.1161\n",
      "Epoch 80/256\n",
      "100/100 [==============================] - 1s 10ms/step - d_loss: -0.2027 - g_loss: -0.1346\n",
      "Epoch 81/256\n",
      "100/100 [==============================] - ETA: 0s - d_loss: -0.2001 - g_loss: -0.1524"
     ]
    },
    {
     "name": "stderr",
     "output_type": "stream",
     "text": [
      "WARNING:tensorflow:Compiled the loaded model, but the compiled metrics have yet to be built. `model.compile_metrics` will be empty until you train or evaluate the model.\n"
     ]
    },
    {
     "name": "stdout",
     "output_type": "stream",
     "text": [
      "\b\b\b\b\b\b\b\b\b\b\b\b\b\b\b\b\b\b\b\b\b\b\b\b\b\b\b\b\b\b\b\b\b\b\b\b\b\b\b\b\b\b\b\b\b\b\b\b\b\b\b\b\b\b\b\b\b\b\b\b\b\b\b\b\b\b\b\b\b\b\b\b\b\b\b\b\b\b\b\b\b\b\b\b\b\b\r\n",
      "100/100 [==============================] - 1s 11ms/step - d_loss: -0.2001 - g_loss: -0.1524\n",
      "Epoch 82/256\n",
      "100/100 [==============================] - 1s 15ms/step - d_loss: -0.2017 - g_loss: -0.1182\n",
      "Epoch 83/256\n",
      "100/100 [==============================] - 1s 10ms/step - d_loss: -0.2024 - g_loss: -0.1203\n",
      "Epoch 84/256\n",
      "100/100 [==============================] - 1s 10ms/step - d_loss: -0.1989 - g_loss: -0.1371\n",
      "Epoch 85/256\n",
      "100/100 [==============================] - 1s 10ms/step - d_loss: -0.2025 - g_loss: -0.1487\n",
      "Epoch 86/256\n",
      "100/100 [==============================] - 1s 10ms/step - d_loss: -0.2000 - g_loss: -0.1389\n",
      "Epoch 87/256\n",
      "100/100 [==============================] - 1s 10ms/step - d_loss: -0.1970 - g_loss: -0.1306\n",
      "Epoch 88/256\n",
      "100/100 [==============================] - 1s 10ms/step - d_loss: -0.1964 - g_loss: -0.1522\n",
      "Epoch 89/256\n",
      " 97/100 [============================>.] - ETA: 0s - d_loss: -0.1958 - g_loss: -0.1173"
     ]
    },
    {
     "name": "stderr",
     "output_type": "stream",
     "text": [
      "WARNING:tensorflow:Compiled the loaded model, but the compiled metrics have yet to be built. `model.compile_metrics` will be empty until you train or evaluate the model.\n"
     ]
    },
    {
     "name": "stdout",
     "output_type": "stream",
     "text": [
      "\b\b\b\b\b\b\b\b\b\b\b\b\b\b\b\b\b\b\b\b\b\b\b\b\b\b\b\b\b\b\b\b\b\b\b\b\b\b\b\b\b\b\b\b\b\b\b\b\b\b\b\b\b\b\b\b\b\b\b\b\b\b\b\b\b\b\b\b\b\b\b\b\b\b\b\b\b\b\b\b\b\b\b\b\b\b\r\n",
      "100/100 [==============================] - 1s 10ms/step - d_loss: -0.1974 - g_loss: -0.1176\n",
      "Epoch 90/256\n",
      "100/100 [==============================] - 1s 10ms/step - d_loss: -0.1935 - g_loss: -0.1171\n",
      "Epoch 91/256\n",
      "100/100 [==============================] - 1s 10ms/step - d_loss: -0.1963 - g_loss: -0.1257\n",
      "Epoch 92/256\n",
      "100/100 [==============================] - 1s 10ms/step - d_loss: -0.1932 - g_loss: -0.1329\n",
      "Epoch 93/256\n",
      "100/100 [==============================] - 1s 10ms/step - d_loss: -0.1934 - g_loss: -0.1259\n",
      "Epoch 94/256\n",
      "100/100 [==============================] - 1s 10ms/step - d_loss: -0.1905 - g_loss: -0.1252\n",
      "Epoch 95/256\n",
      "100/100 [==============================] - 1s 10ms/step - d_loss: -0.1905 - g_loss: -0.1357\n",
      "Epoch 96/256\n",
      "100/100 [==============================] - 1s 10ms/step - d_loss: -0.1933 - g_loss: -0.1038\n",
      "Epoch 97/256\n",
      " 96/100 [===========================>..] - ETA: 0s - d_loss: -0.1901 - g_loss: -0.1374"
     ]
    },
    {
     "name": "stderr",
     "output_type": "stream",
     "text": [
      "WARNING:tensorflow:Compiled the loaded model, but the compiled metrics have yet to be built. `model.compile_metrics` will be empty until you train or evaluate the model.\n"
     ]
    },
    {
     "name": "stdout",
     "output_type": "stream",
     "text": [
      "\b\b\b\b\b\b\b\b\b\b\b\b\b\b\b\b\b\b\b\b\b\b\b\b\b\b\b\b\b\b\b\b\b\b\b\b\b\b\b\b\b\b\b\b\b\b\b\b\b\b\b\b\b\b\b\b\b\b\b\b\b\b\b\b\b\b\b\b\b\b\b\b\b\b\b\b\b\b\b\b\b\b\b\b\b\b\r\n",
      "100/100 [==============================] - 1s 10ms/step - d_loss: -0.1913 - g_loss: -0.1336\n",
      "Epoch 98/256\n",
      "100/100 [==============================] - 1s 10ms/step - d_loss: -0.1927 - g_loss: -0.1314\n",
      "Epoch 99/256\n",
      "100/100 [==============================] - 1s 10ms/step - d_loss: -0.1853 - g_loss: -0.0974\n",
      "Epoch 100/256\n",
      "100/100 [==============================] - 1s 10ms/step - d_loss: -0.1903 - g_loss: -0.1405\n",
      "Epoch 101/256\n",
      "100/100 [==============================] - 1s 10ms/step - d_loss: -0.1904 - g_loss: -0.1330\n",
      "Epoch 102/256\n",
      "100/100 [==============================] - 1s 10ms/step - d_loss: -0.1868 - g_loss: -0.1752\n",
      "Epoch 103/256\n",
      "100/100 [==============================] - 1s 10ms/step - d_loss: -0.1858 - g_loss: -0.1063\n",
      "Epoch 104/256\n",
      "100/100 [==============================] - 1s 10ms/step - d_loss: -0.1830 - g_loss: -0.1614\n",
      "Epoch 105/256\n",
      " 96/100 [===========================>..] - ETA: 0s - d_loss: -0.1817 - g_loss: -0.1617"
     ]
    },
    {
     "name": "stderr",
     "output_type": "stream",
     "text": [
      "WARNING:tensorflow:Compiled the loaded model, but the compiled metrics have yet to be built. `model.compile_metrics` will be empty until you train or evaluate the model.\n"
     ]
    },
    {
     "name": "stdout",
     "output_type": "stream",
     "text": [
      "\b\b\b\b\b\b\b\b\b\b\b\b\b\b\b\b\b\b\b\b\b\b\b\b\b\b\b\b\b\b\b\b\b\b\b\b\b\b\b\b\b\b\b\b\b\b\b\b\b\b\b\b\b\b\b\b\b\b\b\b\b\b\b\b\b\b\b\b\b\b\b\b\b\b\b\b\b\b\b\b\b\b\b\b\b\b\r\n",
      "100/100 [==============================] - 1s 10ms/step - d_loss: -0.1821 - g_loss: -0.1667\n",
      "Epoch 106/256\n",
      "100/100 [==============================] - 1s 10ms/step - d_loss: -0.1841 - g_loss: -0.1423\n",
      "Epoch 107/256\n",
      "100/100 [==============================] - 1s 10ms/step - d_loss: -0.1819 - g_loss: -0.1731\n",
      "Epoch 108/256\n",
      "100/100 [==============================] - 1s 10ms/step - d_loss: -0.1812 - g_loss: -0.1059\n",
      "Epoch 109/256\n",
      "100/100 [==============================] - 1s 10ms/step - d_loss: -0.1791 - g_loss: -0.1425\n",
      "Epoch 110/256\n",
      "100/100 [==============================] - 1s 10ms/step - d_loss: -0.1806 - g_loss: -0.1536\n",
      "Epoch 111/256\n",
      "100/100 [==============================] - 1s 10ms/step - d_loss: -0.1809 - g_loss: -0.1757\n",
      "Epoch 112/256\n",
      "100/100 [==============================] - 1s 10ms/step - d_loss: -0.1782 - g_loss: -0.1698\n",
      "Epoch 113/256\n",
      " 95/100 [===========================>..] - ETA: 0s - d_loss: -0.1730 - g_loss: -0.1085"
     ]
    },
    {
     "name": "stderr",
     "output_type": "stream",
     "text": [
      "WARNING:tensorflow:Compiled the loaded model, but the compiled metrics have yet to be built. `model.compile_metrics` will be empty until you train or evaluate the model.\n"
     ]
    },
    {
     "name": "stdout",
     "output_type": "stream",
     "text": [
      "\b\b\b\b\b\b\b\b\b\b\b\b\b\b\b\b\b\b\b\b\b\b\b\b\b\b\b\b\b\b\b\b\b\b\b\b\b\b\b\b\b\b\b\b\b\b\b\b\b\b\b\b\b\b\b\b\b\b\b\b\b\b\b\b\b\b\b\b\b\b\b\b\b\b\b\b\b\b\b\b\b\b\b\b\b\b\r\n",
      "100/100 [==============================] - 1s 10ms/step - d_loss: -0.1744 - g_loss: -0.1113\n",
      "Epoch 114/256\n",
      "100/100 [==============================] - 1s 10ms/step - d_loss: -0.1780 - g_loss: -0.1820\n",
      "Epoch 115/256\n",
      "100/100 [==============================] - 1s 10ms/step - d_loss: -0.1765 - g_loss: -0.1796\n",
      "Epoch 116/256\n",
      "100/100 [==============================] - 1s 10ms/step - d_loss: -0.1768 - g_loss: -0.1357\n",
      "Epoch 117/256\n",
      "100/100 [==============================] - 1s 10ms/step - d_loss: -0.1729 - g_loss: -0.1517\n",
      "Epoch 118/256\n",
      "100/100 [==============================] - 1s 10ms/step - d_loss: -0.1734 - g_loss: -0.2135\n",
      "Epoch 119/256\n",
      "100/100 [==============================] - 1s 10ms/step - d_loss: -0.1718 - g_loss: -0.1540\n",
      "Epoch 120/256\n",
      "100/100 [==============================] - 1s 10ms/step - d_loss: -0.1740 - g_loss: -0.1326\n",
      "Epoch 121/256\n",
      " 97/100 [============================>.] - ETA: 0s - d_loss: -0.1710 - g_loss: -0.1849"
     ]
    },
    {
     "name": "stderr",
     "output_type": "stream",
     "text": [
      "WARNING:tensorflow:Compiled the loaded model, but the compiled metrics have yet to be built. `model.compile_metrics` will be empty until you train or evaluate the model.\n"
     ]
    },
    {
     "name": "stdout",
     "output_type": "stream",
     "text": [
      "\b\b\b\b\b\b\b\b\b\b\b\b\b\b\b\b\b\b\b\b\b\b\b\b\b\b\b\b\b\b\b\b\b\b\b\b\b\b\b\b\b\b\b\b\b\b\b\b\b\b\b\b\b\b\b\b\b\b\b\b\b\b\b\b\b\b\b\b\b\b\b\b\b\b\b\b\b\b\b\b\b\b\b\b\b\b\r\n",
      "100/100 [==============================] - 1s 11ms/step - d_loss: -0.1712 - g_loss: -0.1863\n",
      "Epoch 122/256\n",
      "100/100 [==============================] - 1s 10ms/step - d_loss: -0.1728 - g_loss: -0.1870\n",
      "Epoch 123/256\n",
      "100/100 [==============================] - 1s 10ms/step - d_loss: -0.1724 - g_loss: -0.1706\n",
      "Epoch 124/256\n",
      "100/100 [==============================] - 1s 11ms/step - d_loss: -0.1697 - g_loss: -0.1622\n",
      "Epoch 125/256\n",
      "100/100 [==============================] - 1s 10ms/step - d_loss: -0.1733 - g_loss: -0.2036\n",
      "Epoch 126/256\n",
      "100/100 [==============================] - 1s 10ms/step - d_loss: -0.1675 - g_loss: -0.2053\n",
      "Epoch 127/256\n",
      "100/100 [==============================] - 1s 10ms/step - d_loss: -0.1688 - g_loss: -0.1630\n",
      "Epoch 128/256\n",
      "100/100 [==============================] - 1s 10ms/step - d_loss: -0.1683 - g_loss: -0.1603\n",
      "Epoch 129/256\n",
      "100/100 [==============================] - ETA: 0s - d_loss: -0.1676 - g_loss: -0.1874"
     ]
    },
    {
     "name": "stderr",
     "output_type": "stream",
     "text": [
      "WARNING:tensorflow:Compiled the loaded model, but the compiled metrics have yet to be built. `model.compile_metrics` will be empty until you train or evaluate the model.\n"
     ]
    },
    {
     "name": "stdout",
     "output_type": "stream",
     "text": [
      "\b\b\b\b\b\b\b\b\b\b\b\b\b\b\b\b\b\b\b\b\b\b\b\b\b\b\b\b\b\b\b\b\b\b\b\b\b\b\b\b\b\b\b\b\b\b\b\b\b\b\b\b\b\b\b\b\b\b\b\b\b\b\b\b\b\b\b\b\b\b\b\b\b\b\b\b\b\b\b\b\b\b\b\b\b\b\r\n",
      "100/100 [==============================] - 1s 11ms/step - d_loss: -0.1676 - g_loss: -0.1874\n",
      "Epoch 130/256\n",
      "100/100 [==============================] - 1s 10ms/step - d_loss: -0.1672 - g_loss: -0.2401\n",
      "Epoch 131/256\n",
      "100/100 [==============================] - 1s 10ms/step - d_loss: -0.1689 - g_loss: -0.1707\n",
      "Epoch 132/256\n",
      "100/100 [==============================] - 1s 11ms/step - d_loss: -0.1637 - g_loss: -0.1426\n",
      "Epoch 133/256\n",
      "100/100 [==============================] - 1s 10ms/step - d_loss: -0.1632 - g_loss: -0.2030\n",
      "Epoch 134/256\n",
      "100/100 [==============================] - 1s 10ms/step - d_loss: -0.1651 - g_loss: -0.1700\n",
      "Epoch 135/256\n",
      "100/100 [==============================] - 1s 10ms/step - d_loss: -0.1646 - g_loss: -0.1860\n",
      "Epoch 136/256\n",
      "100/100 [==============================] - 1s 10ms/step - d_loss: -0.1660 - g_loss: -0.1781\n",
      "Epoch 137/256\n",
      " 97/100 [============================>.] - ETA: 0s - d_loss: -0.1627 - g_loss: -0.2118"
     ]
    },
    {
     "name": "stderr",
     "output_type": "stream",
     "text": [
      "WARNING:tensorflow:Compiled the loaded model, but the compiled metrics have yet to be built. `model.compile_metrics` will be empty until you train or evaluate the model.\n"
     ]
    },
    {
     "name": "stdout",
     "output_type": "stream",
     "text": [
      "\b\b\b\b\b\b\b\b\b\b\b\b\b\b\b\b\b\b\b\b\b\b\b\b\b\b\b\b\b\b\b\b\b\b\b\b\b\b\b\b\b\b\b\b\b\b\b\b\b\b\b\b\b\b\b\b\b\b\b\b\b\b\b\b\b\b\b\b\b\b\b\b\b\b\b\b\b\b\b\b\b\b\b\b\b\b\r\n",
      "100/100 [==============================] - 1s 11ms/step - d_loss: -0.1632 - g_loss: -0.2093\n",
      "Epoch 138/256\n",
      "100/100 [==============================] - 1s 11ms/step - d_loss: -0.1625 - g_loss: -0.1361\n",
      "Epoch 139/256\n",
      "100/100 [==============================] - 1s 10ms/step - d_loss: -0.1633 - g_loss: -0.1708\n",
      "Epoch 140/256\n",
      "100/100 [==============================] - 1s 10ms/step - d_loss: -0.1609 - g_loss: -0.1706\n",
      "Epoch 141/256\n",
      "100/100 [==============================] - 1s 10ms/step - d_loss: -0.1616 - g_loss: -0.1645\n",
      "Epoch 142/256\n",
      "100/100 [==============================] - 1s 10ms/step - d_loss: -0.1607 - g_loss: -0.1486\n",
      "Epoch 143/256\n",
      "100/100 [==============================] - 1s 10ms/step - d_loss: -0.1579 - g_loss: -0.1855\n",
      "Epoch 144/256\n",
      "100/100 [==============================] - 1s 10ms/step - d_loss: -0.1633 - g_loss: -0.1825\n",
      "Epoch 145/256\n",
      " 97/100 [============================>.] - ETA: 0s - d_loss: -0.1593 - g_loss: -0.1897"
     ]
    },
    {
     "name": "stderr",
     "output_type": "stream",
     "text": [
      "WARNING:tensorflow:Compiled the loaded model, but the compiled metrics have yet to be built. `model.compile_metrics` will be empty until you train or evaluate the model.\n"
     ]
    },
    {
     "name": "stdout",
     "output_type": "stream",
     "text": [
      "\b\b\b\b\b\b\b\b\b\b\b\b\b\b\b\b\b\b\b\b\b\b\b\b\b\b\b\b\b\b\b\b\b\b\b\b\b\b\b\b\b\b\b\b\b\b\b\b\b\b\b\b\b\b\b\b\b\b\b\b\b\b\b\b\b\b\b\b\b\b\b\b\b\b\b\b\b\b\b\b\b\b\b\b\b\b\r\n",
      "100/100 [==============================] - 1s 10ms/step - d_loss: -0.1614 - g_loss: -0.1888\n",
      "Epoch 146/256\n",
      "100/100 [==============================] - 1s 10ms/step - d_loss: -0.1571 - g_loss: -0.2030\n",
      "Epoch 147/256\n",
      "100/100 [==============================] - 1s 10ms/step - d_loss: -0.1595 - g_loss: -0.1452\n",
      "Epoch 148/256\n",
      "100/100 [==============================] - 1s 10ms/step - d_loss: -0.1582 - g_loss: -0.1804\n",
      "Epoch 149/256\n",
      "100/100 [==============================] - 1s 10ms/step - d_loss: -0.1569 - g_loss: -0.2241\n",
      "Epoch 150/256\n",
      "100/100 [==============================] - 1s 10ms/step - d_loss: -0.1576 - g_loss: -0.2091\n",
      "Epoch 151/256\n",
      "100/100 [==============================] - 1s 10ms/step - d_loss: -0.1545 - g_loss: -0.2206\n",
      "Epoch 152/256\n",
      "100/100 [==============================] - 1s 14ms/step - d_loss: -0.1583 - g_loss: -0.2106\n",
      "Epoch 153/256\n",
      " 98/100 [============================>.] - ETA: 0s - d_loss: -0.1548 - g_loss: -0.1933"
     ]
    },
    {
     "name": "stderr",
     "output_type": "stream",
     "text": [
      "WARNING:tensorflow:Compiled the loaded model, but the compiled metrics have yet to be built. `model.compile_metrics` will be empty until you train or evaluate the model.\n"
     ]
    },
    {
     "name": "stdout",
     "output_type": "stream",
     "text": [
      "\b\b\b\b\b\b\b\b\b\b\b\b\b\b\b\b\b\b\b\b\b\b\b\b\b\b\b\b\b\b\b\b\b\b\b\b\b\b\b\b\b\b\b\b\b\b\b\b\b\b\b\b\b\b\b\b\b\b\b\b\b\b\b\b\b\b\b\b\b\b\b\b\b\b\b\b\b\b\b\b\b\b\b\b\b\b\r\n",
      "100/100 [==============================] - 2s 17ms/step - d_loss: -0.1556 - g_loss: -0.1941\n",
      "Epoch 154/256\n",
      "100/100 [==============================] - 1s 12ms/step - d_loss: -0.1552 - g_loss: -0.2135\n",
      "Epoch 155/256\n",
      "100/100 [==============================] - 1s 12ms/step - d_loss: -0.1546 - g_loss: -0.2111\n",
      "Epoch 156/256\n",
      "100/100 [==============================] - 2s 19ms/step - d_loss: -0.1557 - g_loss: -0.2344\n",
      "Epoch 157/256\n",
      "100/100 [==============================] - 2s 21ms/step - d_loss: -0.1555 - g_loss: -0.2250\n",
      "Epoch 158/256\n",
      "100/100 [==============================] - 1s 10ms/step - d_loss: -0.1543 - g_loss: -0.2089\n",
      "Epoch 159/256\n",
      "100/100 [==============================] - 1s 10ms/step - d_loss: -0.1556 - g_loss: -0.2162\n",
      "Epoch 160/256\n",
      "100/100 [==============================] - 2s 19ms/step - d_loss: -0.1533 - g_loss: -0.2381\n",
      "Epoch 161/256\n",
      " 99/100 [============================>.] - ETA: 0s - d_loss: -0.1533 - g_loss: -0.2100"
     ]
    },
    {
     "name": "stderr",
     "output_type": "stream",
     "text": [
      "WARNING:tensorflow:Compiled the loaded model, but the compiled metrics have yet to be built. `model.compile_metrics` will be empty until you train or evaluate the model.\n"
     ]
    },
    {
     "name": "stdout",
     "output_type": "stream",
     "text": [
      "\b\b\b\b\b\b\b\b\b\b\b\b\b\b\b\b\b\b\b\b\b\b\b\b\b\b\b\b\b\b\b\b\b\b\b\b\b\b\b\b\b\b\b\b\b\b\b\b\b\b\b\b\b\b\b\b\b\b\b\b\b\b\b\b\b\b\b\b\b\b\b\b\b\b\b\b\b\b\b\b\b\b\b\b\b\b\r\n",
      "100/100 [==============================] - 2s 22ms/step - d_loss: -0.1534 - g_loss: -0.2100\n",
      "Epoch 162/256\n",
      "100/100 [==============================] - 2s 20ms/step - d_loss: -0.1532 - g_loss: -0.2565\n",
      "Epoch 163/256\n",
      "100/100 [==============================] - 1s 10ms/step - d_loss: -0.1509 - g_loss: -0.2203\n",
      "Epoch 164/256\n",
      "100/100 [==============================] - 2s 20ms/step - d_loss: -0.1524 - g_loss: -0.2605\n",
      "Epoch 165/256\n",
      "100/100 [==============================] - 1s 10ms/step - d_loss: -0.1523 - g_loss: -0.2219\n",
      "Epoch 166/256\n",
      "100/100 [==============================] - 1s 10ms/step - d_loss: -0.1530 - g_loss: -0.2059\n",
      "Epoch 167/256\n",
      "100/100 [==============================] - 1s 12ms/step - d_loss: -0.1518 - g_loss: -0.2593\n",
      "Epoch 168/256\n",
      "100/100 [==============================] - 1s 13ms/step - d_loss: -0.1523 - g_loss: -0.2599\n",
      "Epoch 169/256\n",
      " 97/100 [============================>.] - ETA: 0s - d_loss: -0.1494 - g_loss: -0.2695"
     ]
    },
    {
     "name": "stderr",
     "output_type": "stream",
     "text": [
      "WARNING:tensorflow:Compiled the loaded model, but the compiled metrics have yet to be built. `model.compile_metrics` will be empty until you train or evaluate the model.\n"
     ]
    },
    {
     "name": "stdout",
     "output_type": "stream",
     "text": [
      "\b\b\b\b\b\b\b\b\b\b\b\b\b\b\b\b\b\b\b\b\b\b\b\b\b\b\b\b\b\b\b\b\b\b\b\b\b\b\b\b\b\b\b\b\b\b\b\b\b\b\b\b\b\b\b\b\b\b\b\b\b\b\b\b\b\b\b\b\b\b\b\b\b\b\b\b\b\b\b\b\b\b\b\b\b\b\r\n",
      "100/100 [==============================] - 1s 10ms/step - d_loss: -0.1502 - g_loss: -0.2682\n",
      "Epoch 170/256\n",
      "100/100 [==============================] - 1s 10ms/step - d_loss: -0.1527 - g_loss: -0.2495\n",
      "Epoch 171/256\n",
      "100/100 [==============================] - 1s 10ms/step - d_loss: -0.1502 - g_loss: -0.2001\n",
      "Epoch 172/256\n",
      "100/100 [==============================] - 1s 10ms/step - d_loss: -0.1515 - g_loss: -0.2081\n",
      "Epoch 173/256\n",
      "100/100 [==============================] - 1s 10ms/step - d_loss: -0.1519 - g_loss: -0.2428\n",
      "Epoch 174/256\n",
      "100/100 [==============================] - 1s 10ms/step - d_loss: -0.1509 - g_loss: -0.2400\n",
      "Epoch 175/256\n",
      "100/100 [==============================] - 1s 10ms/step - d_loss: -0.1501 - g_loss: -0.2614\n",
      "Epoch 176/256\n",
      "100/100 [==============================] - 1s 10ms/step - d_loss: -0.1499 - g_loss: -0.2667\n",
      "Epoch 177/256\n",
      " 98/100 [============================>.] - ETA: 0s - d_loss: -0.1483 - g_loss: -0.2813"
     ]
    },
    {
     "name": "stderr",
     "output_type": "stream",
     "text": [
      "WARNING:tensorflow:Compiled the loaded model, but the compiled metrics have yet to be built. `model.compile_metrics` will be empty until you train or evaluate the model.\n"
     ]
    },
    {
     "name": "stdout",
     "output_type": "stream",
     "text": [
      "\b\b\b\b\b\b\b\b\b\b\b\b\b\b\b\b\b\b\b\b\b\b\b\b\b\b\b\b\b\b\b\b\b\b\b\b\b\b\b\b\b\b\b\b\b\b\b\b\b\b\b\b\b\b\b\b\b\b\b\b\b\b\b\b\b\b\b\b\b\b\b\b\b\b\b\b\b\b\b\b\b\b\b\b\b\b\r\n",
      "100/100 [==============================] - 1s 10ms/step - d_loss: -0.1499 - g_loss: -0.2796\n",
      "Epoch 178/256\n",
      "100/100 [==============================] - 1s 11ms/step - d_loss: -0.1473 - g_loss: -0.2210\n",
      "Epoch 179/256\n",
      "100/100 [==============================] - 1s 10ms/step - d_loss: -0.1504 - g_loss: -0.2572\n",
      "Epoch 180/256\n",
      "100/100 [==============================] - 1s 10ms/step - d_loss: -0.1525 - g_loss: -0.2736\n",
      "Epoch 181/256\n",
      "100/100 [==============================] - 1s 11ms/step - d_loss: -0.1463 - g_loss: -0.2656\n",
      "Epoch 182/256\n",
      "100/100 [==============================] - 1s 10ms/step - d_loss: -0.1470 - g_loss: -0.2247\n",
      "Epoch 183/256\n",
      "100/100 [==============================] - 1s 10ms/step - d_loss: -0.1489 - g_loss: -0.2243\n",
      "Epoch 184/256\n",
      "100/100 [==============================] - 1s 11ms/step - d_loss: -0.1438 - g_loss: -0.2165\n",
      "Epoch 185/256\n",
      " 99/100 [============================>.] - ETA: 0s - d_loss: -0.1470 - g_loss: -0.2498"
     ]
    },
    {
     "name": "stderr",
     "output_type": "stream",
     "text": [
      "WARNING:tensorflow:Compiled the loaded model, but the compiled metrics have yet to be built. `model.compile_metrics` will be empty until you train or evaluate the model.\n"
     ]
    },
    {
     "name": "stdout",
     "output_type": "stream",
     "text": [
      "\b\b\b\b\b\b\b\b\b\b\b\b\b\b\b\b\b\b\b\b\b\b\b\b\b\b\b\b\b\b\b\b\b\b\b\b\b\b\b\b\b\b\b\b\b\b\b\b\b\b\b\b\b\b\b\b\b\b\b\b\b\b\b\b\b\b\b\b\b\b\b\b\b\b\b\b\b\b\b\b\b\b\b\b\b\b\r\n",
      "100/100 [==============================] - 1s 10ms/step - d_loss: -0.1472 - g_loss: -0.2514\n",
      "Epoch 186/256\n",
      "100/100 [==============================] - 1s 10ms/step - d_loss: -0.1474 - g_loss: -0.2534\n",
      "Epoch 187/256\n",
      "100/100 [==============================] - 1s 10ms/step - d_loss: -0.1434 - g_loss: -0.2089\n",
      "Epoch 188/256\n",
      "100/100 [==============================] - 1s 10ms/step - d_loss: -0.1452 - g_loss: -0.2271\n",
      "Epoch 189/256\n",
      "100/100 [==============================] - 1s 10ms/step - d_loss: -0.1441 - g_loss: -0.2245\n",
      "Epoch 190/256\n",
      "100/100 [==============================] - 1s 10ms/step - d_loss: -0.1425 - g_loss: -0.2069\n",
      "Epoch 191/256\n",
      "100/100 [==============================] - 1s 10ms/step - d_loss: -0.1438 - g_loss: -0.2367\n",
      "Epoch 192/256\n",
      "100/100 [==============================] - 1s 10ms/step - d_loss: -0.1449 - g_loss: -0.2345\n",
      "Epoch 193/256\n",
      " 97/100 [============================>.] - ETA: 0s - d_loss: -0.1404 - g_loss: -0.2079"
     ]
    },
    {
     "name": "stderr",
     "output_type": "stream",
     "text": [
      "WARNING:tensorflow:Compiled the loaded model, but the compiled metrics have yet to be built. `model.compile_metrics` will be empty until you train or evaluate the model.\n"
     ]
    },
    {
     "name": "stdout",
     "output_type": "stream",
     "text": [
      "\b\b\b\b\b\b\b\b\b\b\b\b\b\b\b\b\b\b\b\b\b\b\b\b\b\b\b\b\b\b\b\b\b\b\b\b\b\b\b\b\b\b\b\b\b\b\b\b\b\b\b\b\b\b\b\b\b\b\b\b\b\b\b\b\b\b\b\b\b\b\b\b\b\b\b\b\b\b\b\b\b\b\b\b\b\b\r\n",
      "100/100 [==============================] - 1s 10ms/step - d_loss: -0.1414 - g_loss: -0.2123\n",
      "Epoch 194/256\n",
      "100/100 [==============================] - 1s 10ms/step - d_loss: -0.1426 - g_loss: -0.2173\n",
      "Epoch 195/256\n",
      "100/100 [==============================] - 1s 10ms/step - d_loss: -0.1435 - g_loss: -0.2396\n",
      "Epoch 196/256\n",
      "100/100 [==============================] - 1s 10ms/step - d_loss: -0.1450 - g_loss: -0.2571\n",
      "Epoch 197/256\n",
      "100/100 [==============================] - 1s 10ms/step - d_loss: -0.1426 - g_loss: -0.2492\n",
      "Epoch 198/256\n",
      "100/100 [==============================] - 1s 10ms/step - d_loss: -0.1442 - g_loss: -0.2122\n",
      "Epoch 199/256\n",
      "100/100 [==============================] - 1s 10ms/step - d_loss: -0.1422 - g_loss: -0.2128\n",
      "Epoch 200/256\n",
      "100/100 [==============================] - 1s 10ms/step - d_loss: -0.1426 - g_loss: -0.2193\n",
      "Epoch 201/256\n",
      " 97/100 [============================>.] - ETA: 0s - d_loss: -0.1388 - g_loss: -0.1857"
     ]
    },
    {
     "name": "stderr",
     "output_type": "stream",
     "text": [
      "WARNING:tensorflow:Compiled the loaded model, but the compiled metrics have yet to be built. `model.compile_metrics` will be empty until you train or evaluate the model.\n"
     ]
    },
    {
     "name": "stdout",
     "output_type": "stream",
     "text": [
      "\b\b\b\b\b\b\b\b\b\b\b\b\b\b\b\b\b\b\b\b\b\b\b\b\b\b\b\b\b\b\b\b\b\b\b\b\b\b\b\b\b\b\b\b\b\b\b\b\b\b\b\b\b\b\b\b\b\b\b\b\b\b\b\b\b\b\b\b\b\b\b\b\b\b\b\b\b\b\b\b\b\b\b\b\b\b\r\n",
      "100/100 [==============================] - 1s 10ms/step - d_loss: -0.1396 - g_loss: -0.1876\n",
      "Epoch 202/256\n",
      "100/100 [==============================] - 1s 10ms/step - d_loss: -0.1425 - g_loss: -0.1727\n",
      "Epoch 203/256\n",
      "100/100 [==============================] - 1s 10ms/step - d_loss: -0.1386 - g_loss: -0.2153\n",
      "Epoch 204/256\n",
      "100/100 [==============================] - 1s 10ms/step - d_loss: -0.1403 - g_loss: -0.2636\n",
      "Epoch 205/256\n",
      "100/100 [==============================] - 1s 10ms/step - d_loss: -0.1398 - g_loss: -0.1857\n",
      "Epoch 206/256\n",
      "100/100 [==============================] - 1s 10ms/step - d_loss: -0.1399 - g_loss: -0.2294\n",
      "Epoch 207/256\n",
      "100/100 [==============================] - 1s 10ms/step - d_loss: -0.1392 - g_loss: -0.1524\n",
      "Epoch 208/256\n",
      "100/100 [==============================] - 1s 10ms/step - d_loss: -0.1375 - g_loss: -0.2060\n",
      "Epoch 209/256\n",
      "100/100 [==============================] - ETA: 0s - d_loss: -0.1408 - g_loss: -0.1403"
     ]
    },
    {
     "name": "stderr",
     "output_type": "stream",
     "text": [
      "WARNING:tensorflow:Compiled the loaded model, but the compiled metrics have yet to be built. `model.compile_metrics` will be empty until you train or evaluate the model.\n"
     ]
    },
    {
     "name": "stdout",
     "output_type": "stream",
     "text": [
      "\b\b\b\b\b\b\b\b\b\b\b\b\b\b\b\b\b\b\b\b\b\b\b\b\b\b\b\b\b\b\b\b\b\b\b\b\b\b\b\b\b\b\b\b\b\b\b\b\b\b\b\b\b\b\b\b\b\b\b\b\b\b\b\b\b\b\b\b\b\b\b\b\b\b\b\b\b\b\b\b\b\b\b\b\b\b\r\n",
      "100/100 [==============================] - 1s 10ms/step - d_loss: -0.1408 - g_loss: -0.1403\n",
      "Epoch 210/256\n",
      "100/100 [==============================] - 1s 10ms/step - d_loss: -0.1384 - g_loss: -0.1839\n",
      "Epoch 211/256\n",
      "100/100 [==============================] - 1s 10ms/step - d_loss: -0.1410 - g_loss: -0.1436\n",
      "Epoch 212/256\n",
      "100/100 [==============================] - 1s 11ms/step - d_loss: -0.1376 - g_loss: -0.2006\n",
      "Epoch 213/256\n",
      "100/100 [==============================] - 1s 10ms/step - d_loss: -0.1401 - g_loss: -0.1805\n",
      "Epoch 214/256\n",
      "100/100 [==============================] - 1s 10ms/step - d_loss: -0.1376 - g_loss: -0.1594\n",
      "Epoch 215/256\n",
      "100/100 [==============================] - 1s 10ms/step - d_loss: -0.1377 - g_loss: -0.1978\n",
      "Epoch 216/256\n",
      "100/100 [==============================] - 1s 10ms/step - d_loss: -0.1383 - g_loss: -0.1527\n",
      "Epoch 217/256\n",
      " 99/100 [============================>.] - ETA: 0s - d_loss: -0.1390 - g_loss: -0.1480"
     ]
    },
    {
     "name": "stderr",
     "output_type": "stream",
     "text": [
      "WARNING:tensorflow:Compiled the loaded model, but the compiled metrics have yet to be built. `model.compile_metrics` will be empty until you train or evaluate the model.\n"
     ]
    },
    {
     "name": "stdout",
     "output_type": "stream",
     "text": [
      "\b\b\b\b\b\b\b\b\b\b\b\b\b\b\b\b\b\b\b\b\b\b\b\b\b\b\b\b\b\b\b\b\b\b\b\b\b\b\b\b\b\b\b\b\b\b\b\b\b\b\b\b\b\b\b\b\b\b\b\b\b\b\b\b\b\b\b\b\b\b\b\b\b\b\b\b\b\b\b\b\b\b\b\b\b\b\r\n",
      "100/100 [==============================] - 1s 10ms/step - d_loss: -0.1394 - g_loss: -0.1481\n",
      "Epoch 218/256\n",
      "100/100 [==============================] - 1s 10ms/step - d_loss: -0.1367 - g_loss: -0.1199\n",
      "Epoch 219/256\n",
      "100/100 [==============================] - 1s 10ms/step - d_loss: -0.1383 - g_loss: -0.1586\n",
      "Epoch 220/256\n",
      "100/100 [==============================] - 1s 10ms/step - d_loss: -0.1352 - g_loss: -0.1400\n",
      "Epoch 221/256\n",
      "100/100 [==============================] - 1s 10ms/step - d_loss: -0.1364 - g_loss: -0.1317\n",
      "Epoch 222/256\n",
      "100/100 [==============================] - 1s 10ms/step - d_loss: -0.1381 - g_loss: -0.1527\n",
      "Epoch 223/256\n",
      "100/100 [==============================] - 1s 10ms/step - d_loss: -0.1365 - g_loss: -0.1769\n",
      "Epoch 224/256\n",
      "100/100 [==============================] - 1s 12ms/step - d_loss: -0.1349 - g_loss: -0.1629\n",
      "Epoch 225/256\n",
      "100/100 [==============================] - ETA: 0s - d_loss: -0.1366 - g_loss: -0.1354"
     ]
    },
    {
     "name": "stderr",
     "output_type": "stream",
     "text": [
      "WARNING:tensorflow:Compiled the loaded model, but the compiled metrics have yet to be built. `model.compile_metrics` will be empty until you train or evaluate the model.\n"
     ]
    },
    {
     "name": "stdout",
     "output_type": "stream",
     "text": [
      "\b\b\b\b\b\b\b\b\b\b\b\b\b\b\b\b\b\b\b\b\b\b\b\b\b\b\b\b\b\b\b\b\b\b\b\b\b\b\b\b\b\b\b\b\b\b\b\b\b\b\b\b\b\b\b\b\b\b\b\b\b\b\b\b\b\b\b\b\b\b\b\b\b\b\b\b\b\b\b\b\b\b\b\b\b\b\r\n",
      "100/100 [==============================] - 2s 17ms/step - d_loss: -0.1366 - g_loss: -0.1354\n",
      "Epoch 226/256\n",
      "100/100 [==============================] - 2s 18ms/step - d_loss: -0.1382 - g_loss: -0.1221\n",
      "Epoch 227/256\n",
      "100/100 [==============================] - 2s 16ms/step - d_loss: -0.1380 - g_loss: -0.1077\n",
      "Epoch 228/256\n",
      "100/100 [==============================] - 2s 18ms/step - d_loss: -0.1371 - g_loss: -0.1179\n",
      "Epoch 229/256\n",
      "100/100 [==============================] - 1s 11ms/step - d_loss: -0.1354 - g_loss: -0.1097\n",
      "Epoch 230/256\n",
      "100/100 [==============================] - 1s 11ms/step - d_loss: -0.1365 - g_loss: -0.1014\n",
      "Epoch 231/256\n",
      "100/100 [==============================] - 1s 11ms/step - d_loss: -0.1366 - g_loss: -0.0401\n",
      "Epoch 232/256\n",
      "100/100 [==============================] - 1s 10ms/step - d_loss: -0.1343 - g_loss: -0.1175\n",
      "Epoch 233/256\n",
      " 96/100 [===========================>..] - ETA: 0s - d_loss: -0.1359 - g_loss: -0.0858"
     ]
    },
    {
     "name": "stderr",
     "output_type": "stream",
     "text": [
      "WARNING:tensorflow:Compiled the loaded model, but the compiled metrics have yet to be built. `model.compile_metrics` will be empty until you train or evaluate the model.\n"
     ]
    },
    {
     "name": "stdout",
     "output_type": "stream",
     "text": [
      "\b\b\b\b\b\b\b\b\b\b\b\b\b\b\b\b\b\b\b\b\b\b\b\b\b\b\b\b\b\b\b\b\b\b\b\b\b\b\b\b\b\b\b\b\b\b\b\b\b\b\b\b\b\b\b\b\b\b\b\b\b\b\b\b\b\b\b\b\b\b\b\b\b\b\b\b\b\b\b\b\b\b\b\b\b\b\r\n",
      "100/100 [==============================] - 1s 10ms/step - d_loss: -0.1384 - g_loss: -0.0838\n",
      "Epoch 234/256\n",
      "100/100 [==============================] - 1s 10ms/step - d_loss: -0.1342 - g_loss: -0.1108\n",
      "Epoch 235/256\n",
      "100/100 [==============================] - 1s 11ms/step - d_loss: -0.1363 - g_loss: -0.1558\n",
      "Epoch 236/256\n",
      "100/100 [==============================] - 1s 10ms/step - d_loss: -0.1339 - g_loss: -0.0371\n",
      "Epoch 237/256\n",
      "100/100 [==============================] - 1s 10ms/step - d_loss: -0.1336 - g_loss: -0.1120\n",
      "Epoch 238/256\n",
      "100/100 [==============================] - 1s 10ms/step - d_loss: -0.1355 - g_loss: -0.0747\n",
      "Epoch 239/256\n",
      "100/100 [==============================] - 1s 10ms/step - d_loss: -0.1336 - g_loss: -0.1163\n",
      "Epoch 240/256\n",
      "100/100 [==============================] - 1s 10ms/step - d_loss: -0.1332 - g_loss: -0.0957\n",
      "Epoch 241/256\n",
      " 95/100 [===========================>..] - ETA: 0s - d_loss: -0.1343 - g_loss: -0.0675"
     ]
    },
    {
     "name": "stderr",
     "output_type": "stream",
     "text": [
      "WARNING:tensorflow:Compiled the loaded model, but the compiled metrics have yet to be built. `model.compile_metrics` will be empty until you train or evaluate the model.\n"
     ]
    },
    {
     "name": "stdout",
     "output_type": "stream",
     "text": [
      "\b\b\b\b\b\b\b\b\b\b\b\b\b\b\b\b\b\b\b\b\b\b\b\b\b\b\b\b\b\b\b\b\b\b\b\b\b\b\b\b\b\b\b\b\b\b\b\b\b\b\b\b\b\b\b\b\b\b\b\b\b\b\b\b\b\b\b\b\b\b\b\b\b\b\b\b\b\b\b\b\b\b\b\b\b\b\r\n",
      "100/100 [==============================] - 1s 10ms/step - d_loss: -0.1340 - g_loss: -0.0726\n",
      "Epoch 242/256\n",
      "100/100 [==============================] - 1s 10ms/step - d_loss: -0.1346 - g_loss: -0.1353\n",
      "Epoch 243/256\n",
      "100/100 [==============================] - 1s 10ms/step - d_loss: -0.1317 - g_loss: -0.0681\n",
      "Epoch 244/256\n",
      "100/100 [==============================] - 1s 13ms/step - d_loss: -0.1338 - g_loss: -0.1160\n",
      "Epoch 245/256\n",
      "100/100 [==============================] - 2s 24ms/step - d_loss: -0.1313 - g_loss: -0.0963\n",
      "Epoch 246/256\n",
      "100/100 [==============================] - 1s 11ms/step - d_loss: -0.1338 - g_loss: -0.1146\n",
      "Epoch 247/256\n",
      "100/100 [==============================] - 1s 10ms/step - d_loss: -0.1334 - g_loss: -0.1202\n",
      "Epoch 248/256\n",
      "100/100 [==============================] - 1s 10ms/step - d_loss: -0.1333 - g_loss: -0.0896\n",
      "Epoch 249/256\n",
      " 96/100 [===========================>..] - ETA: 0s - d_loss: -0.1288 - g_loss: -0.0960"
     ]
    },
    {
     "name": "stderr",
     "output_type": "stream",
     "text": [
      "WARNING:tensorflow:Compiled the loaded model, but the compiled metrics have yet to be built. `model.compile_metrics` will be empty until you train or evaluate the model.\n"
     ]
    },
    {
     "name": "stdout",
     "output_type": "stream",
     "text": [
      "\b\b\b\b\b\b\b\b\b\b\b\b\b\b\b\b\b\b\b\b\b\b\b\b\b\b\b\b\b\b\b\b\b\b\b\b\b\b\b\b\b\b\b\b\b\b\b\b\b\b\b\b\b\b\b\b\b\b\b\b\b\b\b\b\b\b\b\b\b\b\b\b\b\b\b\b\b\b\b\b\b\b\b\b\b\b\r\n",
      "100/100 [==============================] - 1s 10ms/step - d_loss: -0.1309 - g_loss: -0.0967\n",
      "Epoch 250/256\n",
      "100/100 [==============================] - 1s 10ms/step - d_loss: -0.1307 - g_loss: -0.0822\n",
      "Epoch 251/256\n",
      "100/100 [==============================] - 1s 11ms/step - d_loss: -0.1307 - g_loss: -0.0490\n",
      "Epoch 252/256\n",
      "100/100 [==============================] - 1s 11ms/step - d_loss: -0.1310 - g_loss: -0.0463\n",
      "Epoch 253/256\n",
      "100/100 [==============================] - 1s 10ms/step - d_loss: -0.1331 - g_loss: -0.0875\n",
      "Epoch 254/256\n",
      "100/100 [==============================] - 1s 10ms/step - d_loss: -0.1337 - g_loss: -0.0581\n",
      "Epoch 255/256\n",
      "100/100 [==============================] - 1s 10ms/step - d_loss: -0.1299 - g_loss: -0.0465\n",
      "Epoch 256/256\n",
      "100/100 [==============================] - 1s 10ms/step - d_loss: -0.1289 - g_loss: -0.0751\n"
     ]
    },
    {
     "name": "stderr",
     "output_type": "stream",
     "text": [
      "WARNING:tensorflow:Compiled the loaded model, but the compiled metrics have yet to be built. `model.compile_metrics` will be empty until you train or evaluate the model.\n"
     ]
    },
    {
     "data": {
      "text/plain": [
       "<keras.callbacks.History at 0x7feb0b18bd60>"
      ]
     },
     "execution_count": 57,
     "metadata": {},
     "output_type": "execute_result"
    }
   ],
   "source": [
    "NUM_EPOCHS = 256 # number of epochs\n",
    "wgan_gp.fit(dataset, epochs=NUM_EPOCHS, callbacks=[GANMonitor()])"
   ]
  },
  {
   "cell_type": "code",
   "execution_count": 1,
   "metadata": {
    "colab": {
     "base_uri": "https://localhost:8080/"
    },
    "executionInfo": {
     "elapsed": 5298,
     "status": "ok",
     "timestamp": 1675493323799,
     "user": {
      "displayName": "Arpita Srivastava",
      "userId": "00636623162827386168"
     },
     "user_tz": -330
    },
    "id": "c72j1XWZzdAf",
    "outputId": "382f8079-4209-454f-9fa5-b3c722d7743c"
   },
   "outputs": [
    {
     "name": "stderr",
     "output_type": "stream",
     "text": [
      "WARNING:tensorflow:No training configuration found in the save file, so the model was *not* compiled. Compile it manually.\n"
     ]
    }
   ],
   "source": [
    "from keras.models import load_model\n",
    "model = load_model('/content/drive/MyDrive/NSLKDD_Arpita/Downloaded_Files/final_model_generator.h5')"
   ]
  },
  {
   "cell_type": "code",
   "execution_count": null,
   "metadata": {
    "id": "3VZUI_Cx7klp"
   },
   "outputs": [],
   "source": [
    "#trained_generator = wgan_gp.generator"
   ]
  },
  {
   "cell_type": "code",
   "execution_count": 59,
   "metadata": {
    "colab": {
     "base_uri": "https://localhost:8080/",
     "height": 279
    },
    "executionInfo": {
     "elapsed": 34,
     "status": "ok",
     "timestamp": 1675491971109,
     "user": {
      "displayName": "Arpita Srivastava",
      "userId": "00636623162827386168"
     },
     "user_tz": -330
    },
    "id": "2M-xp03eaBHa",
    "outputId": "2aef2cff-9b4c-4b87-f099-98b3439a4fae"
   },
   "outputs": [
    {
     "data": {
      "image/png": "[encoded data removed]",
      "text/plain": [
       "<Figure size 504x288 with 1 Axes>"
      ]
     },
     "metadata": {
      "needs_background": "light"
     },
     "output_type": "display_data"
    }
   ],
   "source": [
    "# Critic loss Graph Plot\n",
    "plt.figure(figsize=(7,4))\n",
    "plt.plot(wgan_gp.d_lossArray, label='Critic loss')\n",
    "plt.xlabel('Epochs')\n",
    "plt.ylabel('Critic loss')\n",
    "plt.legend()\n",
    "plt.grid()\n",
    "plt.savefig('/content/drive/MyDrive/NSLKDD_Arpita/Downloaded_Files/critic_loss.png')\n",
    "plt.show()"
   ]
  },
  {
   "cell_type": "code",
   "execution_count": 60,
   "metadata": {
    "colab": {
     "base_uri": "https://localhost:8080/",
     "height": 279
    },
    "executionInfo": {
     "elapsed": 31,
     "status": "ok",
     "timestamp": 1675491971111,
     "user": {
      "displayName": "Arpita Srivastava",
      "userId": "00636623162827386168"
     },
     "user_tz": -330
    },
    "id": "9eZM9mWzrUIX",
    "outputId": "d4cff09a-40fc-4730-d454-bb82bb9e7e91"
   },
   "outputs": [
    {
     "data": {
      "image/png": "[encoded data removed]",
      "text/plain": [
       "<Figure size 504x288 with 1 Axes>"
      ]
     },
     "metadata": {
      "needs_background": "light"
     },
     "output_type": "display_data"
    }
   ],
   "source": [
    "# Generator loss Graph Plot\n",
    "plt.figure(figsize=(7,4))\n",
    "plt.plot(wgan_gp.g_lossArray, label='Generator loss')\n",
    "plt.xlabel('Epochs')\n",
    "plt.ylabel('Generator loss')\n",
    "plt.legend()\n",
    "plt.grid()\n",
    "plt.savefig('/content/drive/MyDrive/NSLKDD_Arpita/Downloaded_Files/generator_loss.png')\n",
    "plt.show()"
   ]
  },
  {
   "cell_type": "code",
   "execution_count": 61,
   "metadata": {
    "colab": {
     "base_uri": "https://localhost:8080/",
     "height": 279
    },
    "executionInfo": {
     "elapsed": 31,
     "status": "ok",
     "timestamp": 1675491971114,
     "user": {
      "displayName": "Arpita Srivastava",
      "userId": "00636623162827386168"
     },
     "user_tz": -330
    },
    "id": "_yHeTEc8rgXm",
    "outputId": "82086f68-885a-4c20-ccca-2c3dcdbf25cb"
   },
   "outputs": [
    {
     "data": {
      "image/png": "[encoded data removed]",
      "text/plain": [
       "<Figure size 504x288 with 1 Axes>"
      ]
     },
     "metadata": {
      "needs_background": "light"
     },
     "output_type": "display_data"
    }
   ],
   "source": [
    "# Critic & Generator loss Graph Plot\n",
    "plt.figure(figsize=(7,4))\n",
    "plt.plot(wgan_gp.d_lossArray, label='Critic loss')\n",
    "plt.plot(wgan_gp.g_lossArray, label='Generator loss')\n",
    "plt.xlabel('Epochs')\n",
    "plt.ylabel('Loss')\n",
    "plt.legend()\n",
    "plt.grid()\n",
    "plt.savefig('/content/drive/MyDrive/NSLKDD_Arpita/Downloaded_Files/critic_&_generator_loss.png')\n",
    "plt.show()"
   ]
  },
  {
   "cell_type": "code",
   "execution_count": null,
   "metadata": {
    "id": "K_ZApIaCnczZ"
   },
   "outputs": [],
   "source": [
    "Loading trained model\n",
    "trained_generator = tf.keras.models.load_model('/content/generator.h5')"
   ]
  },
  {
   "cell_type": "code",
   "execution_count": 62,
   "metadata": {
    "executionInfo": {
     "elapsed": 726,
     "status": "ok",
     "timestamp": 1675492259170,
     "user": {
      "displayName": "Arpita Srivastava",
      "userId": "00636623162827386168"
     },
     "user_tz": -330
    },
    "id": "tdW_vFQ5HXhm"
   },
   "outputs": [],
   "source": [
    "test_df.to_csv('/content/drive/MyDrive/NSLKDD_Arpita/Downloaded_Files/preprocessed_test_dataset.csv',index = False)"
   ]
  },
  {
   "cell_type": "code",
   "execution_count": null,
   "metadata": {
    "id": "rV_5b7nxLt0R"
   },
   "outputs": [],
   "source": []
  },
  {
   "attachments": {},
   "cell_type": "markdown",
   "metadata": {
    "id": "mqj9c3mvLPJD"
   },
   "source": [
    "# Dataset Balancing"
   ]
  },
  {
   "cell_type": "code",
   "execution_count": 2,
   "metadata": {
    "executionInfo": {
     "elapsed": 1050,
     "status": "ok",
     "timestamp": 1675493338810,
     "user": {
      "displayName": "Arpita Srivastava",
      "userId": "00636623162827386168"
     },
     "user_tz": -330
    },
    "id": "OCPaI2vP-tNI"
   },
   "outputs": [],
   "source": [
    "def BuildLabelMapping():\n",
    "  labels.sort()\n",
    "  label_mapping = {}\n",
    "  for i in range(0,len(labels)):\n",
    "    label_mapping[labels[i]] = i\n",
    "  return label_mapping"
   ]
  },
  {
   "cell_type": "code",
   "execution_count": 3,
   "metadata": {
    "colab": {
     "base_uri": "https://localhost:8080/",
     "height": 287
    },
    "executionInfo": {
     "elapsed": 8,
     "status": "error",
     "timestamp": 1675493339676,
     "user": {
      "displayName": "Arpita Srivastava",
      "userId": "00636623162827386168"
     },
     "user_tz": -330
    },
    "id": "ijAdHSaY_fQu",
    "outputId": "fbe9f23d-530c-482d-8608-1e0427be943a"
   },
   "outputs": [
    {
     "ename": "NameError",
     "evalue": "ignored",
     "output_type": "error",
     "traceback": [
      "\u001b[0;31m---------------------------------------------------------------------------\u001b[0m",
      "\u001b[0;31mNameError\u001b[0m                                 Traceback (most recent call last)",
      "\u001b[0;32m<ipython-input-3-23909d49d594>\u001b[0m in \u001b[0;36m<module>\u001b[0;34m\u001b[0m\n\u001b[0;32m----> 1\u001b[0;31m \u001b[0mlabel_mapping\u001b[0m \u001b[0;34m=\u001b[0m \u001b[0mBuildLabelMapping\u001b[0m\u001b[0;34m(\u001b[0m\u001b[0;34m)\u001b[0m\u001b[0;34m\u001b[0m\u001b[0;34m\u001b[0m\u001b[0m\n\u001b[0m",
      "\u001b[0;32m<ipython-input-2-67cd7d88f4cb>\u001b[0m in \u001b[0;36mBuildLabelMapping\u001b[0;34m()\u001b[0m\n\u001b[1;32m      1\u001b[0m \u001b[0;32mdef\u001b[0m \u001b[0mBuildLabelMapping\u001b[0m\u001b[0;34m(\u001b[0m\u001b[0;34m)\u001b[0m\u001b[0;34m:\u001b[0m\u001b[0;34m\u001b[0m\u001b[0;34m\u001b[0m\u001b[0m\n\u001b[0;32m----> 2\u001b[0;31m   \u001b[0mlabels\u001b[0m\u001b[0;34m.\u001b[0m\u001b[0msort\u001b[0m\u001b[0;34m(\u001b[0m\u001b[0;34m)\u001b[0m\u001b[0;34m\u001b[0m\u001b[0;34m\u001b[0m\u001b[0m\n\u001b[0m\u001b[1;32m      3\u001b[0m   \u001b[0mlabel_mapping\u001b[0m \u001b[0;34m=\u001b[0m \u001b[0;34m{\u001b[0m\u001b[0;34m}\u001b[0m\u001b[0;34m\u001b[0m\u001b[0;34m\u001b[0m\u001b[0m\n\u001b[1;32m      4\u001b[0m   \u001b[0;32mfor\u001b[0m \u001b[0mi\u001b[0m \u001b[0;32min\u001b[0m \u001b[0mrange\u001b[0m\u001b[0;34m(\u001b[0m\u001b[0;36m0\u001b[0m\u001b[0;34m,\u001b[0m\u001b[0mlen\u001b[0m\u001b[0;34m(\u001b[0m\u001b[0mlabels\u001b[0m\u001b[0;34m)\u001b[0m\u001b[0;34m)\u001b[0m\u001b[0;34m:\u001b[0m\u001b[0;34m\u001b[0m\u001b[0;34m\u001b[0m\u001b[0m\n\u001b[1;32m      5\u001b[0m     \u001b[0mlabel_mapping\u001b[0m\u001b[0;34m[\u001b[0m\u001b[0mlabels\u001b[0m\u001b[0;34m[\u001b[0m\u001b[0mi\u001b[0m\u001b[0;34m]\u001b[0m\u001b[0;34m]\u001b[0m \u001b[0;34m=\u001b[0m \u001b[0mi\u001b[0m\u001b[0;34m\u001b[0m\u001b[0;34m\u001b[0m\u001b[0m\n",
      "\u001b[0;31mNameError\u001b[0m: name 'labels' is not defined"
     ]
    }
   ],
   "source": [
    "label_mapping = BuildLabelMapping()"
   ]
  },
  {
   "cell_type": "code",
   "execution_count": 65,
   "metadata": {
    "colab": {
     "base_uri": "https://localhost:8080/"
    },
    "executionInfo": {
     "elapsed": 14,
     "status": "ok",
     "timestamp": 1675492273445,
     "user": {
      "displayName": "Arpita Srivastava",
      "userId": "00636623162827386168"
     },
     "user_tz": -330
    },
    "id": "abb8WzyyjPwW",
    "outputId": "b6ce1c9e-dce3-421d-8c53-b76b56873c75"
   },
   "outputs": [
    {
     "name": "stdout",
     "output_type": "stream",
     "text": [
      "{'dos': 0, 'normal': 1, 'probe': 2, 'r2l': 3, 'u2r': 4}\n"
     ]
    }
   ],
   "source": [
    "print(label_mapping)"
   ]
  },
  {
   "cell_type": "code",
   "execution_count": 66,
   "metadata": {
    "colab": {
     "base_uri": "https://localhost:8080/"
    },
    "executionInfo": {
     "elapsed": 6,
     "status": "ok",
     "timestamp": 1675492275674,
     "user": {
      "displayName": "Arpita Srivastava",
      "userId": "00636623162827386168"
     },
     "user_tz": -330
    },
    "id": "gcOR7_WS5Ztr",
    "outputId": "a29248a9-d7fc-44b4-f084-d9d964951a31"
   },
   "outputs": [
    {
     "name": "stdout",
     "output_type": "stream",
     "text": [
      "[['probe', 11656], ['r2l', 995], ['u2r', 52]] [['normal', 67343], ['dos', 45927]]\n"
     ]
    }
   ],
   "source": [
    "print(minor_class, major_class)"
   ]
  },
  {
   "cell_type": "code",
   "execution_count": null,
   "metadata": {
    "id": "uSV4lyxX5eZP"
   },
   "outputs": [],
   "source": [
    "major_class[-1][1]"
   ]
  },
  {
   "cell_type": "code",
   "execution_count": 67,
   "metadata": {
    "executionInfo": {
     "elapsed": 4,
     "status": "ok",
     "timestamp": 1675492281400,
     "user": {
      "displayName": "Arpita Srivastava",
      "userId": "00636623162827386168"
     },
     "user_tz": -330
    },
    "id": "AxPk6NVwpVtO"
   },
   "outputs": [],
   "source": [
    "def generate_sample(no_of_samples, attack_label):\n",
    "    arr = np.zeros(shape=(no_of_samples,NUM_LABELS))\n",
    "    idx = label_mapping.get(attack_label)\n",
    "    if(idx != None):\n",
    "      for row in arr:\n",
    "        row[label_mapping[attack_label]] = 1\n",
    "        \n",
    "    noise = np.random.normal(size=(no_of_samples, Z_NOISE_DIM))\n",
    "    noise_sample = np.concatenate((noise,arr),axis=1)\n",
    "    generated_sample = model.predict(noise_sample)\n",
    "    return generated_sample,arr"
   ]
  },
  {
   "cell_type": "code",
   "execution_count": 68,
   "metadata": {
    "colab": {
     "base_uri": "https://localhost:8080/"
    },
    "executionInfo": {
     "elapsed": 8,
     "status": "ok",
     "timestamp": 1675492285245,
     "user": {
      "displayName": "Arpita Srivastava",
      "userId": "00636623162827386168"
     },
     "user_tz": -330
    },
    "id": "1G3RoBZM4obp",
    "outputId": "1d0a00ee-a3a5-451f-9c2c-f5fc2cc64ad8"
   },
   "outputs": [
    {
     "name": "stdout",
     "output_type": "stream",
     "text": [
      "major_class : 45927\n",
      "minclass : 11656\n",
      "noOfSample : 34271\n",
      "**************************************************\n",
      "major_class : 45927\n",
      "minclass : 995\n",
      "noOfSample : 44932\n",
      "**************************************************\n",
      "major_class : 45927\n",
      "minclass : 52\n",
      "noOfSample : 45875\n",
      "**************************************************\n"
     ]
    }
   ],
   "source": [
    "for minclass in minor_class:\n",
    "    noOfSample = major_class[-1][1] - minclass[1]\n",
    "    print(f\"major_class : {major_class[-1][1]}\")\n",
    "    print(f\"minclass : {minclass[1]}\")\n",
    "    print(f\"noOfSample : {noOfSample}\")\n",
    "    print(\"*\" * 50)  "
   ]
  },
  {
   "cell_type": "code",
   "execution_count": 69,
   "metadata": {
    "colab": {
     "base_uri": "https://localhost:8080/"
    },
    "executionInfo": {
     "elapsed": 143517,
     "status": "ok",
     "timestamp": 1675492577112,
     "user": {
      "displayName": "Arpita Srivastava",
      "userId": "00636623162827386168"
     },
     "user_tz": -330
    },
    "id": "UBKZx0GO9Hym",
    "outputId": "5696031c-fd73-4484-e8df-fab31b6ec774"
   },
   "outputs": [
    {
     "name": "stdout",
     "output_type": "stream",
     "text": [
      "major_class : 45927\n",
      "minclass : 11656\n",
      "noOfSample : 1\n",
      "**************************************************\n",
      "1/1 [==============================] - 0s 103ms/step\n",
      "major_class : 45927\n",
      "minclass : 995\n",
      "noOfSample : 1\n",
      "**************************************************\n",
      "1/1 [==============================] - 0s 12ms/step\n",
      "major_class : 45927\n",
      "minclass : 52\n",
      "noOfSample : 1\n",
      "**************************************************\n",
      "1/1 [==============================] - 0s 13ms/step\n",
      "major_class : 45927\n",
      "minclass : 11656\n",
      "noOfSample : 4\n",
      "**************************************************\n",
      "1/1 [==============================] - 0s 16ms/step\n",
      "major_class : 45927\n",
      "minclass : 995\n",
      "noOfSample : 5\n",
      "**************************************************\n",
      "1/1 [==============================] - 0s 12ms/step\n",
      "major_class : 45927\n",
      "minclass : 52\n",
      "noOfSample : 5\n",
      "**************************************************\n",
      "1/1 [==============================] - 0s 13ms/step\n",
      "major_class : 45927\n",
      "minclass : 11656\n",
      "noOfSample : 35\n",
      "**************************************************\n",
      "2/2 [==============================] - 0s 5ms/step\n",
      "major_class : 45927\n",
      "minclass : 995\n",
      "noOfSample : 45\n",
      "**************************************************\n",
      "2/2 [==============================] - 0s 4ms/step\n",
      "major_class : 45927\n",
      "minclass : 52\n",
      "noOfSample : 46\n",
      "**************************************************\n",
      "2/2 [==============================] - 0s 2ms/step\n",
      "major_class : 45927\n",
      "minclass : 11656\n",
      "noOfSample : 343\n",
      "**************************************************\n",
      "11/11 [==============================] - 0s 2ms/step\n",
      "major_class : 45927\n",
      "minclass : 995\n",
      "noOfSample : 450\n",
      "**************************************************\n",
      "15/15 [==============================] - 0s 2ms/step\n",
      "major_class : 45927\n",
      "minclass : 52\n",
      "noOfSample : 459\n",
      "**************************************************\n",
      "15/15 [==============================] - 0s 2ms/step\n",
      "major_class : 45927\n",
      "minclass : 11656\n",
      "noOfSample : 3428\n",
      "**************************************************\n",
      "108/108 [==============================] - 0s 1ms/step\n",
      "major_class : 45927\n",
      "minclass : 995\n",
      "noOfSample : 4494\n",
      "**************************************************\n",
      "141/141 [==============================] - 0s 1ms/step\n",
      "major_class : 45927\n",
      "minclass : 52\n",
      "noOfSample : 4588\n",
      "**************************************************\n",
      "144/144 [==============================] - 0s 1ms/step\n",
      "major_class : 45927\n",
      "minclass : 11656\n",
      "noOfSample : 6855\n",
      "**************************************************\n",
      "215/215 [==============================] - 0s 1ms/step\n",
      "major_class : 45927\n",
      "minclass : 995\n",
      "noOfSample : 8987\n",
      "**************************************************\n",
      "281/281 [==============================] - 0s 1ms/step\n",
      "major_class : 45927\n",
      "minclass : 52\n",
      "noOfSample : 9176\n",
      "**************************************************\n",
      "287/287 [==============================] - 0s 1ms/step\n",
      "major_class : 45927\n",
      "minclass : 11656\n",
      "noOfSample : 10282\n",
      "**************************************************\n",
      "322/322 [==============================] - 0s 1ms/step\n",
      "major_class : 45927\n",
      "minclass : 995\n",
      "noOfSample : 13480\n",
      "**************************************************\n",
      "422/422 [==============================] - 0s 1ms/step\n",
      "major_class : 45927\n",
      "minclass : 52\n",
      "noOfSample : 13763\n",
      "**************************************************\n",
      "431/431 [==============================] - 0s 1ms/step\n",
      "major_class : 45927\n",
      "minclass : 11656\n",
      "noOfSample : 13709\n",
      "**************************************************\n",
      "429/429 [==============================] - 1s 1ms/step\n",
      "major_class : 45927\n",
      "minclass : 995\n",
      "noOfSample : 17973\n",
      "**************************************************\n",
      "562/562 [==============================] - 1s 1ms/step\n",
      "major_class : 45927\n",
      "minclass : 52\n",
      "noOfSample : 18351\n",
      "**************************************************\n",
      "574/574 [==============================] - 1s 1ms/step\n",
      "major_class : 45927\n",
      "minclass : 11656\n",
      "noOfSample : 17136\n",
      "**************************************************\n",
      "536/536 [==============================] - 1s 1ms/step\n",
      "major_class : 45927\n",
      "minclass : 995\n",
      "noOfSample : 22467\n",
      "**************************************************\n",
      "703/703 [==============================] - 1s 1ms/step\n",
      "major_class : 45927\n",
      "minclass : 52\n",
      "noOfSample : 22938\n",
      "**************************************************\n",
      "717/717 [==============================] - 1s 1ms/step\n",
      "major_class : 45927\n",
      "minclass : 11656\n",
      "noOfSample : 20563\n",
      "**************************************************\n",
      "643/643 [==============================] - 1s 1ms/step\n",
      "major_class : 45927\n",
      "minclass : 995\n",
      "noOfSample : 26960\n",
      "**************************************************\n",
      "843/843 [==============================] - 1s 1ms/step\n",
      "major_class : 45927\n",
      "minclass : 52\n",
      "noOfSample : 27526\n",
      "**************************************************\n",
      "861/861 [==============================] - 1s 1ms/step\n",
      "major_class : 45927\n",
      "minclass : 11656\n",
      "noOfSample : 23990\n",
      "**************************************************\n",
      "750/750 [==============================] - 1s 1ms/step\n",
      "major_class : 45927\n",
      "minclass : 995\n",
      "noOfSample : 31453\n",
      "**************************************************\n",
      "983/983 [==============================] - 1s 1ms/step\n",
      "major_class : 45927\n",
      "minclass : 52\n",
      "noOfSample : 32113\n",
      "**************************************************\n",
      "1004/1004 [==============================] - 1s 1ms/step\n",
      "major_class : 45927\n",
      "minclass : 11656\n",
      "noOfSample : 27417\n",
      "**************************************************\n",
      "857/857 [==============================] - 1s 1ms/step\n",
      "major_class : 45927\n",
      "minclass : 995\n",
      "noOfSample : 35946\n",
      "**************************************************\n",
      "1124/1124 [==============================] - 1s 1ms/step\n",
      "major_class : 45927\n",
      "minclass : 52\n",
      "noOfSample : 36701\n",
      "**************************************************\n",
      "1147/1147 [==============================] - 1s 1ms/step\n",
      "major_class : 45927\n",
      "minclass : 11656\n",
      "noOfSample : 30844\n",
      "**************************************************\n",
      "964/964 [==============================] - 2s 2ms/step\n",
      "major_class : 45927\n",
      "minclass : 995\n",
      "noOfSample : 40439\n",
      "**************************************************\n",
      "1264/1264 [==============================] - 1s 1ms/step\n",
      "major_class : 45927\n",
      "minclass : 52\n",
      "noOfSample : 41288\n",
      "**************************************************\n",
      "1291/1291 [==============================] - 2s 1ms/step\n",
      "major_class : 45927\n",
      "minclass : 11656\n",
      "noOfSample : 34272\n",
      "**************************************************\n",
      "1071/1071 [==============================] - 1s 1ms/step\n",
      "major_class : 45927\n",
      "minclass : 995\n",
      "noOfSample : 44933\n",
      "**************************************************\n",
      "1405/1405 [==============================] - 2s 1ms/step\n",
      "major_class : 45927\n",
      "minclass : 52\n",
      "noOfSample : 45876\n",
      "**************************************************\n",
      "1434/1434 [==============================] - 2s 1ms/step\n"
     ]
    }
   ],
   "source": [
    "def generateSamples2(pct):\n",
    "  samples_generated = []\n",
    "  for minclass in minor_class:\n",
    "    noOfSample = major_class[-1][1] - minclass[1]\n",
    "    noOfSample = int(noOfSample * pct) + 1\n",
    "    print(f\"major_class : {major_class[-1][1]}\")\n",
    "    print(f\"minclass : {minclass[1]}\")\n",
    "    print(f\"noOfSample : {noOfSample}\")\n",
    "    print(\"*\" * 50)\n",
    "    res,label = generate_sample(noOfSample,minclass[0])\n",
    "    res = np.concatenate((res,label),axis=1)\n",
    "    for row in res:\n",
    "      samples_generated.append(row)\n",
    "  return samples_generated\n",
    "\n",
    "\n",
    "for pct in [0, 0.0001, 0.001, 0.01, .1, .2, .3, .4, .5, .6, .7, .8, .9, 1.0]:\n",
    "    samples = generateSamples2(pct = pct)\n",
    "\n",
    "    balanced_dataset = pd.DataFrame(data = samples,columns = df.columns)\n",
    "\n",
    "    dataset = pd.concat([train_df,balanced_dataset])\n",
    "    dataset.reset_index(inplace=True,drop=True)\n",
    "\n",
    "    #Saving the dataframe\n",
    "    dataset.to_csv(f'/content/drive/MyDrive/NSLKDD_Arpita/Downloaded_Files/Gan_generated_train_dataset/balanced_train_dataset_{str(pct)}.csv',index=False)\n",
    "    \n"
   ]
  },
  {
   "cell_type": "code",
   "execution_count": 71,
   "metadata": {
    "colab": {
     "base_uri": "https://localhost:8080/",
     "height": 450
    },
    "executionInfo": {
     "elapsed": 11929,
     "status": "ok",
     "timestamp": 1675493182204,
     "user": {
      "displayName": "Arpita Srivastava",
      "userId": "00636623162827386168"
     },
     "user_tz": -330
    },
    "id": "SfgC5CbtLIRY",
    "outputId": "f1b6a854-4c56-4383-9882-103aeff2fea6"
   },
   "outputs": [
    {
     "name": "stdout",
     "output_type": "stream",
     "text": [
      "Looking in indexes: https://pypi.org/simple, https://us-python.pkg.dev/colab-wheels/public/simple/\n",
      "Collecting modin\n",
      "  Downloading modin-0.18.1-py3-none-any.whl (970 kB)\n",
      "\u001b[2K     \u001b[90m━━━━━━━━━━━━━━━━━━━━━━━━━━━━━━━━━━━━━━\u001b[0m \u001b[32m970.3/970.3 KB\u001b[0m \u001b[31m52.8 MB/s\u001b[0m eta \u001b[36m0:00:00\u001b[0m\n",
      "\u001b[?25hCollecting pandas==1.5.3\n",
      "  Downloading pandas-1.5.3-cp38-cp38-manylinux_2_17_x86_64.manylinux2014_x86_64.whl (12.2 MB)\n",
      "\u001b[2K     \u001b[90m━━━━━━━━━━━━━━━━━━━━━━━━━━━━━━━━━━━━━━━━\u001b[0m \u001b[32m12.2/12.2 MB\u001b[0m \u001b[31m74.5 MB/s\u001b[0m eta \u001b[36m0:00:00\u001b[0m\n",
      "\u001b[?25hRequirement already satisfied: fsspec in /usr/local/lib/python3.8/dist-packages (from modin) (2023.1.0)\n",
      "Requirement already satisfied: psutil in /usr/local/lib/python3.8/dist-packages (from modin) (5.4.8)\n",
      "Requirement already satisfied: numpy>=1.18.5 in /usr/local/lib/python3.8/dist-packages (from modin) (1.21.6)\n",
      "Requirement already satisfied: packaging in /usr/local/lib/python3.8/dist-packages (from modin) (23.0)\n",
      "Requirement already satisfied: python-dateutil>=2.8.1 in /usr/local/lib/python3.8/dist-packages (from pandas==1.5.3->modin) (2.8.2)\n",
      "Requirement already satisfied: pytz>=2020.1 in /usr/local/lib/python3.8/dist-packages (from pandas==1.5.3->modin) (2022.7.1)\n",
      "Requirement already satisfied: six>=1.5 in /usr/local/lib/python3.8/dist-packages (from python-dateutil>=2.8.1->pandas==1.5.3->modin) (1.15.0)\n",
      "Installing collected packages: pandas, modin\n",
      "  Attempting uninstall: pandas\n",
      "    Found existing installation: pandas 1.3.5\n",
      "    Uninstalling pandas-1.3.5:\n",
      "      Successfully uninstalled pandas-1.3.5\n",
      "Successfully installed modin-0.18.1 pandas-1.5.3\n"
     ]
    },
    {
     "data": {
      "application/vnd.colab-display-data+json": {
       "pip_warning": {
        "packages": [
         "pandas"
        ]
       }
      }
     },
     "metadata": {},
     "output_type": "display_data"
    }
   ],
   "source": [
    "pip install modin"
   ]
  },
  {
   "cell_type": "code",
   "execution_count": 4,
   "metadata": {
    "executionInfo": {
     "elapsed": 1575,
     "status": "ok",
     "timestamp": 1675493739956,
     "user": {
      "displayName": "Arpita Srivastava",
      "userId": "00636623162827386168"
     },
     "user_tz": -330
    },
    "id": "cnn40UAz7b2H"
   },
   "outputs": [],
   "source": [
    "import numpy as np\n",
    "import modin.pandas as pd\n",
    "import sklearn\n",
    "    \n",
    "from xgboost import XGBClassifier\n",
    "\n",
    "import xgboost as xgb\n",
    "\n",
    "\n",
    "import numpy as np\n",
    "\n",
    "from sklearn import metrics\n",
    "from sklearn.metrics import accuracy_score, classification_report, confusion_matrix\n",
    "from sklearn.metrics import precision_score, recall_score, f1_score\n",
    "\n",
    "import seaborn as sns\n",
    "import matplotlib.pyplot as plt\n",
    "\n",
    "def LabelAttack(Y):\n",
    "  attack = []\n",
    "  for i in range(Y.shape[0]):\n",
    "    k = 0\n",
    "    for j in range(Y.shape[1]):\n",
    "      if(Y[i][j] == 1):\n",
    "        k = j\n",
    "        break\n",
    "    attack.append(k)\n",
    "  return attack\n",
    "\n",
    "\n",
    "def get_train_test_data(pct):\n",
    "    test_df = pd.read_csv('/content/drive/MyDrive/NSLKDD_Arpita/Downloaded_Files/preprocessed_test_dataset.csv')                 #.sample(1024)\n",
    "    train_df = pd.read_csv(f'/content/drive/MyDrive/NSLKDD_Arpita/Downloaded_Files/Gan_generated_train_dataset/balanced_train_dataset_{str(pct)}.csv')      #.sample(1024)\n",
    "    \n",
    "    print(train_df.shape, test_df.shape)\n",
    "\n",
    "    label = ['dos', 'normal', 'probe', 'r2l', 'u2r']\n",
    "   # label = ['Analysis','Backdoor','DoS','Exploits','Fuzzers','Generic','Normal','Reconnaissance','Shellcode','Worms']\n",
    "\n",
    "    X_train = train_df.iloc[:,:train_df.shape[1]-5]\n",
    "    Y_train = train_df.iloc[:,-5:].to_numpy()\n",
    "\n",
    "    X_test = test_df.iloc[:,:test_df.shape[1]-5]\n",
    "    Y_test = test_df.iloc[:,-5:].to_numpy()\n",
    "   \n",
    "\n",
    "    Y_train = np.asarray(LabelAttack(Y_train)).reshape(-1,1)\n",
    "    Y_test = np.asarray(LabelAttack(Y_test)).reshape(-1,1)\n",
    "\n",
    "\n",
    "    return X_train, Y_train, X_test, Y_test\n",
    "\n",
    "\n",
    "\n",
    "def DirectMetrics(actual, predicted):\n",
    "    \n",
    "    cr = classification_report(actual, predicted)           \n",
    "    print(\"Classification_Report : \")\n",
    "    print(cr)\n",
    "  \n",
    "    Accuracy = accuracy_score(actual, predicted)\n",
    "    print(\"Accuracy: %.2f%%\" % (Accuracy * 100.0))\n",
    "    \n",
    "    Precision = precision_score(actual, predicted, average = 'weighted')\n",
    "    Recall = recall_score(actual, predicted, average = 'weighted')\n",
    "    F1_Score = f1_score(actual, predicted, average = 'weighted')\n",
    "    \n",
    "    return {\"Direct_Precision\" : Precision,\n",
    "           \"Direct_Recall\" : Recall,\n",
    "           \"Direct_F1-Score\" : F1_Score}\n",
    "\n",
    "\n",
    "def ComputeMetrics(actual , predicted):\n",
    "    TP, TN, FP, FN = 0, 0, 0, 0\n",
    "    \n",
    "    cm = confusion_matrix(actual, predicted)\n",
    "\n",
    "    \n",
    "    FP = cm.sum(axis = 0) - np.diag(cm)\n",
    "    FN = cm.sum(axis = 1) - np.diag(cm)\n",
    "    TP = np.diag(cm)\n",
    "    TN = cm.sum() - (FP + FN + TP)\n",
    "\n",
    "    FP = FP.astype(float)\n",
    "    FN = FN.astype(float)\n",
    "    TP = TP.astype(float)\n",
    "    TN = TN.astype(float)\n",
    "\n",
    "    sensitivity = TP/(TP+FN)\n",
    "    avg_sensitivity = sum(sensitivity)/len(sensitivity)\n",
    "\n",
    "    specificity = TN/(TN+FP)\n",
    "    avg_specificity = sum(specificity)/len(specificity)\n",
    "\n",
    "    precision = TP/(TP+FP)\n",
    "    avg_precision = sum(precision)/len(precision)\n",
    "    \n",
    "    recall = TP/(TP+FN)\n",
    "    avg_recall = sum(recall)/len(recall)\n",
    "    \n",
    "    f1_score = (2*recall*precision)/(recall + precision)\n",
    "    avg_f1_score = sum(f1_score)/len(f1_score)\n",
    "    \n",
    "    FAR = FP/(FP+TN)\n",
    "    avg_FAR = sum(FAR)/len(FAR)\n",
    "    \n",
    "    return {\"Sensitivity \" : avg_sensitivity,\n",
    "           \"Specificity \" : avg_specificity,\n",
    "           \"Precision \" : avg_precision,\n",
    "           \"Recall \" : avg_recall,\n",
    "           \"F1_Score \" : avg_f1_score,\n",
    "           \"FAR\" : avg_FAR}          \n",
    "\n",
    "xgb_params = {\n",
    "    \"booster\": \"dart\",\n",
    "    \"verbosity\": 0,\n",
    "    \"objective\": \"multi:softmax\",\n",
    "    \"num_class\" : 10,\n",
    "    \"lambda\": 1.234568712743763e-06,\n",
    "    \"alpha\": 0.021824183515918392,\n",
    "    \"subsample\": 0.7966629501270384,\n",
    "    \"colsample_bytree\": 0.8575214799710436,\n",
    "    \"early_stopping_rounds\": 24,\n",
    "    \"n_estimators\": 32,    \n",
    "    \"max_depth\": 7,\n",
    "    \"min_child_weight\": 5,\n",
    "    \"eta\": 0.020721025441133932,\n",
    "    \"gamma\": 8.632145831151602e-05,\n",
    "    \"grow_policy\": \"depthwise\",\n",
    "    \"sample_type\": \"uniform\",\n",
    "    \"normalize_type\": \"forest\",\n",
    "    \"rate_drop\": 1.4263688272813651e-08,\n",
    "    \"skip_drop\": 3.191224113185437e-05,\n",
    "    #\"n_jobs\" : -1\n",
    "}\n",
    "\n",
    "    \n",
    "def train_models(X_train_df, Y_train_df, X_test_df, Y_test_df):\n",
    "\n",
    "    _dict = { model_type : {\"direct_metrics\" : None, \"metrics\" : None} for model_type in [\"xgb\"]}  \n",
    "\n",
    "\n",
    "    #----------------xgb model-------------------#\n",
    "    dtrain = xgb.DMatrix(X_train_df, label=Y_train_df)\n",
    "    dvalid = xgb.DMatrix(X_test_df, label=Y_test_df)  \n",
    "\n",
    "    model = xgb.train(xgb_params, dtrain)\n",
    "    preds = model.predict(dvalid)\n",
    "    predictions_xgb = np.rint(preds)\n",
    "    acc = sklearn.metrics.accuracy_score(Y_test_df, predictions_xgb)\n",
    "\n",
    "    direct_metrics_xgb = DirectMetrics(Y_test_df, predictions_xgb)\n",
    "    metrics_xgb = ComputeMetrics(Y_test_df, predictions_xgb)\n",
    "\n",
    "    \n",
    "    _dict[\"xgb\"][\"direct_metrics\"] = direct_metrics_xgb\n",
    "    _dict[\"xgb\"][\"metrics\"] = metrics_xgb\n",
    "    \n",
    "\n",
    "    print(\"*\" * 50)\n",
    "    print(\"*\" * 50)\n",
    "    print(_dict)\n",
    "    print(\"*\" * 50)  "
   ]
  },
  {
   "cell_type": "code",
   "execution_count": 5,
   "metadata": {
    "colab": {
     "base_uri": "https://localhost:8080/"
    },
    "executionInfo": {
     "elapsed": 489182,
     "status": "ok",
     "timestamp": 1675494260577,
     "user": {
      "displayName": "Arpita Srivastava",
      "userId": "00636623162827386168"
     },
     "user_tz": -330
    },
    "id": "26MV-Gry7u3i",
    "outputId": "05a3e246-8a9f-4117-d4ce-24b4fadc12c8"
   },
   "outputs": [
    {
     "name": "stdout",
     "output_type": "stream",
     "text": [
      "testing for 0\n",
      "**************************************************\n"
     ]
    },
    {
     "name": "stderr",
     "output_type": "stream",
     "text": [
      "UserWarning: Dask execution environment not yet initialized. Initializing...\n",
      "To remove this warning, run the following python code before doing dataframe operations:\n",
      "\n",
      "    from distributed import Client\n",
      "\n",
      "    client = Client()\n",
      "\n"
     ]
    },
    {
     "name": "stdout",
     "output_type": "stream",
     "text": [
      "(125976, 47) (22543, 47)\n",
      "Classification_Report : \n",
      "              precision    recall  f1-score   support\n",
      "\n",
      "           0       0.96      0.77      0.85      7458\n",
      "           1       0.67      0.97      0.79      9710\n",
      "           2       0.68      0.62      0.65      2421\n",
      "           3       0.97      0.14      0.25      2754\n",
      "           4       0.70      0.13      0.22       200\n",
      "\n",
      "    accuracy                           0.75     22543\n",
      "   macro avg       0.80      0.52      0.55     22543\n",
      "weighted avg       0.81      0.75      0.72     22543\n",
      "\n",
      "Accuracy: 75.45%\n",
      "**************************************************\n",
      "**************************************************\n",
      "{'xgb': {'direct_metrics': {'Direct_Precision': 0.8050444396396621, 'Direct_Recall': 0.7544692365701104, 'Direct_F1-Score': 0.724990842271438}, 'metrics': {'Sensitivity ': 0.5240946560435258, 'Specificity ': 0.9184425586674172, 'Precision ': 0.7970257443426221, 'Recall ': 0.5240946560435258, 'F1_Score ': 0.5512523199201207, 'FAR': 0.08155744133258283}}}\n",
      "**************************************************\n",
      "__________________________________________________\n",
      "**************************************************\n",
      "testing for 0.0001\n",
      "**************************************************\n",
      "(125987, 47) (22543, 47)\n",
      "Classification_Report : \n",
      "              precision    recall  f1-score   support\n",
      "\n",
      "           0       0.96      0.76      0.85      7458\n",
      "           1       0.69      0.97      0.80      9710\n",
      "           2       0.68      0.67      0.68      2421\n",
      "           3       0.97      0.19      0.31      2754\n",
      "           4       0.72      0.14      0.23       200\n",
      "\n",
      "    accuracy                           0.77     22543\n",
      "   macro avg       0.80      0.55      0.58     22543\n",
      "weighted avg       0.81      0.77      0.74     22543\n",
      "\n",
      "Accuracy: 76.54%\n",
      "**************************************************\n",
      "**************************************************\n",
      "{'xgb': {'direct_metrics': {'Direct_Precision': 0.8113089809340053, 'Direct_Recall': 0.7654260746129619, 'Direct_F1-Score': 0.7406565466110426}, 'metrics': {'Sensitivity ': 0.5453127789889474, 'Specificity ': 0.9225485448084477, 'Precision ': 0.8029225577290025, 'Recall ': 0.5453127789889474, 'F1_Score ': 0.5757118551270353, 'FAR': 0.07745145519155226}}}\n",
      "**************************************************\n",
      "__________________________________________________\n",
      "**************************************************\n",
      "testing for 0.001\n",
      "**************************************************\n",
      "(126099, 47) (22543, 47)\n",
      "Classification_Report : \n",
      "              precision    recall  f1-score   support\n",
      "\n",
      "           0       0.96      0.76      0.85      7458\n",
      "           1       0.69      0.97      0.80      9710\n",
      "           2       0.67      0.69      0.68      2421\n",
      "           3       0.97      0.14      0.25      2754\n",
      "           4       0.84      0.08      0.15       200\n",
      "\n",
      "    accuracy                           0.76     22543\n",
      "   macro avg       0.83      0.53      0.55     22543\n",
      "weighted avg       0.81      0.76      0.73     22543\n",
      "\n",
      "Accuracy: 76.25%\n",
      "**************************************************\n",
      "**************************************************\n",
      "{'xgb': {'direct_metrics': {'Direct_Precision': 0.8111010006828786, 'Direct_Recall': 0.7625426961806325, 'Direct_F1-Score': 0.7327074549323522}, 'metrics': {'Sensitivity ': 0.5289578370807837, 'Specificity ': 0.9218897724298689, 'Precision ': 0.8251636174301769, 'Recall ': 0.5289578370807837, 'F1_Score ': 0.545837409811651, 'FAR': 0.07811022757013103}}}\n",
      "**************************************************\n",
      "__________________________________________________\n",
      "**************************************************\n",
      "testing for 0.01\n",
      "**************************************************\n",
      "(127225, 47) (22543, 47)\n",
      "Classification_Report : \n",
      "              precision    recall  f1-score   support\n",
      "\n",
      "           0       0.96      0.78      0.86      7458\n",
      "           1       0.70      0.97      0.82      9710\n",
      "           2       0.67      0.68      0.68      2421\n",
      "           3       0.93      0.21      0.34      2754\n",
      "           4       0.47      0.12      0.19       200\n",
      "\n",
      "    accuracy                           0.77     22543\n",
      "   macro avg       0.75      0.55      0.58     22543\n",
      "weighted avg       0.81      0.77      0.75     22543\n",
      "\n",
      "Accuracy: 77.40%\n",
      "**************************************************\n",
      "**************************************************\n",
      "{'xgb': {'direct_metrics': {'Direct_Precision': 0.8100296075189017, 'Direct_Recall': 0.7740318502417602, 'Direct_F1-Score': 0.7506528363347137}, 'metrics': {'Sensitivity ': 0.5507714714978211, 'Specificity ': 0.9262277177137564, 'Precision ': 0.7464721742192137, 'Recall ': 0.5507714714978211, 'F1_Score ': 0.5753730253386664, 'FAR': 0.07377228228624362}}}\n",
      "**************************************************\n",
      "__________________________________________________\n",
      "**************************************************\n",
      "testing for 0.1\n",
      "**************************************************\n",
      "(138483, 47) (22543, 47)\n",
      "Classification_Report : \n",
      "              precision    recall  f1-score   support\n",
      "\n",
      "           0       0.96      0.76      0.85      7458\n",
      "           1       0.71      0.97      0.82      9710\n",
      "           2       0.71      0.82      0.76      2421\n",
      "           3       0.95      0.18      0.30      2754\n",
      "           4       0.53      0.10      0.17       200\n",
      "\n",
      "    accuracy                           0.78     22543\n",
      "   macro avg       0.77      0.57      0.58     22543\n",
      "weighted avg       0.82      0.78      0.76     22543\n",
      "\n",
      "Accuracy: 78.15%\n",
      "**************************************************\n",
      "**************************************************\n",
      "{'xgb': {'direct_metrics': {'Direct_Precision': 0.8206819317314339, 'Direct_Recall': 0.7814842744976268, 'Direct_F1-Score': 0.7551342371117015}, 'metrics': {'Sensitivity ': 0.5672004466598433, 'Specificity ': 0.9285765669485715, 'Precision ': 0.7721254626447762, 'Recall ': 0.5672004466598433, 'F1_Score ': 0.5812450503532152, 'FAR': 0.07142343305142856}}}\n",
      "**************************************************\n",
      "__________________________________________________\n",
      "**************************************************\n",
      "testing for 0.2\n",
      "**************************************************\n",
      "(150991, 47) (22543, 47)\n",
      "Classification_Report : \n",
      "              precision    recall  f1-score   support\n",
      "\n",
      "           0       0.95      0.77      0.85      7458\n",
      "           1       0.69      0.97      0.81      9710\n",
      "           2       0.77      0.68      0.72      2421\n",
      "           3       0.96      0.20      0.33      2754\n",
      "           4       0.21      0.16      0.18       200\n",
      "\n",
      "    accuracy                           0.77     22543\n",
      "   macro avg       0.72      0.56      0.58     22543\n",
      "weighted avg       0.81      0.77      0.75     22543\n",
      "\n",
      "Accuracy: 77.27%\n",
      "**************************************************\n",
      "**************************************************\n",
      "{'xgb': {'direct_metrics': {'Direct_Precision': 0.814895366616599, 'Direct_Recall': 0.7727454198642594, 'Direct_F1-Score': 0.7498360110158991}, 'metrics': {'Sensitivity ': 0.5569197130348995, 'Specificity ': 0.9245829026492862, 'Precision ': 0.716621411075765, 'Recall ': 0.5569197130348995, 'F1_Score ': 0.5789853770819092, 'FAR': 0.07541709735071374}}}\n",
      "**************************************************\n",
      "__________________________________________________\n",
      "**************************************************\n",
      "testing for 0.3\n",
      "**************************************************\n",
      "(163498, 47) (22543, 47)\n",
      "Classification_Report : \n",
      "              precision    recall  f1-score   support\n",
      "\n",
      "           0       0.96      0.76      0.85      7458\n",
      "           1       0.70      0.97      0.81      9710\n",
      "           2       0.69      0.70      0.70      2421\n",
      "           3       0.98      0.27      0.42      2754\n",
      "           4       0.50      0.17      0.25       200\n",
      "\n",
      "    accuracy                           0.78     22543\n",
      "   macro avg       0.77      0.57      0.60     22543\n",
      "weighted avg       0.82      0.78      0.76     22543\n",
      "\n",
      "Accuracy: 77.67%\n",
      "**************************************************\n",
      "**************************************************\n",
      "{'xgb': {'direct_metrics': {'Direct_Precision': 0.817444249328282, 'Direct_Recall': 0.7767377900013308, 'Direct_F1-Score': 0.7588209937167959}, 'metrics': {'Sensitivity ': 0.5714082299507482, 'Specificity ': 0.9266506817995064, 'Precision ': 0.7661148618033574, 'Recall ': 0.5714082299507482, 'F1_Score ': 0.60494573018946, 'FAR': 0.07334931820049376}}}\n",
      "**************************************************\n",
      "__________________________________________________\n",
      "**************************************************\n",
      "testing for 0.4\n",
      "**************************************************\n",
      "(176006, 47) (22543, 47)\n",
      "Classification_Report : \n",
      "              precision    recall  f1-score   support\n",
      "\n",
      "           0       0.96      0.77      0.86      7458\n",
      "           1       0.70      0.97      0.81      9710\n",
      "           2       0.73      0.69      0.71      2421\n",
      "           3       0.96      0.24      0.38      2754\n",
      "           4       0.39      0.20      0.26       200\n",
      "\n",
      "    accuracy                           0.78     22543\n",
      "   macro avg       0.75      0.57      0.61     22543\n",
      "weighted avg       0.82      0.78      0.76     22543\n",
      "\n",
      "Accuracy: 77.80%\n",
      "**************************************************\n",
      "**************************************************\n",
      "{'xgb': {'direct_metrics': {'Direct_Precision': 0.817758486059193, 'Direct_Recall': 0.7779798607106418, 'Direct_F1-Score': 0.7583906097250196}, 'metrics': {'Sensitivity ': 0.5746866797951745, 'Specificity ': 0.9266381571737206, 'Precision ': 0.74800788515848, 'Recall ': 0.5746866797951745, 'F1_Score ': 0.6053051962820779, 'FAR': 0.07336184282627936}}}\n",
      "**************************************************\n",
      "__________________________________________________\n",
      "**************************************************\n",
      "testing for 0.5\n",
      "**************************************************\n",
      "(188514, 47) (22543, 47)\n",
      "Classification_Report : \n",
      "              precision    recall  f1-score   support\n",
      "\n",
      "           0       0.96      0.78      0.86      7458\n",
      "           1       0.69      0.97      0.81      9710\n",
      "           2       0.73      0.67      0.70      2421\n",
      "           3       0.98      0.22      0.35      2754\n",
      "           4       0.44      0.15      0.22       200\n",
      "\n",
      "    accuracy                           0.77     22543\n",
      "   macro avg       0.76      0.56      0.59     22543\n",
      "weighted avg       0.82      0.77      0.75     22543\n",
      "\n",
      "Accuracy: 77.38%\n",
      "**************************************************\n",
      "**************************************************\n",
      "{'xgb': {'direct_metrics': {'Direct_Precision': 0.8168197261658326, 'Direct_Recall': 0.7738100519008118, 'Direct_F1-Score': 0.7517537658978221}, 'metrics': {'Sensitivity ': 0.5568798923253722, 'Specificity ': 0.9248534410905693, 'Precision ': 0.7598985504179698, 'Recall ': 0.5568798923253722, 'F1_Score ': 0.5886770726269828, 'FAR': 0.07514655890943069}}}\n",
      "**************************************************\n",
      "__________________________________________________\n",
      "**************************************************\n",
      "testing for 0.6\n",
      "**************************************************\n",
      "(201022, 47) (22543, 47)\n",
      "Classification_Report : \n",
      "              precision    recall  f1-score   support\n",
      "\n",
      "           0       0.96      0.78      0.86      7458\n",
      "           1       0.70      0.97      0.81      9710\n",
      "           2       0.75      0.69      0.72      2421\n",
      "           3       0.97      0.22      0.37      2754\n",
      "           4       0.25      0.20      0.22       200\n",
      "\n",
      "    accuracy                           0.78     22543\n",
      "   macro avg       0.73      0.57      0.60     22543\n",
      "weighted avg       0.82      0.78      0.76     22543\n",
      "\n",
      "Accuracy: 77.87%\n",
      "**************************************************\n",
      "**************************************************\n",
      "{'xgb': {'direct_metrics': {'Direct_Precision': 0.8200822374208471, 'Direct_Recall': 0.7787339750698665, 'Direct_F1-Score': 0.758301754342641}, 'metrics': {'Sensitivity ': 0.5721236411356927, 'Specificity ': 0.9267781441291717, 'Precision ': 0.7274005408771503, 'Recall ': 0.5721236411356927, 'F1_Score ': 0.5958997310053908, 'FAR': 0.07322185587082818}}}\n",
      "**************************************************\n",
      "__________________________________________________\n",
      "**************************************************\n",
      "testing for 0.7\n",
      "**************************************************\n",
      "(213529, 47) (22543, 47)\n",
      "Classification_Report : \n",
      "              precision    recall  f1-score   support\n",
      "\n",
      "           0       0.96      0.78      0.86      7458\n",
      "           1       0.70      0.97      0.81      9710\n",
      "           2       0.78      0.75      0.77      2421\n",
      "           3       0.96      0.22      0.36      2754\n",
      "           4       0.34      0.12      0.18       200\n",
      "\n",
      "    accuracy                           0.79     22543\n",
      "   macro avg       0.75      0.57      0.60     22543\n",
      "weighted avg       0.82      0.79      0.76     22543\n",
      "\n",
      "Accuracy: 78.59%\n",
      "**************************************************\n",
      "**************************************************\n",
      "{'xgb': {'direct_metrics': {'Direct_Precision': 0.8244341563571203, 'Direct_Recall': 0.7858758816484053, 'Direct_F1-Score': 0.7637707624387321}, 'metrics': {'Sensitivity ': 0.5699306446153154, 'Specificity ': 0.9286874306581806, 'Precision ': 0.7488668531565833, 'Recall ': 0.5699306446153154, 'F1_Score ': 0.5963693903541836, 'FAR': 0.07131256934181933}}}\n",
      "**************************************************\n",
      "__________________________________________________\n",
      "**************************************************\n",
      "testing for 0.8\n",
      "**************************************************\n",
      "(226037, 47) (22543, 47)\n",
      "Classification_Report : \n",
      "              precision    recall  f1-score   support\n",
      "\n",
      "           0       0.96      0.79      0.87      7458\n",
      "           1       0.71      0.97      0.82      9710\n",
      "           2       0.76      0.71      0.73      2421\n",
      "           3       0.97      0.30      0.45      2754\n",
      "           4       0.30      0.13      0.18       200\n",
      "\n",
      "    accuracy                           0.79     22543\n",
      "   macro avg       0.74      0.58      0.61     22543\n",
      "weighted avg       0.83      0.79      0.78     22543\n",
      "\n",
      "Accuracy: 79.25%\n",
      "**************************************************\n",
      "**************************************************\n",
      "{'xgb': {'direct_metrics': {'Direct_Precision': 0.8267258224694016, 'Direct_Recall': 0.7924854722086678, 'Direct_F1-Score': 0.7763548409168959}, 'metrics': {'Sensitivity ': 0.5791940311825463, 'Specificity ': 0.9312955470317682, 'Precision ': 0.739396094968862, 'Recall ': 0.5791940311825463, 'F1_Score ': 0.6114604236410208, 'FAR': 0.06870445296823176}}}\n",
      "**************************************************\n",
      "__________________________________________________\n",
      "**************************************************\n",
      "testing for 0.9\n",
      "**************************************************\n",
      "(238544, 47) (22543, 47)\n",
      "Classification_Report : \n",
      "              precision    recall  f1-score   support\n",
      "\n",
      "           0       0.96      0.78      0.86      7458\n",
      "           1       0.70      0.97      0.82      9710\n",
      "           2       0.81      0.78      0.80      2421\n",
      "           3       0.97      0.25      0.39      2754\n",
      "           4       0.37      0.10      0.15       200\n",
      "\n",
      "    accuracy                           0.79     22543\n",
      "   macro avg       0.76      0.57      0.60     22543\n",
      "weighted avg       0.83      0.79      0.77     22543\n",
      "\n",
      "Accuracy: 78.98%\n",
      "**************************************************\n",
      "**************************************************\n",
      "{'xgb': {'direct_metrics': {'Direct_Precision': 0.8286349429927358, 'Direct_Recall': 0.789823892117287, 'Direct_F1-Score': 0.769700168866064}, 'metrics': {'Sensitivity ': 0.5744649368419139, 'Specificity ': 0.9296404217502768, 'Precision ': 0.762546996110799, 'Recall ': 0.5744649368419139, 'F1_Score ': 0.6025266951492638, 'FAR': 0.07035957824972319}}}\n",
      "**************************************************\n",
      "__________________________________________________\n",
      "**************************************************\n",
      "testing for 1.0\n",
      "**************************************************\n",
      "(251054, 47) (22543, 47)\n",
      "Classification_Report : \n",
      "              precision    recall  f1-score   support\n",
      "\n",
      "           0       0.96      0.79      0.86      7458\n",
      "           1       0.72      0.97      0.83      9710\n",
      "           2       0.79      0.79      0.79      2421\n",
      "           3       0.96      0.28      0.43      2754\n",
      "           4       0.34      0.14      0.20       200\n",
      "\n",
      "    accuracy                           0.80     22543\n",
      "   macro avg       0.75      0.59      0.62     22543\n",
      "weighted avg       0.83      0.80      0.78     22543\n",
      "\n",
      "Accuracy: 79.79%\n",
      "**************************************************\n",
      "**************************************************\n",
      "{'xgb': {'direct_metrics': {'Direct_Precision': 0.8316870737068682, 'Direct_Recall': 0.7979417113959988, 'Direct_F1-Score': 0.780419065472956}, 'metrics': {'Sensitivity ': 0.5924702722628286, 'Specificity ': 0.932988884986918, 'Precision ': 0.7539134080502999, 'Recall ': 0.5924702722628286, 'F1_Score ': 0.6216008152483268, 'FAR': 0.067011115013082}}}\n",
      "**************************************************\n",
      "__________________________________________________\n",
      "**************************************************\n"
     ]
    }
   ],
   "source": [
    "for pct in [0, 0.0001, 0.001, 0.01, .1, .2, .3, .4, .5, .6, .7, .8, .9, 1.0]:\n",
    "    print(f\"testing for {pct}\")\n",
    "    print(\"*\" * 50)\n",
    "    X_train_df, Y_train_df, X_test_df, Y_test_df = get_train_test_data(pct)\n",
    "    train_models(X_train_df, Y_train_df, X_test_df, Y_test_df)\n",
    "    print(\"_\" * 50) \n",
    "    print(\"*\" * 50)"
   ]
  },
  {
   "cell_type": "code",
   "execution_count": null,
   "metadata": {
    "id": "ynBrHCFC8MBb"
   },
   "outputs": [],
   "source": [
    "###############################################################################################################################################"
   ]
  }
 ],
 "metadata": {
  "accelerator": "GPU",
  "colab": {
   "provenance": []
  },
  "gpuClass": "standard",
  "kernelspec": {
   "display_name": "Python 3 (ipykernel)",
   "language": "python",
   "name": "python3"
  },
  "language_info": {
   "codemirror_mode": {
    "name": "ipython",
    "version": 3
   },
   "file_extension": ".py",
   "mimetype": "text/x-python",
   "name": "python",
   "nbconvert_exporter": "python",
   "pygments_lexer": "ipython3",
   "version": "3.9.12"
  }
 },
 "nbformat": 4,
 "nbformat_minor": 1
}
